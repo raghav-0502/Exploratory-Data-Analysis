{
  "nbformat": 4,
  "nbformat_minor": 0,
  "metadata": {
    "colab": {
      "provenance": [],
      "toc_visible": true,
      "collapsed_sections": [
        "cPlpA_pzet14",
        "2knaUbppejDk"
      ]
    },
    "kernelspec": {
      "name": "python3",
      "display_name": "Python 3"
    },
    "language_info": {
      "name": "python"
    }
  },
  "cells": [
    {
      "cell_type": "markdown",
      "source": [
        "## **About the Dataset**\n",
        "###### This is a countrywide car accident dataset, which covers 49 states of the USA. Currently, there are about 2.8 million accident records in this dataset."
      ],
      "metadata": {
        "id": "saP8oULEZSfM"
      }
    },
    {
      "cell_type": "markdown",
      "source": [
        "##**Downloading the Dataset** \n",
        "###### Link - https://www.kaggle.com/datasets/sobhanmoosavi/us-accidents"
      ],
      "metadata": {
        "id": "mW1NF1RzYhZb"
      }
    },
    {
      "cell_type": "code",
      "execution_count": null,
      "metadata": {
        "colab": {
          "base_uri": "https://localhost:8080/"
        },
        "id": "8hJVRt5bYHTk",
        "outputId": "0f5d6801-8ca6-4e07-d4b4-f3df60fb5beb"
      },
      "outputs": [
        {
          "output_type": "stream",
          "name": "stdout",
          "text": [
            "Looking in indexes: https://pypi.org/simple, https://us-python.pkg.dev/colab-wheels/public/simple/\n",
            "Collecting opendatasets\n",
            "  Downloading opendatasets-0.1.22-py3-none-any.whl (15 kB)\n",
            "Requirement already satisfied: kaggle in /usr/local/lib/python3.7/dist-packages (from opendatasets) (1.5.12)\n",
            "Requirement already satisfied: click in /usr/local/lib/python3.7/dist-packages (from opendatasets) (7.1.2)\n",
            "Requirement already satisfied: tqdm in /usr/local/lib/python3.7/dist-packages (from opendatasets) (4.64.1)\n",
            "Requirement already satisfied: six>=1.10 in /usr/local/lib/python3.7/dist-packages (from kaggle->opendatasets) (1.15.0)\n",
            "Requirement already satisfied: certifi in /usr/local/lib/python3.7/dist-packages (from kaggle->opendatasets) (2022.9.24)\n",
            "Requirement already satisfied: python-slugify in /usr/local/lib/python3.7/dist-packages (from kaggle->opendatasets) (6.1.2)\n",
            "Requirement already satisfied: urllib3 in /usr/local/lib/python3.7/dist-packages (from kaggle->opendatasets) (1.24.3)\n",
            "Requirement already satisfied: requests in /usr/local/lib/python3.7/dist-packages (from kaggle->opendatasets) (2.23.0)\n",
            "Requirement already satisfied: python-dateutil in /usr/local/lib/python3.7/dist-packages (from kaggle->opendatasets) (2.8.2)\n",
            "Requirement already satisfied: text-unidecode>=1.3 in /usr/local/lib/python3.7/dist-packages (from python-slugify->kaggle->opendatasets) (1.3)\n",
            "Requirement already satisfied: idna<3,>=2.5 in /usr/local/lib/python3.7/dist-packages (from requests->kaggle->opendatasets) (2.10)\n",
            "Requirement already satisfied: chardet<4,>=3.0.2 in /usr/local/lib/python3.7/dist-packages (from requests->kaggle->opendatasets) (3.0.4)\n",
            "Installing collected packages: opendatasets\n",
            "Successfully installed opendatasets-0.1.22\n"
          ]
        }
      ],
      "source": [
        "pip install opendatasets --upgrade "
      ]
    },
    {
      "cell_type": "code",
      "source": [
        "import opendatasets as od\n",
        "\n",
        "data_url = 'https://www.kaggle.com/datasets/sobhanmoosavi/us-accidents'\n",
        "\n",
        "od.download(data_url)\n"
      ],
      "metadata": {
        "colab": {
          "base_uri": "https://localhost:8080/"
        },
        "id": "-I6Vvjz4ZsoI",
        "outputId": "6a821f17-d500-46a6-c295-e593a01209de"
      },
      "execution_count": null,
      "outputs": [
        {
          "output_type": "stream",
          "name": "stdout",
          "text": [
            "Please provide your Kaggle credentials to download this dataset. Learn more: http://bit.ly/kaggle-creds\n",
            "Your Kaggle username: raghavguptadsce\n",
            "Your Kaggle Key: ··········\n",
            "Downloading us-accidents.zip to ./us-accidents\n"
          ]
        },
        {
          "output_type": "stream",
          "name": "stderr",
          "text": [
            "100%|██████████| 269M/269M [00:12<00:00, 23.1MB/s]\n"
          ]
        },
        {
          "output_type": "stream",
          "name": "stdout",
          "text": [
            "\n"
          ]
        }
      ]
    },
    {
      "cell_type": "code",
      "source": [
        "data_filename = './us-accidents/US_Accidents_Dec21_updated.csv'"
      ],
      "metadata": {
        "id": "aMNZeNKYYgYq"
      },
      "execution_count": null,
      "outputs": []
    },
    {
      "cell_type": "markdown",
      "source": [
        "## **Data Preparartion and Cleaning**\n",
        "\n",
        "*   Load file using pandas\n",
        "*   Look at some information about the data and columns\n",
        "*   Fixing if any errors\n",
        "\n",
        "\n",
        "\n"
      ],
      "metadata": {
        "id": "7wuah7PkcQJi"
      }
    },
    {
      "cell_type": "code",
      "source": [
        "import pandas as pd"
      ],
      "metadata": {
        "id": "T2jcC--Icoe0"
      },
      "execution_count": null,
      "outputs": []
    },
    {
      "cell_type": "code",
      "source": [
        "df = pd.read_csv(data_filename)"
      ],
      "metadata": {
        "id": "M1H-_rrcdADV"
      },
      "execution_count": null,
      "outputs": []
    },
    {
      "cell_type": "code",
      "source": [
        "df"
      ],
      "metadata": {
        "colab": {
          "base_uri": "https://localhost:8080/",
          "height": 939
        },
        "id": "ZpHPbA_FdJ1i",
        "outputId": "fb3ca100-ec01-449b-92df-34dc680edcdc"
      },
      "execution_count": null,
      "outputs": [
        {
          "output_type": "execute_result",
          "data": {
            "text/plain": [
              "                ID  Severity           Start_Time             End_Time  \\\n",
              "0              A-1         3  2016-02-08 00:37:08  2016-02-08 06:37:08   \n",
              "1              A-2         2  2016-02-08 05:56:20  2016-02-08 11:56:20   \n",
              "2              A-3         2  2016-02-08 06:15:39  2016-02-08 12:15:39   \n",
              "3              A-4         2  2016-02-08 06:51:45  2016-02-08 12:51:45   \n",
              "4              A-5         3  2016-02-08 07:53:43  2016-02-08 13:53:43   \n",
              "...            ...       ...                  ...                  ...   \n",
              "2845337  A-2845338         2  2019-08-23 18:03:25  2019-08-23 18:32:01   \n",
              "2845338  A-2845339         2  2019-08-23 19:11:30  2019-08-23 19:38:23   \n",
              "2845339  A-2845340         2  2019-08-23 19:00:21  2019-08-23 19:28:49   \n",
              "2845340  A-2845341         2  2019-08-23 19:00:21  2019-08-23 19:29:42   \n",
              "2845341  A-2845342         2  2019-08-23 18:52:06  2019-08-23 19:21:31   \n",
              "\n",
              "         Start_Lat   Start_Lng    End_Lat     End_Lng  Distance(mi)  \\\n",
              "0        40.108910  -83.092860  40.112060  -83.031870         3.230   \n",
              "1        39.865420  -84.062800  39.865010  -84.048730         0.747   \n",
              "2        39.102660  -84.524680  39.102090  -84.523960         0.055   \n",
              "3        41.062130  -81.537840  41.062170  -81.535470         0.123   \n",
              "4        39.172393  -84.492792  39.170476  -84.501798         0.500   \n",
              "...            ...         ...        ...         ...           ...   \n",
              "2845337  34.002480 -117.379360  33.998880 -117.370940         0.543   \n",
              "2845338  32.766960 -117.148060  32.765550 -117.153630         0.338   \n",
              "2845339  33.775450 -117.847790  33.777400 -117.857270         0.561   \n",
              "2845340  33.992460 -118.403020  33.983110 -118.395650         0.772   \n",
              "2845341  34.133930 -117.230920  34.137360 -117.239340         0.537   \n",
              "\n",
              "                                               Description  ...  Roundabout  \\\n",
              "0        Between Sawmill Rd/Exit 20 and OH-315/Olentang...  ...       False   \n",
              "1                       At OH-4/OH-235/Exit 41 - Accident.  ...       False   \n",
              "2                         At I-71/US-50/Exit 1 - Accident.  ...       False   \n",
              "3                          At Dart Ave/Exit 21 - Accident.  ...       False   \n",
              "4                       At Mitchell Ave/Exit 6 - Accident.  ...       False   \n",
              "...                                                    ...  ...         ...   \n",
              "2845337                           At Market St - Accident.  ...       False   \n",
              "2845338    At Camino Del Rio/Mission Center Rd - Accident.  ...       False   \n",
              "2845339  At Glassell St/Grand Ave - Accident. in the ri...  ...       False   \n",
              "2845340     At CA-90/Marina Fwy/Jefferson Blvd - Accident.  ...       False   \n",
              "2845341              At Highland Ave/Arden Ave - Accident.  ...       False   \n",
              "\n",
              "        Station   Stop Traffic_Calming Traffic_Signal Turning_Loop  \\\n",
              "0         False  False           False          False        False   \n",
              "1         False  False           False          False        False   \n",
              "2         False  False           False          False        False   \n",
              "3         False  False           False          False        False   \n",
              "4         False  False           False          False        False   \n",
              "...         ...    ...             ...            ...          ...   \n",
              "2845337   False  False           False          False        False   \n",
              "2845338   False  False           False          False        False   \n",
              "2845339   False  False           False          False        False   \n",
              "2845340   False  False           False          False        False   \n",
              "2845341   False  False           False          False        False   \n",
              "\n",
              "        Sunrise_Sunset Civil_Twilight Nautical_Twilight Astronomical_Twilight  \n",
              "0                Night          Night             Night                 Night  \n",
              "1                Night          Night             Night                 Night  \n",
              "2                Night          Night             Night                   Day  \n",
              "3                Night          Night               Day                   Day  \n",
              "4                  Day            Day               Day                   Day  \n",
              "...                ...            ...               ...                   ...  \n",
              "2845337            Day            Day               Day                   Day  \n",
              "2845338            Day            Day               Day                   Day  \n",
              "2845339            Day            Day               Day                   Day  \n",
              "2845340            Day            Day               Day                   Day  \n",
              "2845341            Day            Day               Day                   Day  \n",
              "\n",
              "[2845342 rows x 47 columns]"
            ],
            "text/html": [
              "\n",
              "  <div id=\"df-6ad3989d-9fc9-4e7f-a12b-83f2fb44a69b\">\n",
              "    <div class=\"colab-df-container\">\n",
              "      <div>\n",
              "<style scoped>\n",
              "    .dataframe tbody tr th:only-of-type {\n",
              "        vertical-align: middle;\n",
              "    }\n",
              "\n",
              "    .dataframe tbody tr th {\n",
              "        vertical-align: top;\n",
              "    }\n",
              "\n",
              "    .dataframe thead th {\n",
              "        text-align: right;\n",
              "    }\n",
              "</style>\n",
              "<table border=\"1\" class=\"dataframe\">\n",
              "  <thead>\n",
              "    <tr style=\"text-align: right;\">\n",
              "      <th></th>\n",
              "      <th>ID</th>\n",
              "      <th>Severity</th>\n",
              "      <th>Start_Time</th>\n",
              "      <th>End_Time</th>\n",
              "      <th>Start_Lat</th>\n",
              "      <th>Start_Lng</th>\n",
              "      <th>End_Lat</th>\n",
              "      <th>End_Lng</th>\n",
              "      <th>Distance(mi)</th>\n",
              "      <th>Description</th>\n",
              "      <th>...</th>\n",
              "      <th>Roundabout</th>\n",
              "      <th>Station</th>\n",
              "      <th>Stop</th>\n",
              "      <th>Traffic_Calming</th>\n",
              "      <th>Traffic_Signal</th>\n",
              "      <th>Turning_Loop</th>\n",
              "      <th>Sunrise_Sunset</th>\n",
              "      <th>Civil_Twilight</th>\n",
              "      <th>Nautical_Twilight</th>\n",
              "      <th>Astronomical_Twilight</th>\n",
              "    </tr>\n",
              "  </thead>\n",
              "  <tbody>\n",
              "    <tr>\n",
              "      <th>0</th>\n",
              "      <td>A-1</td>\n",
              "      <td>3</td>\n",
              "      <td>2016-02-08 00:37:08</td>\n",
              "      <td>2016-02-08 06:37:08</td>\n",
              "      <td>40.108910</td>\n",
              "      <td>-83.092860</td>\n",
              "      <td>40.112060</td>\n",
              "      <td>-83.031870</td>\n",
              "      <td>3.230</td>\n",
              "      <td>Between Sawmill Rd/Exit 20 and OH-315/Olentang...</td>\n",
              "      <td>...</td>\n",
              "      <td>False</td>\n",
              "      <td>False</td>\n",
              "      <td>False</td>\n",
              "      <td>False</td>\n",
              "      <td>False</td>\n",
              "      <td>False</td>\n",
              "      <td>Night</td>\n",
              "      <td>Night</td>\n",
              "      <td>Night</td>\n",
              "      <td>Night</td>\n",
              "    </tr>\n",
              "    <tr>\n",
              "      <th>1</th>\n",
              "      <td>A-2</td>\n",
              "      <td>2</td>\n",
              "      <td>2016-02-08 05:56:20</td>\n",
              "      <td>2016-02-08 11:56:20</td>\n",
              "      <td>39.865420</td>\n",
              "      <td>-84.062800</td>\n",
              "      <td>39.865010</td>\n",
              "      <td>-84.048730</td>\n",
              "      <td>0.747</td>\n",
              "      <td>At OH-4/OH-235/Exit 41 - Accident.</td>\n",
              "      <td>...</td>\n",
              "      <td>False</td>\n",
              "      <td>False</td>\n",
              "      <td>False</td>\n",
              "      <td>False</td>\n",
              "      <td>False</td>\n",
              "      <td>False</td>\n",
              "      <td>Night</td>\n",
              "      <td>Night</td>\n",
              "      <td>Night</td>\n",
              "      <td>Night</td>\n",
              "    </tr>\n",
              "    <tr>\n",
              "      <th>2</th>\n",
              "      <td>A-3</td>\n",
              "      <td>2</td>\n",
              "      <td>2016-02-08 06:15:39</td>\n",
              "      <td>2016-02-08 12:15:39</td>\n",
              "      <td>39.102660</td>\n",
              "      <td>-84.524680</td>\n",
              "      <td>39.102090</td>\n",
              "      <td>-84.523960</td>\n",
              "      <td>0.055</td>\n",
              "      <td>At I-71/US-50/Exit 1 - Accident.</td>\n",
              "      <td>...</td>\n",
              "      <td>False</td>\n",
              "      <td>False</td>\n",
              "      <td>False</td>\n",
              "      <td>False</td>\n",
              "      <td>False</td>\n",
              "      <td>False</td>\n",
              "      <td>Night</td>\n",
              "      <td>Night</td>\n",
              "      <td>Night</td>\n",
              "      <td>Day</td>\n",
              "    </tr>\n",
              "    <tr>\n",
              "      <th>3</th>\n",
              "      <td>A-4</td>\n",
              "      <td>2</td>\n",
              "      <td>2016-02-08 06:51:45</td>\n",
              "      <td>2016-02-08 12:51:45</td>\n",
              "      <td>41.062130</td>\n",
              "      <td>-81.537840</td>\n",
              "      <td>41.062170</td>\n",
              "      <td>-81.535470</td>\n",
              "      <td>0.123</td>\n",
              "      <td>At Dart Ave/Exit 21 - Accident.</td>\n",
              "      <td>...</td>\n",
              "      <td>False</td>\n",
              "      <td>False</td>\n",
              "      <td>False</td>\n",
              "      <td>False</td>\n",
              "      <td>False</td>\n",
              "      <td>False</td>\n",
              "      <td>Night</td>\n",
              "      <td>Night</td>\n",
              "      <td>Day</td>\n",
              "      <td>Day</td>\n",
              "    </tr>\n",
              "    <tr>\n",
              "      <th>4</th>\n",
              "      <td>A-5</td>\n",
              "      <td>3</td>\n",
              "      <td>2016-02-08 07:53:43</td>\n",
              "      <td>2016-02-08 13:53:43</td>\n",
              "      <td>39.172393</td>\n",
              "      <td>-84.492792</td>\n",
              "      <td>39.170476</td>\n",
              "      <td>-84.501798</td>\n",
              "      <td>0.500</td>\n",
              "      <td>At Mitchell Ave/Exit 6 - Accident.</td>\n",
              "      <td>...</td>\n",
              "      <td>False</td>\n",
              "      <td>False</td>\n",
              "      <td>False</td>\n",
              "      <td>False</td>\n",
              "      <td>False</td>\n",
              "      <td>False</td>\n",
              "      <td>Day</td>\n",
              "      <td>Day</td>\n",
              "      <td>Day</td>\n",
              "      <td>Day</td>\n",
              "    </tr>\n",
              "    <tr>\n",
              "      <th>...</th>\n",
              "      <td>...</td>\n",
              "      <td>...</td>\n",
              "      <td>...</td>\n",
              "      <td>...</td>\n",
              "      <td>...</td>\n",
              "      <td>...</td>\n",
              "      <td>...</td>\n",
              "      <td>...</td>\n",
              "      <td>...</td>\n",
              "      <td>...</td>\n",
              "      <td>...</td>\n",
              "      <td>...</td>\n",
              "      <td>...</td>\n",
              "      <td>...</td>\n",
              "      <td>...</td>\n",
              "      <td>...</td>\n",
              "      <td>...</td>\n",
              "      <td>...</td>\n",
              "      <td>...</td>\n",
              "      <td>...</td>\n",
              "      <td>...</td>\n",
              "    </tr>\n",
              "    <tr>\n",
              "      <th>2845337</th>\n",
              "      <td>A-2845338</td>\n",
              "      <td>2</td>\n",
              "      <td>2019-08-23 18:03:25</td>\n",
              "      <td>2019-08-23 18:32:01</td>\n",
              "      <td>34.002480</td>\n",
              "      <td>-117.379360</td>\n",
              "      <td>33.998880</td>\n",
              "      <td>-117.370940</td>\n",
              "      <td>0.543</td>\n",
              "      <td>At Market St - Accident.</td>\n",
              "      <td>...</td>\n",
              "      <td>False</td>\n",
              "      <td>False</td>\n",
              "      <td>False</td>\n",
              "      <td>False</td>\n",
              "      <td>False</td>\n",
              "      <td>False</td>\n",
              "      <td>Day</td>\n",
              "      <td>Day</td>\n",
              "      <td>Day</td>\n",
              "      <td>Day</td>\n",
              "    </tr>\n",
              "    <tr>\n",
              "      <th>2845338</th>\n",
              "      <td>A-2845339</td>\n",
              "      <td>2</td>\n",
              "      <td>2019-08-23 19:11:30</td>\n",
              "      <td>2019-08-23 19:38:23</td>\n",
              "      <td>32.766960</td>\n",
              "      <td>-117.148060</td>\n",
              "      <td>32.765550</td>\n",
              "      <td>-117.153630</td>\n",
              "      <td>0.338</td>\n",
              "      <td>At Camino Del Rio/Mission Center Rd - Accident.</td>\n",
              "      <td>...</td>\n",
              "      <td>False</td>\n",
              "      <td>False</td>\n",
              "      <td>False</td>\n",
              "      <td>False</td>\n",
              "      <td>False</td>\n",
              "      <td>False</td>\n",
              "      <td>Day</td>\n",
              "      <td>Day</td>\n",
              "      <td>Day</td>\n",
              "      <td>Day</td>\n",
              "    </tr>\n",
              "    <tr>\n",
              "      <th>2845339</th>\n",
              "      <td>A-2845340</td>\n",
              "      <td>2</td>\n",
              "      <td>2019-08-23 19:00:21</td>\n",
              "      <td>2019-08-23 19:28:49</td>\n",
              "      <td>33.775450</td>\n",
              "      <td>-117.847790</td>\n",
              "      <td>33.777400</td>\n",
              "      <td>-117.857270</td>\n",
              "      <td>0.561</td>\n",
              "      <td>At Glassell St/Grand Ave - Accident. in the ri...</td>\n",
              "      <td>...</td>\n",
              "      <td>False</td>\n",
              "      <td>False</td>\n",
              "      <td>False</td>\n",
              "      <td>False</td>\n",
              "      <td>False</td>\n",
              "      <td>False</td>\n",
              "      <td>Day</td>\n",
              "      <td>Day</td>\n",
              "      <td>Day</td>\n",
              "      <td>Day</td>\n",
              "    </tr>\n",
              "    <tr>\n",
              "      <th>2845340</th>\n",
              "      <td>A-2845341</td>\n",
              "      <td>2</td>\n",
              "      <td>2019-08-23 19:00:21</td>\n",
              "      <td>2019-08-23 19:29:42</td>\n",
              "      <td>33.992460</td>\n",
              "      <td>-118.403020</td>\n",
              "      <td>33.983110</td>\n",
              "      <td>-118.395650</td>\n",
              "      <td>0.772</td>\n",
              "      <td>At CA-90/Marina Fwy/Jefferson Blvd - Accident.</td>\n",
              "      <td>...</td>\n",
              "      <td>False</td>\n",
              "      <td>False</td>\n",
              "      <td>False</td>\n",
              "      <td>False</td>\n",
              "      <td>False</td>\n",
              "      <td>False</td>\n",
              "      <td>Day</td>\n",
              "      <td>Day</td>\n",
              "      <td>Day</td>\n",
              "      <td>Day</td>\n",
              "    </tr>\n",
              "    <tr>\n",
              "      <th>2845341</th>\n",
              "      <td>A-2845342</td>\n",
              "      <td>2</td>\n",
              "      <td>2019-08-23 18:52:06</td>\n",
              "      <td>2019-08-23 19:21:31</td>\n",
              "      <td>34.133930</td>\n",
              "      <td>-117.230920</td>\n",
              "      <td>34.137360</td>\n",
              "      <td>-117.239340</td>\n",
              "      <td>0.537</td>\n",
              "      <td>At Highland Ave/Arden Ave - Accident.</td>\n",
              "      <td>...</td>\n",
              "      <td>False</td>\n",
              "      <td>False</td>\n",
              "      <td>False</td>\n",
              "      <td>False</td>\n",
              "      <td>False</td>\n",
              "      <td>False</td>\n",
              "      <td>Day</td>\n",
              "      <td>Day</td>\n",
              "      <td>Day</td>\n",
              "      <td>Day</td>\n",
              "    </tr>\n",
              "  </tbody>\n",
              "</table>\n",
              "<p>2845342 rows × 47 columns</p>\n",
              "</div>\n",
              "      <button class=\"colab-df-convert\" onclick=\"convertToInteractive('df-6ad3989d-9fc9-4e7f-a12b-83f2fb44a69b')\"\n",
              "              title=\"Convert this dataframe to an interactive table.\"\n",
              "              style=\"display:none;\">\n",
              "        \n",
              "  <svg xmlns=\"http://www.w3.org/2000/svg\" height=\"24px\"viewBox=\"0 0 24 24\"\n",
              "       width=\"24px\">\n",
              "    <path d=\"M0 0h24v24H0V0z\" fill=\"none\"/>\n",
              "    <path d=\"M18.56 5.44l.94 2.06.94-2.06 2.06-.94-2.06-.94-.94-2.06-.94 2.06-2.06.94zm-11 1L8.5 8.5l.94-2.06 2.06-.94-2.06-.94L8.5 2.5l-.94 2.06-2.06.94zm10 10l.94 2.06.94-2.06 2.06-.94-2.06-.94-.94-2.06-.94 2.06-2.06.94z\"/><path d=\"M17.41 7.96l-1.37-1.37c-.4-.4-.92-.59-1.43-.59-.52 0-1.04.2-1.43.59L10.3 9.45l-7.72 7.72c-.78.78-.78 2.05 0 2.83L4 21.41c.39.39.9.59 1.41.59.51 0 1.02-.2 1.41-.59l7.78-7.78 2.81-2.81c.8-.78.8-2.07 0-2.86zM5.41 20L4 18.59l7.72-7.72 1.47 1.35L5.41 20z\"/>\n",
              "  </svg>\n",
              "      </button>\n",
              "      \n",
              "  <style>\n",
              "    .colab-df-container {\n",
              "      display:flex;\n",
              "      flex-wrap:wrap;\n",
              "      gap: 12px;\n",
              "    }\n",
              "\n",
              "    .colab-df-convert {\n",
              "      background-color: #E8F0FE;\n",
              "      border: none;\n",
              "      border-radius: 50%;\n",
              "      cursor: pointer;\n",
              "      display: none;\n",
              "      fill: #1967D2;\n",
              "      height: 32px;\n",
              "      padding: 0 0 0 0;\n",
              "      width: 32px;\n",
              "    }\n",
              "\n",
              "    .colab-df-convert:hover {\n",
              "      background-color: #E2EBFA;\n",
              "      box-shadow: 0px 1px 2px rgba(60, 64, 67, 0.3), 0px 1px 3px 1px rgba(60, 64, 67, 0.15);\n",
              "      fill: #174EA6;\n",
              "    }\n",
              "\n",
              "    [theme=dark] .colab-df-convert {\n",
              "      background-color: #3B4455;\n",
              "      fill: #D2E3FC;\n",
              "    }\n",
              "\n",
              "    [theme=dark] .colab-df-convert:hover {\n",
              "      background-color: #434B5C;\n",
              "      box-shadow: 0px 1px 3px 1px rgba(0, 0, 0, 0.15);\n",
              "      filter: drop-shadow(0px 1px 2px rgba(0, 0, 0, 0.3));\n",
              "      fill: #FFFFFF;\n",
              "    }\n",
              "  </style>\n",
              "\n",
              "      <script>\n",
              "        const buttonEl =\n",
              "          document.querySelector('#df-6ad3989d-9fc9-4e7f-a12b-83f2fb44a69b button.colab-df-convert');\n",
              "        buttonEl.style.display =\n",
              "          google.colab.kernel.accessAllowed ? 'block' : 'none';\n",
              "\n",
              "        async function convertToInteractive(key) {\n",
              "          const element = document.querySelector('#df-6ad3989d-9fc9-4e7f-a12b-83f2fb44a69b');\n",
              "          const dataTable =\n",
              "            await google.colab.kernel.invokeFunction('convertToInteractive',\n",
              "                                                     [key], {});\n",
              "          if (!dataTable) return;\n",
              "\n",
              "          const docLinkHtml = 'Like what you see? Visit the ' +\n",
              "            '<a target=\"_blank\" href=https://colab.research.google.com/notebooks/data_table.ipynb>data table notebook</a>'\n",
              "            + ' to learn more about interactive tables.';\n",
              "          element.innerHTML = '';\n",
              "          dataTable['output_type'] = 'display_data';\n",
              "          await google.colab.output.renderOutput(dataTable, element);\n",
              "          const docLink = document.createElement('div');\n",
              "          docLink.innerHTML = docLinkHtml;\n",
              "          element.appendChild(docLink);\n",
              "        }\n",
              "      </script>\n",
              "    </div>\n",
              "  </div>\n",
              "  "
            ]
          },
          "metadata": {},
          "execution_count": 6
        }
      ]
    },
    {
      "cell_type": "code",
      "source": [
        "df.columns"
      ],
      "metadata": {
        "colab": {
          "base_uri": "https://localhost:8080/"
        },
        "id": "QWl_-7ymdRd3",
        "outputId": "626d77d0-229d-4f65-810c-00a4593840d9"
      },
      "execution_count": null,
      "outputs": [
        {
          "output_type": "execute_result",
          "data": {
            "text/plain": [
              "Index(['ID', 'Severity', 'Start_Time', 'End_Time', 'Start_Lat', 'Start_Lng',\n",
              "       'End_Lat', 'End_Lng', 'Distance(mi)', 'Description', 'Number', 'Street',\n",
              "       'Side', 'City', 'County', 'State', 'Zipcode', 'Country', 'Timezone',\n",
              "       'Airport_Code', 'Weather_Timestamp', 'Temperature(F)', 'Wind_Chill(F)',\n",
              "       'Humidity(%)', 'Pressure(in)', 'Visibility(mi)', 'Wind_Direction',\n",
              "       'Wind_Speed(mph)', 'Precipitation(in)', 'Weather_Condition', 'Amenity',\n",
              "       'Bump', 'Crossing', 'Give_Way', 'Junction', 'No_Exit', 'Railway',\n",
              "       'Roundabout', 'Station', 'Stop', 'Traffic_Calming', 'Traffic_Signal',\n",
              "       'Turning_Loop', 'Sunrise_Sunset', 'Civil_Twilight', 'Nautical_Twilight',\n",
              "       'Astronomical_Twilight'],\n",
              "      dtype='object')"
            ]
          },
          "metadata": {},
          "execution_count": 7
        }
      ]
    },
    {
      "cell_type": "code",
      "source": [
        "len(df.columns)\n"
      ],
      "metadata": {
        "colab": {
          "base_uri": "https://localhost:8080/"
        },
        "id": "6tkgtCISdb0B",
        "outputId": "77931ee4-45b2-4b88-d64c-330443e62fa2"
      },
      "execution_count": null,
      "outputs": [
        {
          "output_type": "execute_result",
          "data": {
            "text/plain": [
              "47"
            ]
          },
          "metadata": {},
          "execution_count": 8
        }
      ]
    },
    {
      "cell_type": "code",
      "source": [
        "len(df)"
      ],
      "metadata": {
        "colab": {
          "base_uri": "https://localhost:8080/"
        },
        "id": "qCKVly-_dp1G",
        "outputId": "312bf868-a43e-4ba3-98ed-36979dfbef41"
      },
      "execution_count": null,
      "outputs": [
        {
          "output_type": "execute_result",
          "data": {
            "text/plain": [
              "2845342"
            ]
          },
          "metadata": {},
          "execution_count": 9
        }
      ]
    },
    {
      "cell_type": "code",
      "source": [
        "df.info()"
      ],
      "metadata": {
        "colab": {
          "base_uri": "https://localhost:8080/"
        },
        "id": "5lCgvu80d5mk",
        "outputId": "63a395cd-696b-4216-e68a-3ba81eff284a"
      },
      "execution_count": null,
      "outputs": [
        {
          "output_type": "stream",
          "name": "stdout",
          "text": [
            "<class 'pandas.core.frame.DataFrame'>\n",
            "RangeIndex: 2845342 entries, 0 to 2845341\n",
            "Data columns (total 47 columns):\n",
            " #   Column                 Dtype  \n",
            "---  ------                 -----  \n",
            " 0   ID                     object \n",
            " 1   Severity               int64  \n",
            " 2   Start_Time             object \n",
            " 3   End_Time               object \n",
            " 4   Start_Lat              float64\n",
            " 5   Start_Lng              float64\n",
            " 6   End_Lat                float64\n",
            " 7   End_Lng                float64\n",
            " 8   Distance(mi)           float64\n",
            " 9   Description            object \n",
            " 10  Number                 float64\n",
            " 11  Street                 object \n",
            " 12  Side                   object \n",
            " 13  City                   object \n",
            " 14  County                 object \n",
            " 15  State                  object \n",
            " 16  Zipcode                object \n",
            " 17  Country                object \n",
            " 18  Timezone               object \n",
            " 19  Airport_Code           object \n",
            " 20  Weather_Timestamp      object \n",
            " 21  Temperature(F)         float64\n",
            " 22  Wind_Chill(F)          float64\n",
            " 23  Humidity(%)            float64\n",
            " 24  Pressure(in)           float64\n",
            " 25  Visibility(mi)         float64\n",
            " 26  Wind_Direction         object \n",
            " 27  Wind_Speed(mph)        float64\n",
            " 28  Precipitation(in)      float64\n",
            " 29  Weather_Condition      object \n",
            " 30  Amenity                bool   \n",
            " 31  Bump                   bool   \n",
            " 32  Crossing               bool   \n",
            " 33  Give_Way               bool   \n",
            " 34  Junction               bool   \n",
            " 35  No_Exit                bool   \n",
            " 36  Railway                bool   \n",
            " 37  Roundabout             bool   \n",
            " 38  Station                bool   \n",
            " 39  Stop                   bool   \n",
            " 40  Traffic_Calming        bool   \n",
            " 41  Traffic_Signal         bool   \n",
            " 42  Turning_Loop           bool   \n",
            " 43  Sunrise_Sunset         object \n",
            " 44  Civil_Twilight         object \n",
            " 45  Nautical_Twilight      object \n",
            " 46  Astronomical_Twilight  object \n",
            "dtypes: bool(13), float64(13), int64(1), object(20)\n",
            "memory usage: 773.4+ MB\n"
          ]
        }
      ]
    },
    {
      "cell_type": "code",
      "source": [
        "df.describe()"
      ],
      "metadata": {
        "colab": {
          "base_uri": "https://localhost:8080/",
          "height": 364
        },
        "id": "UPjrIEspd7k_",
        "outputId": "d34ab334-4771-49d1-f74e-170205f77e48"
      },
      "execution_count": null,
      "outputs": [
        {
          "output_type": "execute_result",
          "data": {
            "text/plain": [
              "           Severity     Start_Lat     Start_Lng       End_Lat       End_Lng  \\\n",
              "count  2.845342e+06  2.845342e+06  2.845342e+06  2.845342e+06  2.845342e+06   \n",
              "mean   2.137572e+00  3.624520e+01 -9.711463e+01  3.624532e+01 -9.711439e+01   \n",
              "std    4.787216e-01  5.363797e+00  1.831782e+01  5.363873e+00  1.831763e+01   \n",
              "min    1.000000e+00  2.456603e+01 -1.245481e+02  2.456601e+01 -1.245457e+02   \n",
              "25%    2.000000e+00  3.344517e+01 -1.180331e+02  3.344628e+01 -1.180333e+02   \n",
              "50%    2.000000e+00  3.609861e+01 -9.241808e+01  3.609799e+01 -9.241772e+01   \n",
              "75%    2.000000e+00  4.016024e+01 -8.037243e+01  4.016105e+01 -8.037338e+01   \n",
              "max    4.000000e+00  4.900058e+01 -6.711317e+01  4.907500e+01 -6.710924e+01   \n",
              "\n",
              "       Distance(mi)        Number  Temperature(F)  Wind_Chill(F)  \\\n",
              "count  2.845342e+06  1.101431e+06    2.776068e+06   2.375699e+06   \n",
              "mean   7.026779e-01  8.089408e+03    6.179356e+01   5.965823e+01   \n",
              "std    1.560361e+00  1.836009e+04    1.862263e+01   2.116097e+01   \n",
              "min    0.000000e+00  0.000000e+00   -8.900000e+01  -8.900000e+01   \n",
              "25%    5.200000e-02  1.270000e+03    5.000000e+01   4.600000e+01   \n",
              "50%    2.440000e-01  4.007000e+03    6.400000e+01   6.300000e+01   \n",
              "75%    7.640000e-01  9.567000e+03    7.600000e+01   7.600000e+01   \n",
              "max    1.551860e+02  9.999997e+06    1.960000e+02   1.960000e+02   \n",
              "\n",
              "        Humidity(%)  Pressure(in)  Visibility(mi)  Wind_Speed(mph)  \\\n",
              "count  2.772250e+06  2.786142e+06    2.774796e+06     2.687398e+06   \n",
              "mean   6.436545e+01  2.947234e+01    9.099391e+00     7.395044e+00   \n",
              "std    2.287457e+01  1.045286e+00    2.717546e+00     5.527454e+00   \n",
              "min    1.000000e+00  0.000000e+00    0.000000e+00     0.000000e+00   \n",
              "25%    4.800000e+01  2.931000e+01    1.000000e+01     3.500000e+00   \n",
              "50%    6.700000e+01  2.982000e+01    1.000000e+01     7.000000e+00   \n",
              "75%    8.300000e+01  3.001000e+01    1.000000e+01     1.000000e+01   \n",
              "max    1.000000e+02  5.890000e+01    1.400000e+02     1.087000e+03   \n",
              "\n",
              "       Precipitation(in)  \n",
              "count       2.295884e+06  \n",
              "mean        7.016940e-03  \n",
              "std         9.348831e-02  \n",
              "min         0.000000e+00  \n",
              "25%         0.000000e+00  \n",
              "50%         0.000000e+00  \n",
              "75%         0.000000e+00  \n",
              "max         2.400000e+01  "
            ],
            "text/html": [
              "\n",
              "  <div id=\"df-01b1a6b1-3f94-44f4-9438-8301f2042b5c\">\n",
              "    <div class=\"colab-df-container\">\n",
              "      <div>\n",
              "<style scoped>\n",
              "    .dataframe tbody tr th:only-of-type {\n",
              "        vertical-align: middle;\n",
              "    }\n",
              "\n",
              "    .dataframe tbody tr th {\n",
              "        vertical-align: top;\n",
              "    }\n",
              "\n",
              "    .dataframe thead th {\n",
              "        text-align: right;\n",
              "    }\n",
              "</style>\n",
              "<table border=\"1\" class=\"dataframe\">\n",
              "  <thead>\n",
              "    <tr style=\"text-align: right;\">\n",
              "      <th></th>\n",
              "      <th>Severity</th>\n",
              "      <th>Start_Lat</th>\n",
              "      <th>Start_Lng</th>\n",
              "      <th>End_Lat</th>\n",
              "      <th>End_Lng</th>\n",
              "      <th>Distance(mi)</th>\n",
              "      <th>Number</th>\n",
              "      <th>Temperature(F)</th>\n",
              "      <th>Wind_Chill(F)</th>\n",
              "      <th>Humidity(%)</th>\n",
              "      <th>Pressure(in)</th>\n",
              "      <th>Visibility(mi)</th>\n",
              "      <th>Wind_Speed(mph)</th>\n",
              "      <th>Precipitation(in)</th>\n",
              "    </tr>\n",
              "  </thead>\n",
              "  <tbody>\n",
              "    <tr>\n",
              "      <th>count</th>\n",
              "      <td>2.845342e+06</td>\n",
              "      <td>2.845342e+06</td>\n",
              "      <td>2.845342e+06</td>\n",
              "      <td>2.845342e+06</td>\n",
              "      <td>2.845342e+06</td>\n",
              "      <td>2.845342e+06</td>\n",
              "      <td>1.101431e+06</td>\n",
              "      <td>2.776068e+06</td>\n",
              "      <td>2.375699e+06</td>\n",
              "      <td>2.772250e+06</td>\n",
              "      <td>2.786142e+06</td>\n",
              "      <td>2.774796e+06</td>\n",
              "      <td>2.687398e+06</td>\n",
              "      <td>2.295884e+06</td>\n",
              "    </tr>\n",
              "    <tr>\n",
              "      <th>mean</th>\n",
              "      <td>2.137572e+00</td>\n",
              "      <td>3.624520e+01</td>\n",
              "      <td>-9.711463e+01</td>\n",
              "      <td>3.624532e+01</td>\n",
              "      <td>-9.711439e+01</td>\n",
              "      <td>7.026779e-01</td>\n",
              "      <td>8.089408e+03</td>\n",
              "      <td>6.179356e+01</td>\n",
              "      <td>5.965823e+01</td>\n",
              "      <td>6.436545e+01</td>\n",
              "      <td>2.947234e+01</td>\n",
              "      <td>9.099391e+00</td>\n",
              "      <td>7.395044e+00</td>\n",
              "      <td>7.016940e-03</td>\n",
              "    </tr>\n",
              "    <tr>\n",
              "      <th>std</th>\n",
              "      <td>4.787216e-01</td>\n",
              "      <td>5.363797e+00</td>\n",
              "      <td>1.831782e+01</td>\n",
              "      <td>5.363873e+00</td>\n",
              "      <td>1.831763e+01</td>\n",
              "      <td>1.560361e+00</td>\n",
              "      <td>1.836009e+04</td>\n",
              "      <td>1.862263e+01</td>\n",
              "      <td>2.116097e+01</td>\n",
              "      <td>2.287457e+01</td>\n",
              "      <td>1.045286e+00</td>\n",
              "      <td>2.717546e+00</td>\n",
              "      <td>5.527454e+00</td>\n",
              "      <td>9.348831e-02</td>\n",
              "    </tr>\n",
              "    <tr>\n",
              "      <th>min</th>\n",
              "      <td>1.000000e+00</td>\n",
              "      <td>2.456603e+01</td>\n",
              "      <td>-1.245481e+02</td>\n",
              "      <td>2.456601e+01</td>\n",
              "      <td>-1.245457e+02</td>\n",
              "      <td>0.000000e+00</td>\n",
              "      <td>0.000000e+00</td>\n",
              "      <td>-8.900000e+01</td>\n",
              "      <td>-8.900000e+01</td>\n",
              "      <td>1.000000e+00</td>\n",
              "      <td>0.000000e+00</td>\n",
              "      <td>0.000000e+00</td>\n",
              "      <td>0.000000e+00</td>\n",
              "      <td>0.000000e+00</td>\n",
              "    </tr>\n",
              "    <tr>\n",
              "      <th>25%</th>\n",
              "      <td>2.000000e+00</td>\n",
              "      <td>3.344517e+01</td>\n",
              "      <td>-1.180331e+02</td>\n",
              "      <td>3.344628e+01</td>\n",
              "      <td>-1.180333e+02</td>\n",
              "      <td>5.200000e-02</td>\n",
              "      <td>1.270000e+03</td>\n",
              "      <td>5.000000e+01</td>\n",
              "      <td>4.600000e+01</td>\n",
              "      <td>4.800000e+01</td>\n",
              "      <td>2.931000e+01</td>\n",
              "      <td>1.000000e+01</td>\n",
              "      <td>3.500000e+00</td>\n",
              "      <td>0.000000e+00</td>\n",
              "    </tr>\n",
              "    <tr>\n",
              "      <th>50%</th>\n",
              "      <td>2.000000e+00</td>\n",
              "      <td>3.609861e+01</td>\n",
              "      <td>-9.241808e+01</td>\n",
              "      <td>3.609799e+01</td>\n",
              "      <td>-9.241772e+01</td>\n",
              "      <td>2.440000e-01</td>\n",
              "      <td>4.007000e+03</td>\n",
              "      <td>6.400000e+01</td>\n",
              "      <td>6.300000e+01</td>\n",
              "      <td>6.700000e+01</td>\n",
              "      <td>2.982000e+01</td>\n",
              "      <td>1.000000e+01</td>\n",
              "      <td>7.000000e+00</td>\n",
              "      <td>0.000000e+00</td>\n",
              "    </tr>\n",
              "    <tr>\n",
              "      <th>75%</th>\n",
              "      <td>2.000000e+00</td>\n",
              "      <td>4.016024e+01</td>\n",
              "      <td>-8.037243e+01</td>\n",
              "      <td>4.016105e+01</td>\n",
              "      <td>-8.037338e+01</td>\n",
              "      <td>7.640000e-01</td>\n",
              "      <td>9.567000e+03</td>\n",
              "      <td>7.600000e+01</td>\n",
              "      <td>7.600000e+01</td>\n",
              "      <td>8.300000e+01</td>\n",
              "      <td>3.001000e+01</td>\n",
              "      <td>1.000000e+01</td>\n",
              "      <td>1.000000e+01</td>\n",
              "      <td>0.000000e+00</td>\n",
              "    </tr>\n",
              "    <tr>\n",
              "      <th>max</th>\n",
              "      <td>4.000000e+00</td>\n",
              "      <td>4.900058e+01</td>\n",
              "      <td>-6.711317e+01</td>\n",
              "      <td>4.907500e+01</td>\n",
              "      <td>-6.710924e+01</td>\n",
              "      <td>1.551860e+02</td>\n",
              "      <td>9.999997e+06</td>\n",
              "      <td>1.960000e+02</td>\n",
              "      <td>1.960000e+02</td>\n",
              "      <td>1.000000e+02</td>\n",
              "      <td>5.890000e+01</td>\n",
              "      <td>1.400000e+02</td>\n",
              "      <td>1.087000e+03</td>\n",
              "      <td>2.400000e+01</td>\n",
              "    </tr>\n",
              "  </tbody>\n",
              "</table>\n",
              "</div>\n",
              "      <button class=\"colab-df-convert\" onclick=\"convertToInteractive('df-01b1a6b1-3f94-44f4-9438-8301f2042b5c')\"\n",
              "              title=\"Convert this dataframe to an interactive table.\"\n",
              "              style=\"display:none;\">\n",
              "        \n",
              "  <svg xmlns=\"http://www.w3.org/2000/svg\" height=\"24px\"viewBox=\"0 0 24 24\"\n",
              "       width=\"24px\">\n",
              "    <path d=\"M0 0h24v24H0V0z\" fill=\"none\"/>\n",
              "    <path d=\"M18.56 5.44l.94 2.06.94-2.06 2.06-.94-2.06-.94-.94-2.06-.94 2.06-2.06.94zm-11 1L8.5 8.5l.94-2.06 2.06-.94-2.06-.94L8.5 2.5l-.94 2.06-2.06.94zm10 10l.94 2.06.94-2.06 2.06-.94-2.06-.94-.94-2.06-.94 2.06-2.06.94z\"/><path d=\"M17.41 7.96l-1.37-1.37c-.4-.4-.92-.59-1.43-.59-.52 0-1.04.2-1.43.59L10.3 9.45l-7.72 7.72c-.78.78-.78 2.05 0 2.83L4 21.41c.39.39.9.59 1.41.59.51 0 1.02-.2 1.41-.59l7.78-7.78 2.81-2.81c.8-.78.8-2.07 0-2.86zM5.41 20L4 18.59l7.72-7.72 1.47 1.35L5.41 20z\"/>\n",
              "  </svg>\n",
              "      </button>\n",
              "      \n",
              "  <style>\n",
              "    .colab-df-container {\n",
              "      display:flex;\n",
              "      flex-wrap:wrap;\n",
              "      gap: 12px;\n",
              "    }\n",
              "\n",
              "    .colab-df-convert {\n",
              "      background-color: #E8F0FE;\n",
              "      border: none;\n",
              "      border-radius: 50%;\n",
              "      cursor: pointer;\n",
              "      display: none;\n",
              "      fill: #1967D2;\n",
              "      height: 32px;\n",
              "      padding: 0 0 0 0;\n",
              "      width: 32px;\n",
              "    }\n",
              "\n",
              "    .colab-df-convert:hover {\n",
              "      background-color: #E2EBFA;\n",
              "      box-shadow: 0px 1px 2px rgba(60, 64, 67, 0.3), 0px 1px 3px 1px rgba(60, 64, 67, 0.15);\n",
              "      fill: #174EA6;\n",
              "    }\n",
              "\n",
              "    [theme=dark] .colab-df-convert {\n",
              "      background-color: #3B4455;\n",
              "      fill: #D2E3FC;\n",
              "    }\n",
              "\n",
              "    [theme=dark] .colab-df-convert:hover {\n",
              "      background-color: #434B5C;\n",
              "      box-shadow: 0px 1px 3px 1px rgba(0, 0, 0, 0.15);\n",
              "      filter: drop-shadow(0px 1px 2px rgba(0, 0, 0, 0.3));\n",
              "      fill: #FFFFFF;\n",
              "    }\n",
              "  </style>\n",
              "\n",
              "      <script>\n",
              "        const buttonEl =\n",
              "          document.querySelector('#df-01b1a6b1-3f94-44f4-9438-8301f2042b5c button.colab-df-convert');\n",
              "        buttonEl.style.display =\n",
              "          google.colab.kernel.accessAllowed ? 'block' : 'none';\n",
              "\n",
              "        async function convertToInteractive(key) {\n",
              "          const element = document.querySelector('#df-01b1a6b1-3f94-44f4-9438-8301f2042b5c');\n",
              "          const dataTable =\n",
              "            await google.colab.kernel.invokeFunction('convertToInteractive',\n",
              "                                                     [key], {});\n",
              "          if (!dataTable) return;\n",
              "\n",
              "          const docLinkHtml = 'Like what you see? Visit the ' +\n",
              "            '<a target=\"_blank\" href=https://colab.research.google.com/notebooks/data_table.ipynb>data table notebook</a>'\n",
              "            + ' to learn more about interactive tables.';\n",
              "          element.innerHTML = '';\n",
              "          dataTable['output_type'] = 'display_data';\n",
              "          await google.colab.output.renderOutput(dataTable, element);\n",
              "          const docLink = document.createElement('div');\n",
              "          docLink.innerHTML = docLinkHtml;\n",
              "          element.appendChild(docLink);\n",
              "        }\n",
              "      </script>\n",
              "    </div>\n",
              "  </div>\n",
              "  "
            ]
          },
          "metadata": {},
          "execution_count": 11
        }
      ]
    },
    {
      "cell_type": "code",
      "source": [
        "numerics = ['int16', 'int32', 'int64', 'float16', 'float32', 'float64']\n",
        "numerics_df = df.select_dtypes(include=numerics)\n",
        "len(numerics_df.columns)"
      ],
      "metadata": {
        "colab": {
          "base_uri": "https://localhost:8080/"
        },
        "id": "mcpIrClDfOqd",
        "outputId": "5d502e93-5dc1-49d2-ec6c-84f5d1bc5256"
      },
      "execution_count": null,
      "outputs": [
        {
          "output_type": "execute_result",
          "data": {
            "text/plain": [
              "14"
            ]
          },
          "metadata": {},
          "execution_count": 12
        }
      ]
    },
    {
      "cell_type": "code",
      "source": [
        "df.isna()"
      ],
      "metadata": {
        "colab": {
          "base_uri": "https://localhost:8080/",
          "height": 488
        },
        "id": "c9DFoboseovO",
        "outputId": "5070b8c6-1d82-4f02-d736-23e449dfe00b"
      },
      "execution_count": null,
      "outputs": [
        {
          "output_type": "execute_result",
          "data": {
            "text/plain": [
              "            ID  Severity  Start_Time  End_Time  Start_Lat  Start_Lng  End_Lat  \\\n",
              "0        False     False       False     False      False      False    False   \n",
              "1        False     False       False     False      False      False    False   \n",
              "2        False     False       False     False      False      False    False   \n",
              "3        False     False       False     False      False      False    False   \n",
              "4        False     False       False     False      False      False    False   \n",
              "...        ...       ...         ...       ...        ...        ...      ...   \n",
              "2845337  False     False       False     False      False      False    False   \n",
              "2845338  False     False       False     False      False      False    False   \n",
              "2845339  False     False       False     False      False      False    False   \n",
              "2845340  False     False       False     False      False      False    False   \n",
              "2845341  False     False       False     False      False      False    False   \n",
              "\n",
              "         End_Lng  Distance(mi)  Description  ...  Roundabout  Station   Stop  \\\n",
              "0          False         False        False  ...       False    False  False   \n",
              "1          False         False        False  ...       False    False  False   \n",
              "2          False         False        False  ...       False    False  False   \n",
              "3          False         False        False  ...       False    False  False   \n",
              "4          False         False        False  ...       False    False  False   \n",
              "...          ...           ...          ...  ...         ...      ...    ...   \n",
              "2845337    False         False        False  ...       False    False  False   \n",
              "2845338    False         False        False  ...       False    False  False   \n",
              "2845339    False         False        False  ...       False    False  False   \n",
              "2845340    False         False        False  ...       False    False  False   \n",
              "2845341    False         False        False  ...       False    False  False   \n",
              "\n",
              "         Traffic_Calming  Traffic_Signal  Turning_Loop  Sunrise_Sunset  \\\n",
              "0                  False           False         False           False   \n",
              "1                  False           False         False           False   \n",
              "2                  False           False         False           False   \n",
              "3                  False           False         False           False   \n",
              "4                  False           False         False           False   \n",
              "...                  ...             ...           ...             ...   \n",
              "2845337            False           False         False           False   \n",
              "2845338            False           False         False           False   \n",
              "2845339            False           False         False           False   \n",
              "2845340            False           False         False           False   \n",
              "2845341            False           False         False           False   \n",
              "\n",
              "         Civil_Twilight  Nautical_Twilight  Astronomical_Twilight  \n",
              "0                 False              False                  False  \n",
              "1                 False              False                  False  \n",
              "2                 False              False                  False  \n",
              "3                 False              False                  False  \n",
              "4                 False              False                  False  \n",
              "...                 ...                ...                    ...  \n",
              "2845337           False              False                  False  \n",
              "2845338           False              False                  False  \n",
              "2845339           False              False                  False  \n",
              "2845340           False              False                  False  \n",
              "2845341           False              False                  False  \n",
              "\n",
              "[2845342 rows x 47 columns]"
            ],
            "text/html": [
              "\n",
              "  <div id=\"df-c363dc08-6c3c-463f-9387-c2842df64c59\">\n",
              "    <div class=\"colab-df-container\">\n",
              "      <div>\n",
              "<style scoped>\n",
              "    .dataframe tbody tr th:only-of-type {\n",
              "        vertical-align: middle;\n",
              "    }\n",
              "\n",
              "    .dataframe tbody tr th {\n",
              "        vertical-align: top;\n",
              "    }\n",
              "\n",
              "    .dataframe thead th {\n",
              "        text-align: right;\n",
              "    }\n",
              "</style>\n",
              "<table border=\"1\" class=\"dataframe\">\n",
              "  <thead>\n",
              "    <tr style=\"text-align: right;\">\n",
              "      <th></th>\n",
              "      <th>ID</th>\n",
              "      <th>Severity</th>\n",
              "      <th>Start_Time</th>\n",
              "      <th>End_Time</th>\n",
              "      <th>Start_Lat</th>\n",
              "      <th>Start_Lng</th>\n",
              "      <th>End_Lat</th>\n",
              "      <th>End_Lng</th>\n",
              "      <th>Distance(mi)</th>\n",
              "      <th>Description</th>\n",
              "      <th>...</th>\n",
              "      <th>Roundabout</th>\n",
              "      <th>Station</th>\n",
              "      <th>Stop</th>\n",
              "      <th>Traffic_Calming</th>\n",
              "      <th>Traffic_Signal</th>\n",
              "      <th>Turning_Loop</th>\n",
              "      <th>Sunrise_Sunset</th>\n",
              "      <th>Civil_Twilight</th>\n",
              "      <th>Nautical_Twilight</th>\n",
              "      <th>Astronomical_Twilight</th>\n",
              "    </tr>\n",
              "  </thead>\n",
              "  <tbody>\n",
              "    <tr>\n",
              "      <th>0</th>\n",
              "      <td>False</td>\n",
              "      <td>False</td>\n",
              "      <td>False</td>\n",
              "      <td>False</td>\n",
              "      <td>False</td>\n",
              "      <td>False</td>\n",
              "      <td>False</td>\n",
              "      <td>False</td>\n",
              "      <td>False</td>\n",
              "      <td>False</td>\n",
              "      <td>...</td>\n",
              "      <td>False</td>\n",
              "      <td>False</td>\n",
              "      <td>False</td>\n",
              "      <td>False</td>\n",
              "      <td>False</td>\n",
              "      <td>False</td>\n",
              "      <td>False</td>\n",
              "      <td>False</td>\n",
              "      <td>False</td>\n",
              "      <td>False</td>\n",
              "    </tr>\n",
              "    <tr>\n",
              "      <th>1</th>\n",
              "      <td>False</td>\n",
              "      <td>False</td>\n",
              "      <td>False</td>\n",
              "      <td>False</td>\n",
              "      <td>False</td>\n",
              "      <td>False</td>\n",
              "      <td>False</td>\n",
              "      <td>False</td>\n",
              "      <td>False</td>\n",
              "      <td>False</td>\n",
              "      <td>...</td>\n",
              "      <td>False</td>\n",
              "      <td>False</td>\n",
              "      <td>False</td>\n",
              "      <td>False</td>\n",
              "      <td>False</td>\n",
              "      <td>False</td>\n",
              "      <td>False</td>\n",
              "      <td>False</td>\n",
              "      <td>False</td>\n",
              "      <td>False</td>\n",
              "    </tr>\n",
              "    <tr>\n",
              "      <th>2</th>\n",
              "      <td>False</td>\n",
              "      <td>False</td>\n",
              "      <td>False</td>\n",
              "      <td>False</td>\n",
              "      <td>False</td>\n",
              "      <td>False</td>\n",
              "      <td>False</td>\n",
              "      <td>False</td>\n",
              "      <td>False</td>\n",
              "      <td>False</td>\n",
              "      <td>...</td>\n",
              "      <td>False</td>\n",
              "      <td>False</td>\n",
              "      <td>False</td>\n",
              "      <td>False</td>\n",
              "      <td>False</td>\n",
              "      <td>False</td>\n",
              "      <td>False</td>\n",
              "      <td>False</td>\n",
              "      <td>False</td>\n",
              "      <td>False</td>\n",
              "    </tr>\n",
              "    <tr>\n",
              "      <th>3</th>\n",
              "      <td>False</td>\n",
              "      <td>False</td>\n",
              "      <td>False</td>\n",
              "      <td>False</td>\n",
              "      <td>False</td>\n",
              "      <td>False</td>\n",
              "      <td>False</td>\n",
              "      <td>False</td>\n",
              "      <td>False</td>\n",
              "      <td>False</td>\n",
              "      <td>...</td>\n",
              "      <td>False</td>\n",
              "      <td>False</td>\n",
              "      <td>False</td>\n",
              "      <td>False</td>\n",
              "      <td>False</td>\n",
              "      <td>False</td>\n",
              "      <td>False</td>\n",
              "      <td>False</td>\n",
              "      <td>False</td>\n",
              "      <td>False</td>\n",
              "    </tr>\n",
              "    <tr>\n",
              "      <th>4</th>\n",
              "      <td>False</td>\n",
              "      <td>False</td>\n",
              "      <td>False</td>\n",
              "      <td>False</td>\n",
              "      <td>False</td>\n",
              "      <td>False</td>\n",
              "      <td>False</td>\n",
              "      <td>False</td>\n",
              "      <td>False</td>\n",
              "      <td>False</td>\n",
              "      <td>...</td>\n",
              "      <td>False</td>\n",
              "      <td>False</td>\n",
              "      <td>False</td>\n",
              "      <td>False</td>\n",
              "      <td>False</td>\n",
              "      <td>False</td>\n",
              "      <td>False</td>\n",
              "      <td>False</td>\n",
              "      <td>False</td>\n",
              "      <td>False</td>\n",
              "    </tr>\n",
              "    <tr>\n",
              "      <th>...</th>\n",
              "      <td>...</td>\n",
              "      <td>...</td>\n",
              "      <td>...</td>\n",
              "      <td>...</td>\n",
              "      <td>...</td>\n",
              "      <td>...</td>\n",
              "      <td>...</td>\n",
              "      <td>...</td>\n",
              "      <td>...</td>\n",
              "      <td>...</td>\n",
              "      <td>...</td>\n",
              "      <td>...</td>\n",
              "      <td>...</td>\n",
              "      <td>...</td>\n",
              "      <td>...</td>\n",
              "      <td>...</td>\n",
              "      <td>...</td>\n",
              "      <td>...</td>\n",
              "      <td>...</td>\n",
              "      <td>...</td>\n",
              "      <td>...</td>\n",
              "    </tr>\n",
              "    <tr>\n",
              "      <th>2845337</th>\n",
              "      <td>False</td>\n",
              "      <td>False</td>\n",
              "      <td>False</td>\n",
              "      <td>False</td>\n",
              "      <td>False</td>\n",
              "      <td>False</td>\n",
              "      <td>False</td>\n",
              "      <td>False</td>\n",
              "      <td>False</td>\n",
              "      <td>False</td>\n",
              "      <td>...</td>\n",
              "      <td>False</td>\n",
              "      <td>False</td>\n",
              "      <td>False</td>\n",
              "      <td>False</td>\n",
              "      <td>False</td>\n",
              "      <td>False</td>\n",
              "      <td>False</td>\n",
              "      <td>False</td>\n",
              "      <td>False</td>\n",
              "      <td>False</td>\n",
              "    </tr>\n",
              "    <tr>\n",
              "      <th>2845338</th>\n",
              "      <td>False</td>\n",
              "      <td>False</td>\n",
              "      <td>False</td>\n",
              "      <td>False</td>\n",
              "      <td>False</td>\n",
              "      <td>False</td>\n",
              "      <td>False</td>\n",
              "      <td>False</td>\n",
              "      <td>False</td>\n",
              "      <td>False</td>\n",
              "      <td>...</td>\n",
              "      <td>False</td>\n",
              "      <td>False</td>\n",
              "      <td>False</td>\n",
              "      <td>False</td>\n",
              "      <td>False</td>\n",
              "      <td>False</td>\n",
              "      <td>False</td>\n",
              "      <td>False</td>\n",
              "      <td>False</td>\n",
              "      <td>False</td>\n",
              "    </tr>\n",
              "    <tr>\n",
              "      <th>2845339</th>\n",
              "      <td>False</td>\n",
              "      <td>False</td>\n",
              "      <td>False</td>\n",
              "      <td>False</td>\n",
              "      <td>False</td>\n",
              "      <td>False</td>\n",
              "      <td>False</td>\n",
              "      <td>False</td>\n",
              "      <td>False</td>\n",
              "      <td>False</td>\n",
              "      <td>...</td>\n",
              "      <td>False</td>\n",
              "      <td>False</td>\n",
              "      <td>False</td>\n",
              "      <td>False</td>\n",
              "      <td>False</td>\n",
              "      <td>False</td>\n",
              "      <td>False</td>\n",
              "      <td>False</td>\n",
              "      <td>False</td>\n",
              "      <td>False</td>\n",
              "    </tr>\n",
              "    <tr>\n",
              "      <th>2845340</th>\n",
              "      <td>False</td>\n",
              "      <td>False</td>\n",
              "      <td>False</td>\n",
              "      <td>False</td>\n",
              "      <td>False</td>\n",
              "      <td>False</td>\n",
              "      <td>False</td>\n",
              "      <td>False</td>\n",
              "      <td>False</td>\n",
              "      <td>False</td>\n",
              "      <td>...</td>\n",
              "      <td>False</td>\n",
              "      <td>False</td>\n",
              "      <td>False</td>\n",
              "      <td>False</td>\n",
              "      <td>False</td>\n",
              "      <td>False</td>\n",
              "      <td>False</td>\n",
              "      <td>False</td>\n",
              "      <td>False</td>\n",
              "      <td>False</td>\n",
              "    </tr>\n",
              "    <tr>\n",
              "      <th>2845341</th>\n",
              "      <td>False</td>\n",
              "      <td>False</td>\n",
              "      <td>False</td>\n",
              "      <td>False</td>\n",
              "      <td>False</td>\n",
              "      <td>False</td>\n",
              "      <td>False</td>\n",
              "      <td>False</td>\n",
              "      <td>False</td>\n",
              "      <td>False</td>\n",
              "      <td>...</td>\n",
              "      <td>False</td>\n",
              "      <td>False</td>\n",
              "      <td>False</td>\n",
              "      <td>False</td>\n",
              "      <td>False</td>\n",
              "      <td>False</td>\n",
              "      <td>False</td>\n",
              "      <td>False</td>\n",
              "      <td>False</td>\n",
              "      <td>False</td>\n",
              "    </tr>\n",
              "  </tbody>\n",
              "</table>\n",
              "<p>2845342 rows × 47 columns</p>\n",
              "</div>\n",
              "      <button class=\"colab-df-convert\" onclick=\"convertToInteractive('df-c363dc08-6c3c-463f-9387-c2842df64c59')\"\n",
              "              title=\"Convert this dataframe to an interactive table.\"\n",
              "              style=\"display:none;\">\n",
              "        \n",
              "  <svg xmlns=\"http://www.w3.org/2000/svg\" height=\"24px\"viewBox=\"0 0 24 24\"\n",
              "       width=\"24px\">\n",
              "    <path d=\"M0 0h24v24H0V0z\" fill=\"none\"/>\n",
              "    <path d=\"M18.56 5.44l.94 2.06.94-2.06 2.06-.94-2.06-.94-.94-2.06-.94 2.06-2.06.94zm-11 1L8.5 8.5l.94-2.06 2.06-.94-2.06-.94L8.5 2.5l-.94 2.06-2.06.94zm10 10l.94 2.06.94-2.06 2.06-.94-2.06-.94-.94-2.06-.94 2.06-2.06.94z\"/><path d=\"M17.41 7.96l-1.37-1.37c-.4-.4-.92-.59-1.43-.59-.52 0-1.04.2-1.43.59L10.3 9.45l-7.72 7.72c-.78.78-.78 2.05 0 2.83L4 21.41c.39.39.9.59 1.41.59.51 0 1.02-.2 1.41-.59l7.78-7.78 2.81-2.81c.8-.78.8-2.07 0-2.86zM5.41 20L4 18.59l7.72-7.72 1.47 1.35L5.41 20z\"/>\n",
              "  </svg>\n",
              "      </button>\n",
              "      \n",
              "  <style>\n",
              "    .colab-df-container {\n",
              "      display:flex;\n",
              "      flex-wrap:wrap;\n",
              "      gap: 12px;\n",
              "    }\n",
              "\n",
              "    .colab-df-convert {\n",
              "      background-color: #E8F0FE;\n",
              "      border: none;\n",
              "      border-radius: 50%;\n",
              "      cursor: pointer;\n",
              "      display: none;\n",
              "      fill: #1967D2;\n",
              "      height: 32px;\n",
              "      padding: 0 0 0 0;\n",
              "      width: 32px;\n",
              "    }\n",
              "\n",
              "    .colab-df-convert:hover {\n",
              "      background-color: #E2EBFA;\n",
              "      box-shadow: 0px 1px 2px rgba(60, 64, 67, 0.3), 0px 1px 3px 1px rgba(60, 64, 67, 0.15);\n",
              "      fill: #174EA6;\n",
              "    }\n",
              "\n",
              "    [theme=dark] .colab-df-convert {\n",
              "      background-color: #3B4455;\n",
              "      fill: #D2E3FC;\n",
              "    }\n",
              "\n",
              "    [theme=dark] .colab-df-convert:hover {\n",
              "      background-color: #434B5C;\n",
              "      box-shadow: 0px 1px 3px 1px rgba(0, 0, 0, 0.15);\n",
              "      filter: drop-shadow(0px 1px 2px rgba(0, 0, 0, 0.3));\n",
              "      fill: #FFFFFF;\n",
              "    }\n",
              "  </style>\n",
              "\n",
              "      <script>\n",
              "        const buttonEl =\n",
              "          document.querySelector('#df-c363dc08-6c3c-463f-9387-c2842df64c59 button.colab-df-convert');\n",
              "        buttonEl.style.display =\n",
              "          google.colab.kernel.accessAllowed ? 'block' : 'none';\n",
              "\n",
              "        async function convertToInteractive(key) {\n",
              "          const element = document.querySelector('#df-c363dc08-6c3c-463f-9387-c2842df64c59');\n",
              "          const dataTable =\n",
              "            await google.colab.kernel.invokeFunction('convertToInteractive',\n",
              "                                                     [key], {});\n",
              "          if (!dataTable) return;\n",
              "\n",
              "          const docLinkHtml = 'Like what you see? Visit the ' +\n",
              "            '<a target=\"_blank\" href=https://colab.research.google.com/notebooks/data_table.ipynb>data table notebook</a>'\n",
              "            + ' to learn more about interactive tables.';\n",
              "          element.innerHTML = '';\n",
              "          dataTable['output_type'] = 'display_data';\n",
              "          await google.colab.output.renderOutput(dataTable, element);\n",
              "          const docLink = document.createElement('div');\n",
              "          docLink.innerHTML = docLinkHtml;\n",
              "          element.appendChild(docLink);\n",
              "        }\n",
              "      </script>\n",
              "    </div>\n",
              "  </div>\n",
              "  "
            ]
          },
          "metadata": {},
          "execution_count": 13
        }
      ]
    },
    {
      "cell_type": "code",
      "source": [
        "df.isna().sum()"
      ],
      "metadata": {
        "colab": {
          "base_uri": "https://localhost:8080/"
        },
        "id": "TyYLC9VXi6-d",
        "outputId": "05615455-1650-40c4-e54d-f3391c6337e8"
      },
      "execution_count": null,
      "outputs": [
        {
          "output_type": "execute_result",
          "data": {
            "text/plain": [
              "ID                             0\n",
              "Severity                       0\n",
              "Start_Time                     0\n",
              "End_Time                       0\n",
              "Start_Lat                      0\n",
              "Start_Lng                      0\n",
              "End_Lat                        0\n",
              "End_Lng                        0\n",
              "Distance(mi)                   0\n",
              "Description                    0\n",
              "Number                   1743911\n",
              "Street                         2\n",
              "Side                           0\n",
              "City                         137\n",
              "County                         0\n",
              "State                          0\n",
              "Zipcode                     1319\n",
              "Country                        0\n",
              "Timezone                    3659\n",
              "Airport_Code                9549\n",
              "Weather_Timestamp          50736\n",
              "Temperature(F)             69274\n",
              "Wind_Chill(F)             469643\n",
              "Humidity(%)                73092\n",
              "Pressure(in)               59200\n",
              "Visibility(mi)             70546\n",
              "Wind_Direction             73775\n",
              "Wind_Speed(mph)           157944\n",
              "Precipitation(in)         549458\n",
              "Weather_Condition          70636\n",
              "Amenity                        0\n",
              "Bump                           0\n",
              "Crossing                       0\n",
              "Give_Way                       0\n",
              "Junction                       0\n",
              "No_Exit                        0\n",
              "Railway                        0\n",
              "Roundabout                     0\n",
              "Station                        0\n",
              "Stop                           0\n",
              "Traffic_Calming                0\n",
              "Traffic_Signal                 0\n",
              "Turning_Loop                   0\n",
              "Sunrise_Sunset              2867\n",
              "Civil_Twilight              2867\n",
              "Nautical_Twilight           2867\n",
              "Astronomical_Twilight       2867\n",
              "dtype: int64"
            ]
          },
          "metadata": {},
          "execution_count": 14
        }
      ]
    },
    {
      "cell_type": "code",
      "source": [
        "df.isna().sum().sort_values(ascending=False)"
      ],
      "metadata": {
        "colab": {
          "base_uri": "https://localhost:8080/"
        },
        "id": "PvqlsFmfjDe3",
        "outputId": "ce55f3c2-0728-410b-b3f5-1fbbf48a6868"
      },
      "execution_count": null,
      "outputs": [
        {
          "output_type": "execute_result",
          "data": {
            "text/plain": [
              "Number                   1743911\n",
              "Precipitation(in)         549458\n",
              "Wind_Chill(F)             469643\n",
              "Wind_Speed(mph)           157944\n",
              "Wind_Direction             73775\n",
              "Humidity(%)                73092\n",
              "Weather_Condition          70636\n",
              "Visibility(mi)             70546\n",
              "Temperature(F)             69274\n",
              "Pressure(in)               59200\n",
              "Weather_Timestamp          50736\n",
              "Airport_Code                9549\n",
              "Timezone                    3659\n",
              "Nautical_Twilight           2867\n",
              "Civil_Twilight              2867\n",
              "Sunrise_Sunset              2867\n",
              "Astronomical_Twilight       2867\n",
              "Zipcode                     1319\n",
              "City                         137\n",
              "Street                         2\n",
              "Country                        0\n",
              "Junction                       0\n",
              "Start_Time                     0\n",
              "End_Time                       0\n",
              "Start_Lat                      0\n",
              "Turning_Loop                   0\n",
              "Traffic_Signal                 0\n",
              "Traffic_Calming                0\n",
              "Stop                           0\n",
              "Station                        0\n",
              "Roundabout                     0\n",
              "Railway                        0\n",
              "No_Exit                        0\n",
              "Crossing                       0\n",
              "Give_Way                       0\n",
              "Bump                           0\n",
              "Amenity                        0\n",
              "Start_Lng                      0\n",
              "End_Lat                        0\n",
              "End_Lng                        0\n",
              "Distance(mi)                   0\n",
              "Description                    0\n",
              "Severity                       0\n",
              "Side                           0\n",
              "County                         0\n",
              "State                          0\n",
              "ID                             0\n",
              "dtype: int64"
            ]
          },
          "metadata": {},
          "execution_count": 15
        }
      ]
    },
    {
      "cell_type": "code",
      "source": [],
      "metadata": {
        "id": "FnXq6aqpkR_b"
      },
      "execution_count": null,
      "outputs": []
    },
    {
      "cell_type": "markdown",
      "source": [
        "## **Percentage of missing data**"
      ],
      "metadata": {
        "id": "AFD-WtalkUaN"
      }
    },
    {
      "cell_type": "code",
      "source": [
        "missingdata_percentage = df.isna().sum().sort_values(ascending=False) / len(df)\n",
        "missingdata_percentage"
      ],
      "metadata": {
        "colab": {
          "base_uri": "https://localhost:8080/"
        },
        "id": "kQFS_qNzjpJF",
        "outputId": "f0153f6e-9951-4097-af9d-8cc518ed6c34"
      },
      "execution_count": null,
      "outputs": [
        {
          "output_type": "execute_result",
          "data": {
            "text/plain": [
              "Number                   6.129003e-01\n",
              "Precipitation(in)        1.931079e-01\n",
              "Wind_Chill(F)            1.650568e-01\n",
              "Wind_Speed(mph)          5.550967e-02\n",
              "Wind_Direction           2.592834e-02\n",
              "Humidity(%)              2.568830e-02\n",
              "Weather_Condition        2.482514e-02\n",
              "Visibility(mi)           2.479350e-02\n",
              "Temperature(F)           2.434646e-02\n",
              "Pressure(in)             2.080593e-02\n",
              "Weather_Timestamp        1.783125e-02\n",
              "Airport_Code             3.356011e-03\n",
              "Timezone                 1.285961e-03\n",
              "Nautical_Twilight        1.007612e-03\n",
              "Civil_Twilight           1.007612e-03\n",
              "Sunrise_Sunset           1.007612e-03\n",
              "Astronomical_Twilight    1.007612e-03\n",
              "Zipcode                  4.635647e-04\n",
              "City                     4.814887e-05\n",
              "Street                   7.029032e-07\n",
              "Country                  0.000000e+00\n",
              "Junction                 0.000000e+00\n",
              "Start_Time               0.000000e+00\n",
              "End_Time                 0.000000e+00\n",
              "Start_Lat                0.000000e+00\n",
              "Turning_Loop             0.000000e+00\n",
              "Traffic_Signal           0.000000e+00\n",
              "Traffic_Calming          0.000000e+00\n",
              "Stop                     0.000000e+00\n",
              "Station                  0.000000e+00\n",
              "Roundabout               0.000000e+00\n",
              "Railway                  0.000000e+00\n",
              "No_Exit                  0.000000e+00\n",
              "Crossing                 0.000000e+00\n",
              "Give_Way                 0.000000e+00\n",
              "Bump                     0.000000e+00\n",
              "Amenity                  0.000000e+00\n",
              "Start_Lng                0.000000e+00\n",
              "End_Lat                  0.000000e+00\n",
              "End_Lng                  0.000000e+00\n",
              "Distance(mi)             0.000000e+00\n",
              "Description              0.000000e+00\n",
              "Severity                 0.000000e+00\n",
              "Side                     0.000000e+00\n",
              "County                   0.000000e+00\n",
              "State                    0.000000e+00\n",
              "ID                       0.000000e+00\n",
              "dtype: float64"
            ]
          },
          "metadata": {},
          "execution_count": 16
        }
      ]
    },
    {
      "cell_type": "code",
      "source": [
        "missingdata_percentage.plot(kind='barh')"
      ],
      "metadata": {
        "colab": {
          "base_uri": "https://localhost:8080/",
          "height": 284
        },
        "id": "uaemWQX5kQi1",
        "outputId": "e7c1ff17-abc6-4b35-aa8b-39cad9a8989b"
      },
      "execution_count": null,
      "outputs": [
        {
          "output_type": "execute_result",
          "data": {
            "text/plain": [
              "<matplotlib.axes._subplots.AxesSubplot at 0x7f2bd9d1d750>"
            ]
          },
          "metadata": {},
          "execution_count": 17
        },
        {
          "output_type": "display_data",
          "data": {
            "text/plain": [
              "<Figure size 432x288 with 1 Axes>"
            ],
            "image/png": "[encoded data removed]"
          },
          "metadata": {
            "needs_background": "light"
          }
        }
      ]
    },
    {
      "cell_type": "code",
      "source": [
        "missingdata_percentage[missingdata_percentage!=0].plot(kind='barh')"
      ],
      "metadata": {
        "colab": {
          "base_uri": "https://localhost:8080/",
          "height": 282
        },
        "id": "MmnaotxWj2e6",
        "outputId": "1f4da497-f5ef-4230-a65b-f0f5fb3fbd24"
      },
      "execution_count": null,
      "outputs": [
        {
          "output_type": "execute_result",
          "data": {
            "text/plain": [
              "<matplotlib.axes._subplots.AxesSubplot at 0x7f2c13f3f9d0>"
            ]
          },
          "metadata": {},
          "execution_count": 18
        },
        {
          "output_type": "display_data",
          "data": {
            "text/plain": [
              "<Figure size 432x288 with 1 Axes>"
            ],
            "image/png": "[encoded data removed]"
          },
          "metadata": {
            "needs_background": "light"
          }
        }
      ]
    },
    {
      "cell_type": "markdown",
      "source": [
        "##Exploratory Analysis and Visualization"
      ],
      "metadata": {
        "id": "coelITGoKoYT"
      }
    },
    {
      "cell_type": "code",
      "source": [
        "df.columns"
      ],
      "metadata": {
        "id": "3Zxh0MnFrWXQ",
        "colab": {
          "base_uri": "https://localhost:8080/"
        },
        "outputId": "e5f76def-5e00-4b6a-8816-ffbc5ac67395"
      },
      "execution_count": null,
      "outputs": [
        {
          "output_type": "execute_result",
          "data": {
            "text/plain": [
              "Index(['ID', 'Severity', 'Start_Time', 'End_Time', 'Start_Lat', 'Start_Lng',\n",
              "       'End_Lat', 'End_Lng', 'Distance(mi)', 'Description', 'Number', 'Street',\n",
              "       'Side', 'City', 'County', 'State', 'Zipcode', 'Country', 'Timezone',\n",
              "       'Airport_Code', 'Weather_Timestamp', 'Temperature(F)', 'Wind_Chill(F)',\n",
              "       'Humidity(%)', 'Pressure(in)', 'Visibility(mi)', 'Wind_Direction',\n",
              "       'Wind_Speed(mph)', 'Precipitation(in)', 'Weather_Condition', 'Amenity',\n",
              "       'Bump', 'Crossing', 'Give_Way', 'Junction', 'No_Exit', 'Railway',\n",
              "       'Roundabout', 'Station', 'Stop', 'Traffic_Calming', 'Traffic_Signal',\n",
              "       'Turning_Loop', 'Sunrise_Sunset', 'Civil_Twilight', 'Nautical_Twilight',\n",
              "       'Astronomical_Twilight'],\n",
              "      dtype='object')"
            ]
          },
          "metadata": {},
          "execution_count": 19
        }
      ]
    },
    {
      "cell_type": "markdown",
      "source": [
        "###**City**"
      ],
      "metadata": {
        "id": "cPlpA_pzet14"
      }
    },
    {
      "cell_type": "code",
      "source": [
        "df.City"
      ],
      "metadata": {
        "colab": {
          "base_uri": "https://localhost:8080/"
        },
        "id": "m7D7Air9K8lU",
        "outputId": "6694967d-abcd-4bd6-b0b4-59f9f4d5c876"
      },
      "execution_count": null,
      "outputs": [
        {
          "output_type": "execute_result",
          "data": {
            "text/plain": [
              "0               Dublin\n",
              "1               Dayton\n",
              "2           Cincinnati\n",
              "3                Akron\n",
              "4           Cincinnati\n",
              "              ...     \n",
              "2845337      Riverside\n",
              "2845338      San Diego\n",
              "2845339         Orange\n",
              "2845340    Culver City\n",
              "2845341       Highland\n",
              "Name: City, Length: 2845342, dtype: object"
            ]
          },
          "metadata": {},
          "execution_count": 20
        }
      ]
    },
    {
      "cell_type": "code",
      "source": [
        "cities = df.City.unique()"
      ],
      "metadata": {
        "id": "6T5yy7Z9R8QO"
      },
      "execution_count": null,
      "outputs": []
    },
    {
      "cell_type": "code",
      "source": [
        "len(cities)"
      ],
      "metadata": {
        "colab": {
          "base_uri": "https://localhost:8080/"
        },
        "id": "TsgWGcrMSGhX",
        "outputId": "ab7c521f-73b7-4631-b5e9-74acf1c4f2e6"
      },
      "execution_count": null,
      "outputs": [
        {
          "output_type": "execute_result",
          "data": {
            "text/plain": [
              "11682"
            ]
          },
          "metadata": {},
          "execution_count": 22
        }
      ]
    },
    {
      "cell_type": "code",
      "source": [
        "cities[:50]"
      ],
      "metadata": {
        "colab": {
          "base_uri": "https://localhost:8080/"
        },
        "id": "98NOncUYSIH4",
        "outputId": "5fa1c1a8-a0ef-4896-c20e-aee771ce6625"
      },
      "execution_count": null,
      "outputs": [
        {
          "output_type": "execute_result",
          "data": {
            "text/plain": [
              "array(['Dublin', 'Dayton', 'Cincinnati', 'Akron', 'Williamsburg',\n",
              "       'Cleveland', 'Lima', 'Westerville', 'Jamestown', 'Freeport',\n",
              "       'Columbus', 'Toledo', 'Roanoke', 'Ft Mitchell', 'Edinburgh',\n",
              "       'Fairborn', 'Shelbyville', 'Greensburg', 'Saint Paul',\n",
              "       'Parkersburg', 'Indianapolis', 'Dundee', 'Jeffersonville',\n",
              "       'Pittsburgh', 'Lewis Center', 'Dunkirk', 'Redkey', 'Milton',\n",
              "       'Willshire', 'Straughn', 'Cambridge Springs', 'Fremont',\n",
              "       'Louisville', 'South Charleston', 'Edinboro', 'Buckhannon',\n",
              "       'Lockbourne', 'Painesville', 'Washington', 'Dunbar', 'Angola',\n",
              "       'Edon', 'Medina', 'De Mossville', 'New Albany', 'Charleston',\n",
              "       'Fort Wayne', 'Burnsville', 'Bedford', 'Clarksville'], dtype=object)"
            ]
          },
          "metadata": {},
          "execution_count": 23
        }
      ]
    },
    {
      "cell_type": "code",
      "source": [
        "cities_by_acc = df.City.value_counts()\n",
        "cities_by_acc"
      ],
      "metadata": {
        "colab": {
          "base_uri": "https://localhost:8080/"
        },
        "id": "fG338H1VSKss",
        "outputId": "659b9780-4fb6-493b-d401-f4523c60b6ef"
      },
      "execution_count": null,
      "outputs": [
        {
          "output_type": "execute_result",
          "data": {
            "text/plain": [
              "Miami                           106966\n",
              "Los Angeles                      68956\n",
              "Orlando                          54691\n",
              "Dallas                           41979\n",
              "Houston                          39448\n",
              "                                 ...  \n",
              "Ridgedale                            1\n",
              "Sekiu                                1\n",
              "Wooldridge                           1\n",
              "Bullock                              1\n",
              "American Fork-Pleasant Grove         1\n",
              "Name: City, Length: 11681, dtype: int64"
            ]
          },
          "metadata": {},
          "execution_count": 24
        }
      ]
    },
    {
      "cell_type": "code",
      "source": [
        "cities_by_acc[:25]"
      ],
      "metadata": {
        "colab": {
          "base_uri": "https://localhost:8080/"
        },
        "id": "Pqlpfao8Sv5z",
        "outputId": "c7271e53-5c11-4664-e373-924b141947cf"
      },
      "execution_count": null,
      "outputs": [
        {
          "output_type": "execute_result",
          "data": {
            "text/plain": [
              "Miami           106966\n",
              "Los Angeles      68956\n",
              "Orlando          54691\n",
              "Dallas           41979\n",
              "Houston          39448\n",
              "Charlotte        33152\n",
              "Sacramento       32559\n",
              "San Diego        26627\n",
              "Raleigh          22840\n",
              "Minneapolis      22768\n",
              "Portland         20944\n",
              "Nashville        20267\n",
              "Austin           18301\n",
              "Baton Rouge      18182\n",
              "Phoenix          17143\n",
              "Saint Paul       16869\n",
              "New Orleans      16251\n",
              "Atlanta          15622\n",
              "Jacksonville     14967\n",
              "Richmond         14349\n",
              "Tucson           13799\n",
              "San Jose         13377\n",
              "Riverside        13310\n",
              "Kansas City      13298\n",
              "Bakersfield      12044\n",
              "Name: City, dtype: int64"
            ]
          },
          "metadata": {},
          "execution_count": 25
        }
      ]
    },
    {
      "cell_type": "code",
      "source": [
        "df.State"
      ],
      "metadata": {
        "colab": {
          "base_uri": "https://localhost:8080/"
        },
        "id": "41IWiHPKTAMo",
        "outputId": "f207db94-28f3-4337-a708-b45201719fa2"
      },
      "execution_count": null,
      "outputs": [
        {
          "output_type": "execute_result",
          "data": {
            "text/plain": [
              "0          OH\n",
              "1          OH\n",
              "2          OH\n",
              "3          OH\n",
              "4          OH\n",
              "           ..\n",
              "2845337    CA\n",
              "2845338    CA\n",
              "2845339    CA\n",
              "2845340    CA\n",
              "2845341    CA\n",
              "Name: State, Length: 2845342, dtype: object"
            ]
          },
          "metadata": {},
          "execution_count": 26
        }
      ]
    },
    {
      "cell_type": "code",
      "source": [
        "states_by_acc = df.State.value_counts()\n",
        "states_by_acc[:10]"
      ],
      "metadata": {
        "colab": {
          "base_uri": "https://localhost:8080/"
        },
        "id": "MVbynfEhTfNi",
        "outputId": "8ab279b7-f896-48ed-ef59-9702c8ca41b0"
      },
      "execution_count": null,
      "outputs": [
        {
          "output_type": "execute_result",
          "data": {
            "text/plain": [
              "CA    795868\n",
              "FL    401388\n",
              "TX    149037\n",
              "OR    126341\n",
              "VA    113535\n",
              "NY    108049\n",
              "PA     99975\n",
              "MN     97185\n",
              "NC     91362\n",
              "SC     89216\n",
              "Name: State, dtype: int64"
            ]
          },
          "metadata": {},
          "execution_count": 27
        }
      ]
    },
    {
      "cell_type": "code",
      "source": [
        "states_by_acc[:15].plot(kind = 'barh')"
      ],
      "metadata": {
        "colab": {
          "base_uri": "https://localhost:8080/",
          "height": 282
        },
        "id": "ddT5htLPWZqj",
        "outputId": "c1efae8c-d5b2-4718-e81a-556592b07c76"
      },
      "execution_count": null,
      "outputs": [
        {
          "output_type": "execute_result",
          "data": {
            "text/plain": [
              "<matplotlib.axes._subplots.AxesSubplot at 0x7f2bd95dc7d0>"
            ]
          },
          "metadata": {},
          "execution_count": 28
        },
        {
          "output_type": "display_data",
          "data": {
            "text/plain": [
              "<Figure size 432x288 with 1 Axes>"
            ],
            "image/png": "[encoded data removed]"
          },
          "metadata": {
            "needs_background": "light"
          }
        }
      ]
    },
    {
      "cell_type": "code",
      "source": [
        "cities_by_acc[:15].plot(kind = 'barh')"
      ],
      "metadata": {
        "colab": {
          "base_uri": "https://localhost:8080/",
          "height": 282
        },
        "id": "zomuuVQpTzQa",
        "outputId": "8df7b81a-7bbe-45f8-856d-7b15d51b6e02"
      },
      "execution_count": null,
      "outputs": [
        {
          "output_type": "execute_result",
          "data": {
            "text/plain": [
              "<matplotlib.axes._subplots.AxesSubplot at 0x7f2bd95ccf90>"
            ]
          },
          "metadata": {},
          "execution_count": 29
        },
        {
          "output_type": "display_data",
          "data": {
            "text/plain": [
              "<Figure size 432x288 with 1 Axes>"
            ],
            "image/png": "[encoded data removed]"
          },
          "metadata": {
            "needs_background": "light"
          }
        }
      ]
    },
    {
      "cell_type": "code",
      "source": [
        "import seaborn as sns\n",
        "sns.set_style(\"darkgrid\")"
      ],
      "metadata": {
        "id": "ifnDLkZJUTwj"
      },
      "execution_count": null,
      "outputs": []
    },
    {
      "cell_type": "code",
      "source": [
        "sns.histplot(cities_by_acc, log_scale = True)"
      ],
      "metadata": {
        "colab": {
          "base_uri": "https://localhost:8080/",
          "height": 300
        },
        "id": "TDF9CccWU8Ep",
        "outputId": "eb7aeb1d-d9b1-438e-fd27-242e3923b8e6"
      },
      "execution_count": null,
      "outputs": [
        {
          "output_type": "execute_result",
          "data": {
            "text/plain": [
              "<matplotlib.axes._subplots.AxesSubplot at 0x7f2bcd1a01d0>"
            ]
          },
          "metadata": {},
          "execution_count": 31
        },
        {
          "output_type": "display_data",
          "data": {
            "text/plain": [
              "<Figure size 432x288 with 1 Axes>"
            ],
            "image/png": "[encoded data removed]"
          },
          "metadata": {}
        }
      ]
    },
    {
      "cell_type": "code",
      "source": [
        "high_acc_cities = cities_by_acc[cities_by_acc >= 5000]\n",
        "low_acc_cities = cities_by_acc[cities_by_acc < 1000]"
      ],
      "metadata": {
        "id": "lJ_yPteHVGJc"
      },
      "execution_count": null,
      "outputs": []
    },
    {
      "cell_type": "code",
      "source": [
        "len(high_acc_cities)"
      ],
      "metadata": {
        "colab": {
          "base_uri": "https://localhost:8080/"
        },
        "id": "ooQSWG-AWGjk",
        "outputId": "583a9163-310b-4edd-be21-b6625a11481f"
      },
      "execution_count": null,
      "outputs": [
        {
          "output_type": "execute_result",
          "data": {
            "text/plain": [
              "71"
            ]
          },
          "metadata": {},
          "execution_count": 33
        }
      ]
    },
    {
      "cell_type": "code",
      "source": [
        "len(cities)"
      ],
      "metadata": {
        "colab": {
          "base_uri": "https://localhost:8080/"
        },
        "id": "P8MH1GZeWJ9d",
        "outputId": "ad937631-9161-4f98-9957-fafd44d66754"
      },
      "execution_count": null,
      "outputs": [
        {
          "output_type": "execute_result",
          "data": {
            "text/plain": [
              "11682"
            ]
          },
          "metadata": {},
          "execution_count": 34
        }
      ]
    },
    {
      "cell_type": "code",
      "source": [
        "len(low_acc_cities)"
      ],
      "metadata": {
        "colab": {
          "base_uri": "https://localhost:8080/"
        },
        "id": "nxaAbzpKWNY-",
        "outputId": "c0b8c4ec-6908-467f-cea1-3226442afa61"
      },
      "execution_count": null,
      "outputs": [
        {
          "output_type": "execute_result",
          "data": {
            "text/plain": [
              "11185"
            ]
          },
          "metadata": {},
          "execution_count": 35
        }
      ]
    },
    {
      "cell_type": "code",
      "source": [
        "len(cities_by_acc[cities_by_acc == 1])"
      ],
      "metadata": {
        "colab": {
          "base_uri": "https://localhost:8080/"
        },
        "id": "KCiJ509UXAHc",
        "outputId": "85c23f3d-372e-4f77-cb1c-7f2da9d5a98e"
      },
      "execution_count": null,
      "outputs": [
        {
          "output_type": "execute_result",
          "data": {
            "text/plain": [
              "1110"
            ]
          },
          "metadata": {},
          "execution_count": 36
        }
      ]
    },
    {
      "cell_type": "markdown",
      "source": [
        "###Start Time"
      ],
      "metadata": {
        "id": "2knaUbppejDk"
      }
    },
    {
      "cell_type": "code",
      "source": [
        "df.Start_Time"
      ],
      "metadata": {
        "colab": {
          "base_uri": "https://localhost:8080/"
        },
        "id": "EOqPs84hb2Bk",
        "outputId": "26222698-b650-421c-c0fe-4059d903ced7"
      },
      "execution_count": null,
      "outputs": [
        {
          "output_type": "execute_result",
          "data": {
            "text/plain": [
              "0          2016-02-08 00:37:08\n",
              "1          2016-02-08 05:56:20\n",
              "2          2016-02-08 06:15:39\n",
              "3          2016-02-08 06:51:45\n",
              "4          2016-02-08 07:53:43\n",
              "                  ...         \n",
              "2845337    2019-08-23 18:03:25\n",
              "2845338    2019-08-23 19:11:30\n",
              "2845339    2019-08-23 19:00:21\n",
              "2845340    2019-08-23 19:00:21\n",
              "2845341    2019-08-23 18:52:06\n",
              "Name: Start_Time, Length: 2845342, dtype: object"
            ]
          },
          "metadata": {},
          "execution_count": 37
        }
      ]
    },
    {
      "cell_type": "code",
      "source": [
        "df.Start_Time = pd.to_datetime(df.Start_Time)"
      ],
      "metadata": {
        "id": "eTqbGLA6e5P1"
      },
      "execution_count": null,
      "outputs": []
    },
    {
      "cell_type": "code",
      "source": [
        "df.Start_Time[1]"
      ],
      "metadata": {
        "colab": {
          "base_uri": "https://localhost:8080/"
        },
        "id": "tQ52Am93feZB",
        "outputId": "b3b3b90f-bb8f-4fec-e05f-ede1b6a7d359"
      },
      "execution_count": null,
      "outputs": [
        {
          "output_type": "execute_result",
          "data": {
            "text/plain": [
              "Timestamp('2016-02-08 05:56:20')"
            ]
          },
          "metadata": {},
          "execution_count": 39
        }
      ]
    },
    {
      "cell_type": "code",
      "source": [
        "sns.distplot(df.Start_Time.dt.hour,  bins = 24, norm_hist = True, kde = False)"
      ],
      "metadata": {
        "colab": {
          "base_uri": "https://localhost:8080/",
          "height": 352
        },
        "id": "m-YbVMUWfitt",
        "outputId": "c1d4652e-a2c5-466b-e9ac-7866983f9579"
      },
      "execution_count": null,
      "outputs": [
        {
          "output_type": "stream",
          "name": "stderr",
          "text": [
            "/usr/local/lib/python3.7/dist-packages/seaborn/distributions.py:2619: FutureWarning: `distplot` is a deprecated function and will be removed in a future version. Please adapt your code to use either `displot` (a figure-level function with similar flexibility) or `histplot` (an axes-level function for histograms).\n",
            "  warnings.warn(msg, FutureWarning)\n"
          ]
        },
        {
          "output_type": "execute_result",
          "data": {
            "text/plain": [
              "<matplotlib.axes._subplots.AxesSubplot at 0x7f2bccf0d650>"
            ]
          },
          "metadata": {},
          "execution_count": 40
        },
        {
          "output_type": "display_data",
          "data": {
            "text/plain": [
              "<Figure size 432x288 with 1 Axes>"
            ],
            "image/png": "[encoded data removed]"
          },
          "metadata": {}
        }
      ]
    },
    {
      "cell_type": "code",
      "source": [
        "sns.distplot(df.Start_Time.dt.dayofweek,  bins = 7,  kde = False, norm_hist = True)"
      ],
      "metadata": {
        "colab": {
          "base_uri": "https://localhost:8080/",
          "height": 297
        },
        "id": "kM76OF70guNK",
        "outputId": "f69c24b3-c85d-46bd-9ff1-c00c73c58d9b"
      },
      "execution_count": null,
      "outputs": [
        {
          "output_type": "execute_result",
          "data": {
            "text/plain": [
              "<matplotlib.axes._subplots.AxesSubplot at 0x7f2bf8dd3610>"
            ]
          },
          "metadata": {},
          "execution_count": 41
        },
        {
          "output_type": "display_data",
          "data": {
            "text/plain": [
              "<Figure size 432x288 with 1 Axes>"
            ],
            "image/png": "[encoded data removed]"
          },
          "metadata": {}
        }
      ]
    },
    {
      "cell_type": "code",
      "source": [
        "weekend = df.Start_Time[df.Start_Time.dt.dayofweek > 4]\n",
        "non_weekend = df.Start_Time[df.Start_Time.dt.dayofweek <= 4]\n",
        "monday = df.Start_Time[df.Start_Time.dt.dayofweek == 0]"
      ],
      "metadata": {
        "id": "c8pHrJSWh-40"
      },
      "execution_count": null,
      "outputs": []
    },
    {
      "cell_type": "code",
      "source": [
        "sns.distplot(weekend.dt.hour,  bins = 24, norm_hist = True, kde = False)"
      ],
      "metadata": {
        "colab": {
          "base_uri": "https://localhost:8080/",
          "height": 297
        },
        "id": "2VNe3ARbiZZ5",
        "outputId": "38ca5583-d41d-4cd0-ab40-2f68bbea6097"
      },
      "execution_count": null,
      "outputs": [
        {
          "output_type": "execute_result",
          "data": {
            "text/plain": [
              "<matplotlib.axes._subplots.AxesSubplot at 0x7f2bccd3ad50>"
            ]
          },
          "metadata": {},
          "execution_count": 43
        },
        {
          "output_type": "display_data",
          "data": {
            "text/plain": [
              "<Figure size 432x288 with 1 Axes>"
            ],
            "image/png": "[encoded data removed]"
          },
          "metadata": {}
        }
      ]
    },
    {
      "cell_type": "code",
      "source": [
        "sns.distplot(non_weekend.dt.hour,  bins = 24, norm_hist = True, kde = False)"
      ],
      "metadata": {
        "colab": {
          "base_uri": "https://localhost:8080/",
          "height": 297
        },
        "id": "j9w6sMgsi9H9",
        "outputId": "b0b3309c-144a-4b91-93f3-87a6ab881c7a"
      },
      "execution_count": null,
      "outputs": [
        {
          "output_type": "execute_result",
          "data": {
            "text/plain": [
              "<matplotlib.axes._subplots.AxesSubplot at 0x7f2bccc87c90>"
            ]
          },
          "metadata": {},
          "execution_count": 44
        },
        {
          "output_type": "display_data",
          "data": {
            "text/plain": [
              "<Figure size 432x288 with 1 Axes>"
            ],
            "image/png": "[encoded data removed]"
          },
          "metadata": {}
        }
      ]
    },
    {
      "cell_type": "markdown",
      "source": [
        "On Sundays the peak occurs between 10am - 9pm"
      ],
      "metadata": {
        "id": "ggayojjEVsGU"
      }
    },
    {
      "cell_type": "code",
      "source": [
        "sns.distplot(monday.dt.hour,  bins = 24, norm_hist = True, kde = False)"
      ],
      "metadata": {
        "id": "zVEOCU1kja_G",
        "colab": {
          "base_uri": "https://localhost:8080/",
          "height": 352
        },
        "outputId": "df2ae065-b5d1-4b21-cee5-10bbbe696fd2"
      },
      "execution_count": null,
      "outputs": [
        {
          "output_type": "stream",
          "name": "stderr",
          "text": [
            "/usr/local/lib/python3.7/dist-packages/seaborn/distributions.py:2619: FutureWarning: `distplot` is a deprecated function and will be removed in a future version. Please adapt your code to use either `displot` (a figure-level function with similar flexibility) or `histplot` (an axes-level function for histograms).\n",
            "  warnings.warn(msg, FutureWarning)\n"
          ]
        },
        {
          "output_type": "execute_result",
          "data": {
            "text/plain": [
              "<matplotlib.axes._subplots.AxesSubplot at 0x7f2bcc0ded90>"
            ]
          },
          "metadata": {},
          "execution_count": 48
        },
        {
          "output_type": "display_data",
          "data": {
            "text/plain": [
              "<Figure size 432x288 with 1 Axes>"
            ],
            "image/png": "[encoded data removed]"
          },
          "metadata": {}
        }
      ]
    },
    {
      "cell_type": "code",
      "source": [
        "sns.distplot(monday.dt.month,  bins = 12, norm_hist = True, kde = False)"
      ],
      "metadata": {
        "colab": {
          "base_uri": "https://localhost:8080/",
          "height": 352
        },
        "id": "f6dcnjfQWjvD",
        "outputId": "1b610634-b1a9-46ed-8b76-79e42a3a3bc1"
      },
      "execution_count": null,
      "outputs": [
        {
          "output_type": "stream",
          "name": "stderr",
          "text": [
            "/usr/local/lib/python3.7/dist-packages/seaborn/distributions.py:2619: FutureWarning: `distplot` is a deprecated function and will be removed in a future version. Please adapt your code to use either `displot` (a figure-level function with similar flexibility) or `histplot` (an axes-level function for histograms).\n",
            "  warnings.warn(msg, FutureWarning)\n"
          ]
        },
        {
          "output_type": "execute_result",
          "data": {
            "text/plain": [
              "<matplotlib.axes._subplots.AxesSubplot at 0x7f2bcbfad190>"
            ]
          },
          "metadata": {},
          "execution_count": 50
        },
        {
          "output_type": "display_data",
          "data": {
            "text/plain": [
              "<Figure size 432x288 with 1 Axes>"
            ],
            "image/png": "[encoded data removed]"
          },
          "metadata": {}
        }
      ]
    },
    {
      "cell_type": "code",
      "source": [
        "df_2019 = df.Start_Time[df.Start_Time.dt.year == 2018]\n",
        "sns.distplot(df_2019.dt.month,  bins = 12, norm_hist = True, kde = False)"
      ],
      "metadata": {
        "colab": {
          "base_uri": "https://localhost:8080/",
          "height": 297
        },
        "id": "OirrZ4QUWtya",
        "outputId": "3435dc1d-e2ab-45a9-8578-800f45f6c463"
      },
      "execution_count": null,
      "outputs": [
        {
          "output_type": "execute_result",
          "data": {
            "text/plain": [
              "<matplotlib.axes._subplots.AxesSubplot at 0x7f2bcb82e850>"
            ]
          },
          "metadata": {},
          "execution_count": 61
        },
        {
          "output_type": "display_data",
          "data": {
            "text/plain": [
              "<Figure size 432x288 with 1 Axes>"
            ],
            "image/png": "[encoded data removed]"
          },
          "metadata": {}
        }
      ]
    },
    {
      "cell_type": "markdown",
      "source": [
        "### Start Latitude & Longitude"
      ],
      "metadata": {
        "id": "4wism_pvck9a"
      }
    },
    {
      "cell_type": "code",
      "source": [
        "df.Start_Lat"
      ],
      "metadata": {
        "colab": {
          "base_uri": "https://localhost:8080/"
        },
        "id": "IM7FpISBb69W",
        "outputId": "e49b7219-31c0-4602-985e-3298c906ebb9"
      },
      "execution_count": null,
      "outputs": [
        {
          "output_type": "execute_result",
          "data": {
            "text/plain": [
              "0          40.108910\n",
              "1          39.865420\n",
              "2          39.102660\n",
              "3          41.062130\n",
              "4          39.172393\n",
              "             ...    \n",
              "2845337    34.002480\n",
              "2845338    32.766960\n",
              "2845339    33.775450\n",
              "2845340    33.992460\n",
              "2845341    34.133930\n",
              "Name: Start_Lat, Length: 2845342, dtype: float64"
            ]
          },
          "metadata": {},
          "execution_count": 64
        }
      ]
    },
    {
      "cell_type": "code",
      "source": [
        "df.Start_Lng"
      ],
      "metadata": {
        "colab": {
          "base_uri": "https://localhost:8080/"
        },
        "id": "i20dd9XDcseN",
        "outputId": "05812312-6b65-4e03-b28d-8258ac213661"
      },
      "execution_count": null,
      "outputs": [
        {
          "output_type": "execute_result",
          "data": {
            "text/plain": [
              "0          -83.092860\n",
              "1          -84.062800\n",
              "2          -84.524680\n",
              "3          -81.537840\n",
              "4          -84.492792\n",
              "              ...    \n",
              "2845337   -117.379360\n",
              "2845338   -117.148060\n",
              "2845339   -117.847790\n",
              "2845340   -118.403020\n",
              "2845341   -117.230920\n",
              "Name: Start_Lng, Length: 2845342, dtype: float64"
            ]
          },
          "metadata": {},
          "execution_count": 65
        }
      ]
    },
    {
      "cell_type": "code",
      "source": [
        "sample_df = df.sample(int(0.0001 * len(df)))\n",
        "sample_df"
      ],
      "metadata": {
        "colab": {
          "base_uri": "https://localhost:8080/",
          "height": 1000
        },
        "id": "sGA_K-fZfnSC",
        "outputId": "2716f34b-77ef-4faf-dc15-5583804935a5"
      },
      "execution_count": null,
      "outputs": [
        {
          "output_type": "execute_result",
          "data": {
            "text/plain": [
              "                ID  Severity          Start_Time  \\\n",
              "1423939  A-1423940         2 2021-08-25 05:03:25   \n",
              "1359135  A-1359136         2 2021-11-17 18:45:25   \n",
              "1529945  A-1529946         2 2021-02-06 02:20:00   \n",
              "2316703  A-2316704         2 2020-01-26 05:19:00   \n",
              "893225    A-893226         2 2021-11-09 06:15:30   \n",
              "...            ...       ...                 ...   \n",
              "1222649  A-1222650         2 2021-12-07 17:24:08   \n",
              "2819195  A-2819196         2 2019-08-29 17:26:30   \n",
              "1074912  A-1074913         2 2021-04-02 10:25:30   \n",
              "2453616  A-2453617         2 2019-11-09 22:55:00   \n",
              "1772562  A-1772563         2 2021-01-01 01:48:00   \n",
              "\n",
              "                              End_Time  Start_Lat   Start_Lng    End_Lat  \\\n",
              "1423939  2021-08-25 08:05:08.000000000  35.450681  -94.320255  35.452621   \n",
              "1359135            2021-11-17 21:03:17  27.752064  -82.658903  27.752065   \n",
              "1529945            2021-02-06 05:00:28  41.980850  -77.233127  41.981226   \n",
              "2316703            2020-01-26 05:50:00  38.640100 -121.271688  38.640100   \n",
              "893225   2021-11-09 06:31:30.000000000  42.969050  -85.700299  42.965973   \n",
              "...                                ...        ...         ...        ...   \n",
              "1222649            2021-12-07 20:26:21  25.892058  -80.163016  25.889378   \n",
              "2819195            2019-08-29 18:38:01  33.710253 -117.782227  33.710253   \n",
              "1074912            2021-04-02 12:49:28  33.825581 -117.876301  33.809818   \n",
              "2453616            2019-11-10 04:06:30  38.563410 -121.341435  38.563410   \n",
              "1772562            2021-01-01 04:06:07  36.695104  -76.725003  36.695323   \n",
              "\n",
              "            End_Lng  Distance(mi)  \\\n",
              "1423939  -94.320425         0.134   \n",
              "1359135  -82.659063         0.010   \n",
              "1529945  -77.229079         0.210   \n",
              "2316703 -121.271688         0.000   \n",
              "893225   -85.706426         0.376   \n",
              "...             ...           ...   \n",
              "1222649  -80.163301         0.186   \n",
              "2819195 -117.782227         0.000   \n",
              "1074912 -117.879249         1.102   \n",
              "2453616 -121.341435         0.000   \n",
              "1772562  -76.728515         0.195   \n",
              "\n",
              "                                               Description  ...  Roundabout  \\\n",
              "1423939  Incident on I-540 NB near EXIT 1B Drive with c...  ...       False   \n",
              "1359135  Incident on 18TH AVE S near 19TH ST S Drive wi...  ...       False   \n",
              "1529945  Crash on BLISS RD / LAKEVIEW RD both direction...  ...       False   \n",
              "2316703                      At American River - Accident.  ...       False   \n",
              "893225   Slow traffic on Gerald R Ford Fwy W - I-196 W ...  ...       False   \n",
              "...                                                    ...  ...         ...   \n",
              "1222649  Stationary traffic on FL-922 - US-1 S - FL-5 f...  ...       False   \n",
              "2819195        At I-5/Santa Ana Fwy/Trabuco Rd - Accident.  ...       False   \n",
              "1074912  Slow traffic on Orange Fwy S - CA-57 S from Li...  ...       False   \n",
              "2453616                         At Bradshaw Rd - Accident.  ...       False   \n",
              "1772562  On US-58 in the City of Suffolk in the vicinit...  ...       False   \n",
              "\n",
              "        Station   Stop Traffic_Calming Traffic_Signal Turning_Loop  \\\n",
              "1423939   False  False           False          False        False   \n",
              "1359135    True  False           False          False        False   \n",
              "1529945   False  False           False          False        False   \n",
              "2316703   False  False           False           True        False   \n",
              "893225    False  False           False          False        False   \n",
              "...         ...    ...             ...            ...          ...   \n",
              "1222649    True  False           False          False        False   \n",
              "2819195   False  False           False          False        False   \n",
              "1074912   False  False           False          False        False   \n",
              "2453616   False  False           False          False        False   \n",
              "1772562   False  False           False          False        False   \n",
              "\n",
              "        Sunrise_Sunset Civil_Twilight Nautical_Twilight Astronomical_Twilight  \n",
              "1423939          Night          Night             Night                 Night  \n",
              "1359135          Night          Night             Night                   Day  \n",
              "1529945          Night          Night             Night                 Night  \n",
              "2316703          Night          Night             Night                 Night  \n",
              "893225           Night          Night             Night                   Day  \n",
              "...                ...            ...               ...                   ...  \n",
              "1222649            Day            Day               Day                   Day  \n",
              "2819195            Day            Day               Day                   Day  \n",
              "1074912            Day            Day               Day                   Day  \n",
              "2453616          Night          Night             Night                 Night  \n",
              "1772562          Night          Night             Night                 Night  \n",
              "\n",
              "[284 rows x 47 columns]"
            ],
            "text/html": [
              "\n",
              "  <div id=\"df-c8fa1c7b-e94a-44c7-9673-7e56043a32f9\">\n",
              "    <div class=\"colab-df-container\">\n",
              "      <div>\n",
              "<style scoped>\n",
              "    .dataframe tbody tr th:only-of-type {\n",
              "        vertical-align: middle;\n",
              "    }\n",
              "\n",
              "    .dataframe tbody tr th {\n",
              "        vertical-align: top;\n",
              "    }\n",
              "\n",
              "    .dataframe thead th {\n",
              "        text-align: right;\n",
              "    }\n",
              "</style>\n",
              "<table border=\"1\" class=\"dataframe\">\n",
              "  <thead>\n",
              "    <tr style=\"text-align: right;\">\n",
              "      <th></th>\n",
              "      <th>ID</th>\n",
              "      <th>Severity</th>\n",
              "      <th>Start_Time</th>\n",
              "      <th>End_Time</th>\n",
              "      <th>Start_Lat</th>\n",
              "      <th>Start_Lng</th>\n",
              "      <th>End_Lat</th>\n",
              "      <th>End_Lng</th>\n",
              "      <th>Distance(mi)</th>\n",
              "      <th>Description</th>\n",
              "      <th>...</th>\n",
              "      <th>Roundabout</th>\n",
              "      <th>Station</th>\n",
              "      <th>Stop</th>\n",
              "      <th>Traffic_Calming</th>\n",
              "      <th>Traffic_Signal</th>\n",
              "      <th>Turning_Loop</th>\n",
              "      <th>Sunrise_Sunset</th>\n",
              "      <th>Civil_Twilight</th>\n",
              "      <th>Nautical_Twilight</th>\n",
              "      <th>Astronomical_Twilight</th>\n",
              "    </tr>\n",
              "  </thead>\n",
              "  <tbody>\n",
              "    <tr>\n",
              "      <th>1423939</th>\n",
              "      <td>A-1423940</td>\n",
              "      <td>2</td>\n",
              "      <td>2021-08-25 05:03:25</td>\n",
              "      <td>2021-08-25 08:05:08.000000000</td>\n",
              "      <td>35.450681</td>\n",
              "      <td>-94.320255</td>\n",
              "      <td>35.452621</td>\n",
              "      <td>-94.320425</td>\n",
              "      <td>0.134</td>\n",
              "      <td>Incident on I-540 NB near EXIT 1B Drive with c...</td>\n",
              "      <td>...</td>\n",
              "      <td>False</td>\n",
              "      <td>False</td>\n",
              "      <td>False</td>\n",
              "      <td>False</td>\n",
              "      <td>False</td>\n",
              "      <td>False</td>\n",
              "      <td>Night</td>\n",
              "      <td>Night</td>\n",
              "      <td>Night</td>\n",
              "      <td>Night</td>\n",
              "    </tr>\n",
              "    <tr>\n",
              "      <th>1359135</th>\n",
              "      <td>A-1359136</td>\n",
              "      <td>2</td>\n",
              "      <td>2021-11-17 18:45:25</td>\n",
              "      <td>2021-11-17 21:03:17</td>\n",
              "      <td>27.752064</td>\n",
              "      <td>-82.658903</td>\n",
              "      <td>27.752065</td>\n",
              "      <td>-82.659063</td>\n",
              "      <td>0.010</td>\n",
              "      <td>Incident on 18TH AVE S near 19TH ST S Drive wi...</td>\n",
              "      <td>...</td>\n",
              "      <td>False</td>\n",
              "      <td>True</td>\n",
              "      <td>False</td>\n",
              "      <td>False</td>\n",
              "      <td>False</td>\n",
              "      <td>False</td>\n",
              "      <td>Night</td>\n",
              "      <td>Night</td>\n",
              "      <td>Night</td>\n",
              "      <td>Day</td>\n",
              "    </tr>\n",
              "    <tr>\n",
              "      <th>1529945</th>\n",
              "      <td>A-1529946</td>\n",
              "      <td>2</td>\n",
              "      <td>2021-02-06 02:20:00</td>\n",
              "      <td>2021-02-06 05:00:28</td>\n",
              "      <td>41.980850</td>\n",
              "      <td>-77.233127</td>\n",
              "      <td>41.981226</td>\n",
              "      <td>-77.229079</td>\n",
              "      <td>0.210</td>\n",
              "      <td>Crash on BLISS RD / LAKEVIEW RD both direction...</td>\n",
              "      <td>...</td>\n",
              "      <td>False</td>\n",
              "      <td>False</td>\n",
              "      <td>False</td>\n",
              "      <td>False</td>\n",
              "      <td>False</td>\n",
              "      <td>False</td>\n",
              "      <td>Night</td>\n",
              "      <td>Night</td>\n",
              "      <td>Night</td>\n",
              "      <td>Night</td>\n",
              "    </tr>\n",
              "    <tr>\n",
              "      <th>2316703</th>\n",
              "      <td>A-2316704</td>\n",
              "      <td>2</td>\n",
              "      <td>2020-01-26 05:19:00</td>\n",
              "      <td>2020-01-26 05:50:00</td>\n",
              "      <td>38.640100</td>\n",
              "      <td>-121.271688</td>\n",
              "      <td>38.640100</td>\n",
              "      <td>-121.271688</td>\n",
              "      <td>0.000</td>\n",
              "      <td>At American River - Accident.</td>\n",
              "      <td>...</td>\n",
              "      <td>False</td>\n",
              "      <td>False</td>\n",
              "      <td>False</td>\n",
              "      <td>False</td>\n",
              "      <td>True</td>\n",
              "      <td>False</td>\n",
              "      <td>Night</td>\n",
              "      <td>Night</td>\n",
              "      <td>Night</td>\n",
              "      <td>Night</td>\n",
              "    </tr>\n",
              "    <tr>\n",
              "      <th>893225</th>\n",
              "      <td>A-893226</td>\n",
              "      <td>2</td>\n",
              "      <td>2021-11-09 06:15:30</td>\n",
              "      <td>2021-11-09 06:31:30.000000000</td>\n",
              "      <td>42.969050</td>\n",
              "      <td>-85.700299</td>\n",
              "      <td>42.965973</td>\n",
              "      <td>-85.706426</td>\n",
              "      <td>0.376</td>\n",
              "      <td>Slow traffic on Gerald R Ford Fwy W - I-196 W ...</td>\n",
              "      <td>...</td>\n",
              "      <td>False</td>\n",
              "      <td>False</td>\n",
              "      <td>False</td>\n",
              "      <td>False</td>\n",
              "      <td>False</td>\n",
              "      <td>False</td>\n",
              "      <td>Night</td>\n",
              "      <td>Night</td>\n",
              "      <td>Night</td>\n",
              "      <td>Day</td>\n",
              "    </tr>\n",
              "    <tr>\n",
              "      <th>...</th>\n",
              "      <td>...</td>\n",
              "      <td>...</td>\n",
              "      <td>...</td>\n",
              "      <td>...</td>\n",
              "      <td>...</td>\n",
              "      <td>...</td>\n",
              "      <td>...</td>\n",
              "      <td>...</td>\n",
              "      <td>...</td>\n",
              "      <td>...</td>\n",
              "      <td>...</td>\n",
              "      <td>...</td>\n",
              "      <td>...</td>\n",
              "      <td>...</td>\n",
              "      <td>...</td>\n",
              "      <td>...</td>\n",
              "      <td>...</td>\n",
              "      <td>...</td>\n",
              "      <td>...</td>\n",
              "      <td>...</td>\n",
              "      <td>...</td>\n",
              "    </tr>\n",
              "    <tr>\n",
              "      <th>1222649</th>\n",
              "      <td>A-1222650</td>\n",
              "      <td>2</td>\n",
              "      <td>2021-12-07 17:24:08</td>\n",
              "      <td>2021-12-07 20:26:21</td>\n",
              "      <td>25.892058</td>\n",
              "      <td>-80.163016</td>\n",
              "      <td>25.889378</td>\n",
              "      <td>-80.163301</td>\n",
              "      <td>0.186</td>\n",
              "      <td>Stationary traffic on FL-922 - US-1 S - FL-5 f...</td>\n",
              "      <td>...</td>\n",
              "      <td>False</td>\n",
              "      <td>True</td>\n",
              "      <td>False</td>\n",
              "      <td>False</td>\n",
              "      <td>False</td>\n",
              "      <td>False</td>\n",
              "      <td>Day</td>\n",
              "      <td>Day</td>\n",
              "      <td>Day</td>\n",
              "      <td>Day</td>\n",
              "    </tr>\n",
              "    <tr>\n",
              "      <th>2819195</th>\n",
              "      <td>A-2819196</td>\n",
              "      <td>2</td>\n",
              "      <td>2019-08-29 17:26:30</td>\n",
              "      <td>2019-08-29 18:38:01</td>\n",
              "      <td>33.710253</td>\n",
              "      <td>-117.782227</td>\n",
              "      <td>33.710253</td>\n",
              "      <td>-117.782227</td>\n",
              "      <td>0.000</td>\n",
              "      <td>At I-5/Santa Ana Fwy/Trabuco Rd - Accident.</td>\n",
              "      <td>...</td>\n",
              "      <td>False</td>\n",
              "      <td>False</td>\n",
              "      <td>False</td>\n",
              "      <td>False</td>\n",
              "      <td>False</td>\n",
              "      <td>False</td>\n",
              "      <td>Day</td>\n",
              "      <td>Day</td>\n",
              "      <td>Day</td>\n",
              "      <td>Day</td>\n",
              "    </tr>\n",
              "    <tr>\n",
              "      <th>1074912</th>\n",
              "      <td>A-1074913</td>\n",
              "      <td>2</td>\n",
              "      <td>2021-04-02 10:25:30</td>\n",
              "      <td>2021-04-02 12:49:28</td>\n",
              "      <td>33.825581</td>\n",
              "      <td>-117.876301</td>\n",
              "      <td>33.809818</td>\n",
              "      <td>-117.879249</td>\n",
              "      <td>1.102</td>\n",
              "      <td>Slow traffic on Orange Fwy S - CA-57 S from Li...</td>\n",
              "      <td>...</td>\n",
              "      <td>False</td>\n",
              "      <td>False</td>\n",
              "      <td>False</td>\n",
              "      <td>False</td>\n",
              "      <td>False</td>\n",
              "      <td>False</td>\n",
              "      <td>Day</td>\n",
              "      <td>Day</td>\n",
              "      <td>Day</td>\n",
              "      <td>Day</td>\n",
              "    </tr>\n",
              "    <tr>\n",
              "      <th>2453616</th>\n",
              "      <td>A-2453617</td>\n",
              "      <td>2</td>\n",
              "      <td>2019-11-09 22:55:00</td>\n",
              "      <td>2019-11-10 04:06:30</td>\n",
              "      <td>38.563410</td>\n",
              "      <td>-121.341435</td>\n",
              "      <td>38.563410</td>\n",
              "      <td>-121.341435</td>\n",
              "      <td>0.000</td>\n",
              "      <td>At Bradshaw Rd - Accident.</td>\n",
              "      <td>...</td>\n",
              "      <td>False</td>\n",
              "      <td>False</td>\n",
              "      <td>False</td>\n",
              "      <td>False</td>\n",
              "      <td>False</td>\n",
              "      <td>False</td>\n",
              "      <td>Night</td>\n",
              "      <td>Night</td>\n",
              "      <td>Night</td>\n",
              "      <td>Night</td>\n",
              "    </tr>\n",
              "    <tr>\n",
              "      <th>1772562</th>\n",
              "      <td>A-1772563</td>\n",
              "      <td>2</td>\n",
              "      <td>2021-01-01 01:48:00</td>\n",
              "      <td>2021-01-01 04:06:07</td>\n",
              "      <td>36.695104</td>\n",
              "      <td>-76.725003</td>\n",
              "      <td>36.695323</td>\n",
              "      <td>-76.728515</td>\n",
              "      <td>0.195</td>\n",
              "      <td>On US-58 in the City of Suffolk in the vicinit...</td>\n",
              "      <td>...</td>\n",
              "      <td>False</td>\n",
              "      <td>False</td>\n",
              "      <td>False</td>\n",
              "      <td>False</td>\n",
              "      <td>False</td>\n",
              "      <td>False</td>\n",
              "      <td>Night</td>\n",
              "      <td>Night</td>\n",
              "      <td>Night</td>\n",
              "      <td>Night</td>\n",
              "    </tr>\n",
              "  </tbody>\n",
              "</table>\n",
              "<p>284 rows × 47 columns</p>\n",
              "</div>\n",
              "      <button class=\"colab-df-convert\" onclick=\"convertToInteractive('df-c8fa1c7b-e94a-44c7-9673-7e56043a32f9')\"\n",
              "              title=\"Convert this dataframe to an interactive table.\"\n",
              "              style=\"display:none;\">\n",
              "        \n",
              "  <svg xmlns=\"http://www.w3.org/2000/svg\" height=\"24px\"viewBox=\"0 0 24 24\"\n",
              "       width=\"24px\">\n",
              "    <path d=\"M0 0h24v24H0V0z\" fill=\"none\"/>\n",
              "    <path d=\"M18.56 5.44l.94 2.06.94-2.06 2.06-.94-2.06-.94-.94-2.06-.94 2.06-2.06.94zm-11 1L8.5 8.5l.94-2.06 2.06-.94-2.06-.94L8.5 2.5l-.94 2.06-2.06.94zm10 10l.94 2.06.94-2.06 2.06-.94-2.06-.94-.94-2.06-.94 2.06-2.06.94z\"/><path d=\"M17.41 7.96l-1.37-1.37c-.4-.4-.92-.59-1.43-.59-.52 0-1.04.2-1.43.59L10.3 9.45l-7.72 7.72c-.78.78-.78 2.05 0 2.83L4 21.41c.39.39.9.59 1.41.59.51 0 1.02-.2 1.41-.59l7.78-7.78 2.81-2.81c.8-.78.8-2.07 0-2.86zM5.41 20L4 18.59l7.72-7.72 1.47 1.35L5.41 20z\"/>\n",
              "  </svg>\n",
              "      </button>\n",
              "      \n",
              "  <style>\n",
              "    .colab-df-container {\n",
              "      display:flex;\n",
              "      flex-wrap:wrap;\n",
              "      gap: 12px;\n",
              "    }\n",
              "\n",
              "    .colab-df-convert {\n",
              "      background-color: #E8F0FE;\n",
              "      border: none;\n",
              "      border-radius: 50%;\n",
              "      cursor: pointer;\n",
              "      display: none;\n",
              "      fill: #1967D2;\n",
              "      height: 32px;\n",
              "      padding: 0 0 0 0;\n",
              "      width: 32px;\n",
              "    }\n",
              "\n",
              "    .colab-df-convert:hover {\n",
              "      background-color: #E2EBFA;\n",
              "      box-shadow: 0px 1px 2px rgba(60, 64, 67, 0.3), 0px 1px 3px 1px rgba(60, 64, 67, 0.15);\n",
              "      fill: #174EA6;\n",
              "    }\n",
              "\n",
              "    [theme=dark] .colab-df-convert {\n",
              "      background-color: #3B4455;\n",
              "      fill: #D2E3FC;\n",
              "    }\n",
              "\n",
              "    [theme=dark] .colab-df-convert:hover {\n",
              "      background-color: #434B5C;\n",
              "      box-shadow: 0px 1px 3px 1px rgba(0, 0, 0, 0.15);\n",
              "      filter: drop-shadow(0px 1px 2px rgba(0, 0, 0, 0.3));\n",
              "      fill: #FFFFFF;\n",
              "    }\n",
              "  </style>\n",
              "\n",
              "      <script>\n",
              "        const buttonEl =\n",
              "          document.querySelector('#df-c8fa1c7b-e94a-44c7-9673-7e56043a32f9 button.colab-df-convert');\n",
              "        buttonEl.style.display =\n",
              "          google.colab.kernel.accessAllowed ? 'block' : 'none';\n",
              "\n",
              "        async function convertToInteractive(key) {\n",
              "          const element = document.querySelector('#df-c8fa1c7b-e94a-44c7-9673-7e56043a32f9');\n",
              "          const dataTable =\n",
              "            await google.colab.kernel.invokeFunction('convertToInteractive',\n",
              "                                                     [key], {});\n",
              "          if (!dataTable) return;\n",
              "\n",
              "          const docLinkHtml = 'Like what you see? Visit the ' +\n",
              "            '<a target=\"_blank\" href=https://colab.research.google.com/notebooks/data_table.ipynb>data table notebook</a>'\n",
              "            + ' to learn more about interactive tables.';\n",
              "          element.innerHTML = '';\n",
              "          dataTable['output_type'] = 'display_data';\n",
              "          await google.colab.output.renderOutput(dataTable, element);\n",
              "          const docLink = document.createElement('div');\n",
              "          docLink.innerHTML = docLinkHtml;\n",
              "          element.appendChild(docLink);\n",
              "        }\n",
              "      </script>\n",
              "    </div>\n",
              "  </div>\n",
              "  "
            ]
          },
          "metadata": {},
          "execution_count": 95
        }
      ]
    },
    {
      "cell_type": "code",
      "source": [
        "sns.scatterplot(x=sample_df.Start_Lng, y=sample_df.Start_Lat,size = 0.001)"
      ],
      "metadata": {
        "colab": {
          "base_uri": "https://localhost:8080/",
          "height": 300
        },
        "id": "iml3ztQrc09X",
        "outputId": "ba3ee287-0dcf-46ae-94d3-1d75f01aa715"
      },
      "execution_count": null,
      "outputs": [
        {
          "output_type": "execute_result",
          "data": {
            "text/plain": [
              "<matplotlib.axes._subplots.AxesSubplot at 0x7f2bc6e9f610>"
            ]
          },
          "metadata": {},
          "execution_count": 87
        },
        {
          "output_type": "display_data",
          "data": {
            "text/plain": [
              "<Figure size 432x288 with 1 Axes>"
            ],
            "image/png": "[encoded data removed]"
          },
          "metadata": {}
        }
      ]
    },
    {
      "cell_type": "code",
      "source": [
        "import folium\n",
        "from folium.plugins import HeatMap"
      ],
      "metadata": {
        "id": "bt3oQlVqe-Sh"
      },
      "execution_count": null,
      "outputs": []
    },
    {
      "cell_type": "code",
      "source": [
        "for x in df[['Start_Lat', 'Start_Lng']].sample(100).iteritems():\n",
        "  print(x[1])"
      ],
      "metadata": {
        "colab": {
          "base_uri": "https://localhost:8080/"
        },
        "id": "0SooU_fViSpe",
        "outputId": "820bb756-2cbf-47c7-bf4b-fd9b3edaa642"
      },
      "execution_count": null,
      "outputs": [
        {
          "output_type": "stream",
          "name": "stdout",
          "text": [
            "240634     29.343475\n",
            "53033      29.998130\n",
            "212269     45.542470\n",
            "805914     36.075882\n",
            "724581     34.145743\n",
            "             ...    \n",
            "357671     34.318896\n",
            "1841979    40.758043\n",
            "2010578    39.180667\n",
            "537891     33.616012\n",
            "209071     28.511460\n",
            "Name: Start_Lat, Length: 100, dtype: float64\n",
            "240634     -94.949865\n",
            "53033      -82.592920\n",
            "212269    -122.867100\n",
            "805914     -86.639938\n",
            "724581    -118.368717\n",
            "              ...    \n",
            "357671    -118.443142\n",
            "1841979    -74.205597\n",
            "2010578    -94.525898\n",
            "537891     -79.007784\n",
            "209071     -81.396560\n",
            "Name: Start_Lng, Length: 100, dtype: float64\n"
          ]
        }
      ]
    },
    {
      "cell_type": "code",
      "source": [
        "lat, lon = df.Start_Lat[0], df.Start_Lng[0]\n",
        "lat, lon"
      ],
      "metadata": {
        "colab": {
          "base_uri": "https://localhost:8080/"
        },
        "id": "d6dzH4gWlcsN",
        "outputId": "38b44e2c-f06e-4bde-ae5d-ff1b5033ca5d"
      },
      "execution_count": null,
      "outputs": [
        {
          "output_type": "execute_result",
          "data": {
            "text/plain": [
              "(40.10891, -83.09286)"
            ]
          },
          "metadata": {},
          "execution_count": 99
        }
      ]
    },
    {
      "cell_type": "code",
      "source": [
        "sample_df = df.sample(int(0.001 * len(df)))\n",
        "lat_lon_pairs = list(zip(list(sample_df.Start_Lat), list(sample_df.Start_Lng)))"
      ],
      "metadata": {
        "id": "RwyPKnYdlktH"
      },
      "execution_count": null,
      "outputs": []
    },
    {
      "cell_type": "code",
      "source": [
        "map = folium.Map()\n",
        "HeatMap(lat_lon_pairs).add_to(map)\n",
        "map"
      ],
      "metadata": {
        "colab": {
          "base_uri": "https://localhost:8080/",
          "height": 685
        },
        "id": "IyEJ3fj-gje5",
        "outputId": "56b159dd-2c38-4d44-ec58-1d81959f9823"
      },
      "execution_count": null,
      "outputs": [
        {
          "output_type": "execute_result",
          "data": {
            "text/plain": [
              "<folium.folium.Map at 0x7f2bb7ca72d0>"
            ],
            "text/html": [
              "<div style=\"width:100%;\"><div style=\"position:relative;width:100%;height:0;padding-bottom:60%;\"><span style=\"color:#565656\">Make this Notebook Trusted to load map: File -> Trust Notebook</span><iframe srcdoc=\"&lt;!DOCTYPE html&gt;\n",
              "&lt;html&gt;\n",
              "&lt;head&gt;\n",
              "    \n",
              "    &lt;meta http-equiv=&quot;content-type&quot; content=&quot;text/html; charset=UTF-8&quot; /&gt;\n",
              "    \n",
              "        &lt;script&gt;\n",
              "            L_NO_TOUCH = false;\n",
              "            L_DISABLE_3D = false;\n",
              "        &lt;/script&gt;\n",
              "    \n",
              "    &lt;style&gt;html, body {width: 100%;height: 100%;margin: 0;padding: 0;}&lt;/style&gt;\n",
              "    &lt;style&gt;#map {position:absolute;top:0;bottom:0;right:0;left:0;}&lt;/style&gt;\n",
              "    &lt;script src=&quot;https://cdn.jsdelivr.net/npm/leaflet@1.6.0/dist/leaflet.js&quot;&gt;&lt;/script&gt;\n",
              "    &lt;script src=&quot;https://code.jquery.com/jquery-1.12.4.min.js&quot;&gt;&lt;/script&gt;\n",
              "    &lt;script src=&quot;https://maxcdn.bootstrapcdn.com/bootstrap/3.2.0/js/bootstrap.min.js&quot;&gt;&lt;/script&gt;\n",
              "    &lt;script src=&quot;https://cdnjs.cloudflare.com/ajax/libs/Leaflet.awesome-markers/2.0.2/leaflet.awesome-markers.js&quot;&gt;&lt;/script&gt;\n",
              "    &lt;link rel=&quot;stylesheet&quot; href=&quot;https://cdn.jsdelivr.net/npm/leaflet@1.6.0/dist/leaflet.css&quot;/&gt;\n",
              "    &lt;link rel=&quot;stylesheet&quot; href=&quot;https://maxcdn.bootstrapcdn.com/bootstrap/3.2.0/css/bootstrap.min.css&quot;/&gt;\n",
              "    &lt;link rel=&quot;stylesheet&quot; href=&quot;https://maxcdn.bootstrapcdn.com/bootstrap/3.2.0/css/bootstrap-theme.min.css&quot;/&gt;\n",
              "    &lt;link rel=&quot;stylesheet&quot; href=&quot;https://maxcdn.bootstrapcdn.com/font-awesome/4.6.3/css/font-awesome.min.css&quot;/&gt;\n",
              "    &lt;link rel=&quot;stylesheet&quot; href=&quot;https://cdnjs.cloudflare.com/ajax/libs/Leaflet.awesome-markers/2.0.2/leaflet.awesome-markers.css&quot;/&gt;\n",
              "    &lt;link rel=&quot;stylesheet&quot; href=&quot;https://cdn.jsdelivr.net/gh/python-visualization/folium/folium/templates/leaflet.awesome.rotate.min.css&quot;/&gt;\n",
              "    \n",
              "            &lt;meta name=&quot;viewport&quot; content=&quot;width=device-width,\n",
              "                initial-scale=1.0, maximum-scale=1.0, user-scalable=no&quot; /&gt;\n",
              "            &lt;style&gt;\n",
              "                #map_bb9579e7e6e5fbbcdd067713be67cda5 {\n",
              "                    position: relative;\n",
              "                    width: 100.0%;\n",
              "                    height: 100.0%;\n",
              "                    left: 0.0%;\n",
              "                    top: 0.0%;\n",
              "                }\n",
              "            &lt;/style&gt;\n",
              "        \n",
              "    &lt;script src=&quot;https://cdn.jsdelivr.net/gh/python-visualization/folium@master/folium/templates/leaflet_heat.min.js&quot;&gt;&lt;/script&gt;\n",
              "&lt;/head&gt;\n",
              "&lt;body&gt;\n",
              "    \n",
              "    \n",
              "            &lt;div class=&quot;folium-map&quot; id=&quot;map_bb9579e7e6e5fbbcdd067713be67cda5&quot; &gt;&lt;/div&gt;\n",
              "        \n",
              "&lt;/body&gt;\n",
              "&lt;script&gt;\n",
              "    \n",
              "    \n",
              "            var map_bb9579e7e6e5fbbcdd067713be67cda5 = L.map(\n",
              "                &quot;map_bb9579e7e6e5fbbcdd067713be67cda5&quot;,\n",
              "                {\n",
              "                    center: [0, 0],\n",
              "                    crs: L.CRS.EPSG3857,\n",
              "                    zoom: 1,\n",
              "                    zoomControl: true,\n",
              "                    preferCanvas: false,\n",
              "                }\n",
              "            );\n",
              "\n",
              "            \n",
              "\n",
              "        \n",
              "    \n",
              "            var tile_layer_481658492fade63c727eae31f04c11e0 = L.tileLayer(\n",
              "                &quot;https://{s}.tile.openstreetmap.org/{z}/{x}/{y}.png&quot;,\n",
              "                {&quot;attribution&quot;: &quot;Data by \\u0026copy; \\u003ca href=\\&quot;http://openstreetmap.org\\&quot;\\u003eOpenStreetMap\\u003c/a\\u003e, under \\u003ca href=\\&quot;http://www.openstreetmap.org/copyright\\&quot;\\u003eODbL\\u003c/a\\u003e.&quot;, &quot;detectRetina&quot;: false, &quot;maxNativeZoom&quot;: 18, &quot;maxZoom&quot;: 18, &quot;minZoom&quot;: 0, &quot;noWrap&quot;: false, &quot;opacity&quot;: 1, &quot;subdomains&quot;: &quot;abc&quot;, &quot;tms&quot;: false}\n",
              "            ).addTo(map_bb9579e7e6e5fbbcdd067713be67cda5);\n",
              "        \n",
              "    \n",
              "            var heat_map_df03a72df9f6adba6c6e39784d26c31d = L.heatLayer(\n",
              "                [[38.87343, -77.22048000000002], [45.288739, -122.971759], [43.490336, -124.220222], [33.806753, -83.723063], [44.954898, -93.073838], [27.843353000000004, -82.799042], [37.8661, -122.20694], [34.071904, -117.946442], [44.778851, -93.499149], [44.840481, -93.39887], [30.47673300000001, -91.11298], [38.755913, -76.993271], [34.226661, -79.782365], [28.408624, -81.404752], [27.850953000000004, -82.811669], [38.742798, -123.498524], [40.61934, -88.039869], [25.870395, -80.23424399999998], [35.856474, -78.677047], [30.49301, -84.24368], [45.281172, -122.339406], [35.19918, -80.88646], [42.72419, -73.75839], [41.40005, -81.50775], [40.68053, -73.8047], [29.997479, -82.861848], [40.8447, -73.923406], [41.18363400000001, -79.67453499999998], [35.866188, -84.081985], [35.119687, -81.76921899999998], [44.888567, -93.361799], [38.981498, -111.991721], [33.856485, -117.785579], [28.061861, -82.73876700000002], [41.365142, -72.927275], [34.040513, -118.189024], [28.4717, -81.44388000000002], [32.920764, -96.849902], [39.075763, -94.601058], [39.792929, -84.215194], [34.133351, -118.352517], [29.73106, -95.4073], [33.013690000000004, -117.26863], [33.772240000000004, -117.90885], [42.959643, -85.672405], [25.656118, -80.417654], [39.37925300000001, -123.340314], [38.202989, -121.133652], [32.744868, -117.156432], [34.187415, -118.94305], [43.604953, -116.352925], [37.99069, -122.33276399999998], [40.62909000000001, -73.88799], [45.587981, -121.550083], [41.58031, -90.521943], [32.753645, -117.108603], [28.612596000000003, -81.459187], [34.201234, -118.400394], [33.931405, -117.289075], [47.23210200000001, -122.462378], [34.426279, -117.61927], [32.823918, -117.228411], [45.137822, -93.188008], [38.061863, -76.623968], [36.757951, -76.279699], [30.459048, -87.251099], [34.841944, -118.864444], [33.92848, -118.28932], [37.761632, -79.78711700000002], [34.222444, -119.142222], [25.639505, -80.41469000000002], [42.64469, -83.16372], [38.11553, -84.52481999999998], [35.60963800000001, -77.15299499999998], [34.160073, -118.469604], [29.78511, -95.4521], [41.31458, -73.08672], [38.474185, -77.433549], [46.452823, -92.729834], [26.185679, -80.152299], [40.726221, -73.76301099999998], [28.448996, -81.47779399999997], [38.471336, -121.419852], [32.135167, -110.934737], [36.06329, -80.26673000000002], [46.234942, -123.87189], [37.595978, -122.503839], [47.1755, -122.46712], [40.7263, -73.76694], [25.892526, -80.161974], [32.746946, -97.318138], [38.67107, -121.58575], [26.43128, -81.809216], [36.769319, -76.26029799999998], [33.782346000000004, -117.234785], [43.65994, -94.09148], [40.287256, -121.135835], [40.701272, -73.961129], [38.290935, -122.034745], [37.606472, -122.06661], [42.47088, -88.09342], [34.14627, -118.074506], [25.897225, -80.24481800000002], [35.348887, -120.630752], [28.472592, -81.395184], [38.45620200000001, -81.9772], [41.250007, -76.52533000000003], [28.546595, -81.416285], [35.342053, -118.994199], [37.86397, -122.30276], [43.604885, -116.29886299999998], [32.854214, -96.73669], [27.440304, -82.546663], [34.135335999999995, -117.97446200000002], [34.437495, -118.277407], [28.42435900000001, -81.40478399999998], [25.90091, -80.32455], [41.22031, -73.18012], [37.764022, -122.216843], [25.882812, -80.244218], [32.116545, -93.605414], [35.21167, -80.69165], [36.162698, -86.761235], [38.968047, -76.23567299999998], [37.060946, -121.057309], [34.201254, -118.401114], [32.821846, -96.785926], [28.491194, -81.45878], [34.919804, -81.93206500000002], [43.558741, -123.282405], [33.095176, -80.119553], [34.426891, -118.42369], [41.234017, -76.9937], [33.920428, -118.283038], [44.887784, -93.373019], [42.363571, -87.930001], [35.029081, -85.352466], [37.59773, -122.42103], [38.255068, -119.225547], [38.98971, -77.86698], [39.172431, -84.49271800000002], [39.398506, -77.435106], [33.802107, -118.125352], [34.04051, -118.22144], [39.5339, -119.77129], [27.417897, -82.575387], [45.490425, -122.793041], [29.941719, -90.095633], [40.127243, -74.877303], [44.184941, -124.115327], [32.130087, -110.840937], [27.091481, -82.432843], [30.448497, -91.249654], [33.565298, -80.908381], [37.295083, -120.477906], [47.554053, -122.19231200000002], [28.173467, -82.5283], [36.56648300000001, -119.132947], [38.681278000000006, -121.539958], [35.204912, -80.925226], [37.370754, -77.500845], [43.628732, -116.25284], [41.880429, -74.05811899999998], [28.080836, -82.76285], [41.100104, -96.253323], [37.70303, -97.31872], [32.234010999999995, -110.892624], [43.240356, -71.541139], [35.37596, -80.84737], [33.610640000000004, -112.157689], [40.641721, -74.206413], [43.07283, -77.63157], [25.747537, -80.337062], [41.83542, -87.60776], [41.551977, -73.943938], [30.201575, -85.761262], [39.243689, -94.49875], [28.57022000000001, -81.286201], [44.42507, -121.82289], [40.039765, -76.217299], [42.02243, -87.95989], [28.02549, -82.504867], [39.88096, -75.54673000000003], [33.866640000000004, -117.99846], [38.26058, -121.297459], [33.94883, -118.04638], [37.584626, -122.508309], [34.087394, -117.677971], [29.785111, -95.559153], [25.87233, -80.32298], [39.999131, -75.230899], [42.887567, -78.887168], [33.495039, -111.923217], [28.258077, -81.331621], [25.81711, -80.20644], [40.72574, -112.011897], [36.531822, -119.448621], [33.555026, -117.672782], [33.462795, -112.215118], [32.756086, -117.231159], [41.05432, -73.83409], [33.437559, -111.943251], [29.9419, -90.089462], [33.756372, -117.459943], [47.11951, -122.43485], [33.971604, -117.33101200000002], [39.492991, -119.784532], [39.319302, -76.455736], [29.88732000000001, -95.41219], [44.891374, -93.184711], [29.846572, -95.374388], [26.25423, -80.13651999999998], [36.710139, -81.943899], [37.79034, -121.295124], [45.674633, -108.488342], [45.12271, -93.31532], [37.824803, -122.313821], [30.42801, -87.2157], [34.84599, -85.01730699999997], [34.071661, -118.134358], [36.117864, -95.889595], [41.74746, -87.62487], [32.90786, -96.91431], [45.144391, -93.498787], [42.24028, -87.92525], [35.052620000000005, -89.824208], [34.021862, -93.158211], [25.86804200000001, -80.243776], [35.787284, -78.58029599999998], [37.53385, -77.42243], [40.63654, -104.53015], [33.876962, -118.18236], [33.778883, -117.875928], [29.978538, -90.05998199999998], [42.918604, -85.657362], [35.372568, -118.911939], [32.818141, -117.148839], [30.10083400000001, -97.606803], [45.611704, -122.552994], [34.231708000000005, -118.404095], [33.96955, -118.28061], [33.29183, -111.90422], [39.518083, -121.475378], [34.0319, -118.418611], [34.643063, -82.796646], [27.296213, -82.497506], [25.889347, -80.186409], [32.92065, -96.8184], [45.151131, -122.606119], [32.695991, -117.117375], [44.10931, -121.29516], [34.338743, -118.506959], [40.73084, -74.34942], [38.707871, -77.222673], [33.84738, -118.28511], [38.72921, -121.285659], [34.16041, -79.87078699999998], [33.519344, -117.621333], [39.385612, -94.789246], [30.08209, -97.82265], [29.946857, -95.396635], [25.928419, -80.20604300000002], [35.67088, -78.70638000000002], [36.249371, -86.719412], [42.806054, -74.018467], [43.091694, -75.93133], [41.44996, -81.69017], [39.018698, -76.97353100000002], [37.46253400000001, -121.925712], [33.771275, -117.997123], [44.340147, -120.905788], [34.741023, -82.74227900000002], [30.258440000000004, -97.890751], [28.539241, -81.259054], [29.352834, -82.143647], [47.510074, -92.549968], [32.758266, -96.809627], [42.49445, -83.1172], [47.608099, -122.334794], [41.71869, -72.334151], [27.79179, -82.338177], [28.54061, -81.309484], [47.19921, -116.479305], [34.796045, -82.379948], [27.49546, -82.574765], [25.948312, -80.32285300000002], [35.055158, -81.789695], [39.78504, -104.989551], [41.65136, -93.76167], [33.044305, -117.286117], [30.102421000000003, -97.760394], [40.844724, -73.92505600000001], [38.27268, -122.43847], [32.67781, -97.12], [25.886848, -80.182225], [34.06371, -117.28439], [38.848808, -77.42073], [30.404543, -97.640566], [27.937625, -82.29561700000002], [35.154438, -80.79486], [45.521732, -122.665497], [37.895633, -122.110713], [33.462959999999995, -112.1972], [41.179282, -73.181214], [33.76728, -84.65795], [34.0348, -118.17357], [28.495296000000003, -81.307553], [43.58211, -70.39498], [38.690539, -121.410618], [32.779178, -117.071106], [32.745383000000004, -117.119976], [33.811, -84.37305], [40.681761, -74.00245699999998], [25.536414, -80.417358], [33.620065000000004, -117.321534], [37.552525, -77.47882800000002], [45.437661, -122.743946], [30.227336, -93.303032], [33.458143, -112.365061], [30.51343, -81.6345], [39.747415, -84.153492], [37.30182, -76.68186], [29.850512, -95.490155], [33.868418, -84.442122], [32.842420000000004, -97.34704], [37.71486, -121.56166], [45.49987, -122.66018], [37.54791, -121.91992], [26.159981, -80.164114], [27.938473, -82.285761], [44.3341, -95.75542], [38.572907, -121.517481], [45.85924, -95.428158], [41.74857, -87.62559], [33.99808, -118.369546], [29.477208, -98.700324], [39.967971, -76.723354], [33.809878000000005, -118.28948], [41.761067, -88.065294], [34.033472, -117.70368], [40.710401, -73.986574], [33.957716, -117.24798], [45.4974, -122.79094], [47.29283, -122.29524], [26.834, -81.18987], [39.980958, -76.694917], [36.150187, -93.739847], [38.870669, -94.79698], [28.025459, -82.50229200000003], [40.10931, -82.96849], [42.206093, -121.789106], [38.029714, -122.25585900000002], [30.320624, -81.692394], [34.497826, -118.218663], [40.73403, -73.871939], [45.60734, -121.19748], [42.9815, -83.68215], [45.627883, -92.992433], [28.37135300000001, -81.509941], [36.108856, -119.559146], [32.846366, -96.911349], [38.866088, -77.050676], [38.739552, -77.190182], [34.131764000000004, -117.681738], [38.800846, -77.083286], [39.392526, -76.7072], [33.525756, -117.16493], [38.35888, -77.01825], [38.76877, -90.21371], [35.468567, -80.287476], [34.09859, -118.25223], [33.995271, -118.145091], [30.46535, -84.34414], [37.926937, -121.353308], [29.449871, -98.403199], [39.853168, -85.477249], [45.537302, -122.563399], [37.39644000000001, -122.016789], [38.94538, -121.121852], [39.94366, -74.96999], [34.085823, -118.231612], [25.942363, -80.30466899999998], [37.910986, -122.067588], [48.40423, -114.377864], [33.925933, -118.308112], [40.7276, -74.02104], [40.8244, -73.886253], [34.08691, -117.6863], [38.476147, -121.424954], [39.050634, -76.930891], [40.262457, -79.26801999999998], [29.974428000000003, -90.100579], [45.861977, -92.970951], [37.808253, -122.366974], [34.03167, -118.02194], [37.608487, -122.068036], [40.727, -111.98638], [40.018557, -75.736749], [44.862231, -93.23446], [39.66381, -121.774177], [45.07015300000001, -123.485529], [26.157426, -80.165184], [45.53208, -122.59582], [25.927034, -80.22442], [42.968376, -83.72550799999998], [41.506208, -93.572241], [44.702855, -93.136269], [34.066347, -117.990269], [34.426346, -119.723533], [35.086362, -90.643636], [42.389474, -87.924008], [42.942526, -85.67741], [33.942532, -118.012622], [40.68725, -73.61726], [36.141296, -86.73185699999998], [29.70123, -95.45903], [39.77496, -86.14216], [42.17585, -88.13577], [38.52473300000001, -121.467416], [37.46767, -77.50764000000002], [35.278079, -119.02598], [40.847667, -73.934674], [33.885471, -117.287568], [25.760892, -80.394712], [36.761901, -121.752837], [39.930907, -77.05542700000002], [32.6707, -117.11147], [44.00554, -123.70235], [34.023348, -117.811733], [39.123848, -77.179716], [25.985563, -80.14488100000001], [33.982468, -118.460996], [28.391085, -80.787823], [38.00574, -121.237048], [37.336621, -121.933604], [28.128372, -80.67447299999998], [40.137273, -79.083377], [28.501738, -81.401049], [36.763006, -76.267726], [37.690626, -122.12703799999998], [34.070211, -117.962052], [29.716387, -95.31796], [39.536496, -119.79566], [33.906985, -118.236178], [40.72933, -73.87906], [35.787511, -119.250391], [42.878061, -85.46207700000002], [28.176573, -82.391442], [38.083568, -121.183881], [37.14435, -121.98468], [37.69275, -121.919327], [39.07746, -121.532469], [45.10456, -93.4601], [37.589751, -77.479708], [40.099482, -84.63005600000002], [35.38, -119.044444], [33.804984000000005, -84.383149], [39.038117, -94.335891], [33.393197, -81.405381], [42.761417, -73.698531], [33.9261, -118.212295], [28.206115000000004, -82.665205], [40.737699, -73.768567], [30.092486, -97.816804], [33.82508, -118.21791], [34.971157, -81.995269], [35.772185, -119.280499], [47.51733400000001, -122.345393], [37.15875, -121.98256], [29.987339, -95.342512], [37.520201, -77.268146], [39.585081, -77.640413], [41.710328, -72.64603199999998], [39.08561, -94.59246], [37.891549, -122.150062], [28.033946000000004, -82.459565], [42.49197, -73.68217], [43.40893, -71.59684], [47.83152000000001, -122.26208], [34.15168, -118.139408], [39.582725, -122.210189], [39.165171, -104.853077], [39.277681, -77.323534], [42.20198, -71.77525], [46.312889, -114.172105], [38.67700900000001, -121.709955], [30.506283000000003, -87.221591], [32.77742, -96.78026], [29.025662, -82.172565], [30.4503, -91.15588], [41.94327, -87.71621], [40.696576, -73.98092700000002], [43.83533, -92.06966], [47.15797, -122.35176], [33.938208, -118.300799], [44.243885, -116.103097], [40.822708, -72.982854], [47.01733, -122.90587], [44.37325300000001, -93.294085], [29.875556, -95.291276], [25.872554, -80.121534], [34.100564, -118.477989], [44.073777, -124.101242], [47.92646, -122.20324], [30.726689, -86.502732], [36.654399, -120.169551], [34.10753, -84.53336], [40.62909000000001, -73.88799], [33.58494, -86.70064], [32.716543, -117.12041], [33.135447, -117.132578], [25.811402, -80.193826], [35.042022, -85.223241], [32.133924, -110.964196], [44.649521, -93.295158], [39.635838, -84.225635], [26.519269, -80.072703], [30.003393, -90.205188], [30.44135, -91.138245], [36.7393, -119.777723], [37.66721, -122.46588], [37.70129, -121.866606], [25.686257, -80.385571], [29.707306, -95.399043], [39.643842, -106.036438], [40.06682, -75.31045999999998], [46.880906, -95.064607], [38.729829, -121.284982], [32.220293, -110.962761], [35.938285, -86.535562], [40.162427, -75.131821], [32.78688, -96.79168], [47.83739, -122.1241], [44.392423, -92.064027], [27.92267, -82.350493], [36.906476, -121.752546], [35.206799, -80.796385], [40.669304, -111.98166299999998], [38.629426, -90.327747], [33.995147, -118.144719], [25.924783, -80.315712], [39.351576, -76.49714499999997], [34.069625, -78.990616], [44.787644, -117.811063], [34.909839, -82.430082], [32.84401, -117.17577], [44.53265, -92.93372], [30.34911, -97.551526], [44.96253, -92.76897], [28.181753000000004, -81.45594100000002], [30.383763, -91.113525], [39.389859, -76.53388299999997], [43.47315, -123.478], [40.120608, -75.075805], [42.98295, -123.86978], [25.743189, -80.424161], [35.777413, -78.61321600000002], [47.46668, -122.30332], [45.81251500000001, -108.413948], [33.353482, -117.52646], [29.737343, -95.367707], [30.379375, -91.061736], [37.597142, -121.873231], [34.362927, -114.15868799999998], [38.822527, -77.108621], [29.718132, -95.500419], [37.939346, -122.516389], [40.48099000000001, -104.7001], [45.321114, -122.578011], [33.982374, -118.280422], [39.01602000000001, -77.01961], [36.434896, -82.56210300000002], [46.11561, -123.78763], [35.336612, -114.215573], [44.994024, -93.283656], [39.906195, -75.26505300000002], [36.01187, -86.61747], [42.153564, -87.99204300000002], [30.173013, -84.261111], [41.625249, -73.466268], [34.133883000000004, -117.956421], [30.1523, -82.03284599999998], [35.369668, -80.734286], [35.079291999999995, -89.926947], [33.884409999999995, -117.52261], [32.690078, -96.79851], [32.840006, -97.329498], [35.26054699999999, -80.795212], [34.06387, -117.815978], [45.064872, -93.91117], [31.53211, -81.44518000000002], [38.555933, -121.336105], [42.61961, -88.74129], [47.668055, -94.187339], [37.63449, -122.09901], [39.038831, -94.341019], [37.084328, -122.268213], [38.916961, -77.228977], [33.006087, -96.708063], [33.996990000000004, -118.357998], [34.063713, -117.794393], [45.10442000000001, -93.46018], [38.57985, -121.5054], [42.76038, -73.75599], [33.57694, -111.88948], [33.97475, -118.25203], [44.76337, -94.15787], [39.345064, -76.508628], [37.200414, -77.415929], [42.390371, -79.476288], [33.856840000000005, -118.284809], [35.877392, -84.502418], [33.993558, -118.069315], [37.609428, -120.993582], [45.45135300000001, -122.784594], [47.51446, -94.98443], [34.83598, -86.57125], [41.363214, -72.061225], [42.404984000000006, -83.13166700000002], [28.364778, -81.424357], [39.0425, -94.36793], [41.884231, -83.425119], [34.162093, -118.381355], [34.738244, -92.273874], [34.080845000000004, -118.225153], [45.010316, -93.177101], [37.57371, -122.26222], [25.96393, -80.16578], [40.855182, -73.969627], [38.715101, -77.467228], [37.555253, -77.486554], [30.511382, -87.270048], [38.878222, -77.382062], [33.801396999999994, -79.006407], [34.086290000000005, -84.26295999999998], [37.55631, -121.91534], [25.83548, -80.20618], [38.595976, -121.402845], [40.585545, -111.899904], [47.30958, -122.24818], [36.753852, -119.673064], [26.318336, -80.11614300000002], [33.67994, -117.879384], [44.381278, -117.305349], [44.948104, -95.728694], [37.158905, -77.351614], [45.728391, -121.520987], [35.62336, -82.19896], [38.686675, -121.33803600000002], [30.534136, -87.099654], [34.041727, -118.184642], [37.636001, -77.497668], [45.547551, -122.546753], [40.699964, -73.506477], [33.995176, -117.361739], [25.925819, -80.16829], [27.521692, -82.533721], [26.157621, -81.345058], [38.236681, -122.263444], [25.83126, -80.240033], [41.47805, -81.60291], [37.20772, -121.720003], [33.789854, -118.217469], [34.101965, -117.484449], [43.73159, -70.30238], [44.05437, -121.30704], [37.263001, -93.319826], [40.607518, -74.142517], [34.150034999999995, -118.084518], [32.659551, -96.872095], [34.312296999999994, -80.354309], [34.858042, -81.35158100000002], [27.311401, -82.53371800000002], [33.896923, -117.486066], [34.142748, -118.02075], [41.29194, -73.67697], [34.154623, -118.272424], [41.930376, -72.60723399999998], [25.882812, -80.244218], [43.055907, -83.68539799999998], [28.449914, -81.481045], [33.771126, -117.869447], [33.9454, -80.34270699999998], [39.015766, -77.000609], [41.695675, -93.193372], [36.101, -115.050869], [34.404919, -118.450928], [44.48986, -121.19329], [39.823948, -86.224275], [38.838079, -76.862771], [26.085103, -80.168299], [30.36329000000001, -97.71768], [25.768632, -80.366883], [42.529079, -70.993091], [37.63018, -122.434827], [39.096808, -94.575227], [32.96217, -117.158722], [27.91971, -82.60977], [35.25724, -81.022313], [40.198055, -76.609128], [40.885708, -76.947293], [40.05379, -76.520492], [34.03693, -118.43877], [45.51186, -122.66723], [29.704896, -95.476208], [42.464418, -87.854188], [38.661934, -77.015867], [37.34571500000001, -121.843088], [34.134905, -117.340146], [34.122129, -117.695857], [40.095162, -75.360977], [37.992591, -122.039625], [35.25112, -82.29601], [27.962233, -82.459038], [40.721219, -74.09262199999998], [36.753886, -119.827519], [45.371432, -122.591598], [38.61842, -90.26999], [25.750508, -80.368004], [32.82885, -96.88812], [43.852794, -92.192621], [33.628989000000004, -84.48894], [25.59872, -80.350075], [38.005021, -121.750804], [39.11451, -77.18569000000002], [34.0687, -117.839494], [38.785611, -77.178622], [35.753728, -78.652914], [39.700373, -86.15383], [33.823343, -118.29034], [35.380178, -119.01416], [40.931636, -73.876222], [38.573335, -121.58363500000002], [43.175421, -78.61471999999998], [37.746974, -122.404571], [42.356768, -73.575857], [25.733243, -80.333047], [42.385185, -83.16950200000002], [34.112967, -117.302795], [37.26960800000001, -120.434345], [36.177817, -94.184106], [25.950008, -80.14885], [41.06019000000001, -111.96596], [37.636627, -122.087871], [45.672056, -122.49611000000002], [47.64335, -122.34723], [29.923769, -90.114195], [26.68932, -81.90113199999998], [42.72640300000001, -76.763094], [33.013690000000004, -117.26863], [42.47706, -83.09999], [35.094936, -89.870406], [37.062774, -76.42314], [35.841651, -78.572905], [32.861740000000005, -96.65757], [37.25935, -122.11261100000002], [29.727049, -95.476338], [37.40407, -122.02207], [32.838012, -96.875439], [40.52439, -74.345566], [36.111173, -86.811279], [39.3845, -76.52367], [34.067011, -117.445295], [35.206328000000006, -78.665293], [33.717819, -117.646359], [34.095884000000005, -117.925381], [43.97463, -124.10317], [39.024699, -94.500663], [40.834198, -74.021878], [35.776536, -78.628029], [34.021602, -80.102272], [29.62697600000001, -95.173616], [34.740506, -92.317901], [31.324963, -89.350042], [45.682901, -121.30199], [40.39821, -79.574883], [40.79566, -73.82557], [38.798736, -77.200356], [41.524013, -73.890683], [34.042275, -118.346771], [43.97312, -93.25545], [45.51724, -122.66482], [38.778225, -77.18114399999997], [42.35715, -72.6377], [38.583984, -121.460231], [29.75407, -95.45545], [38.25135, -85.74877], [33.823144, -118.198851], [29.530651, -98.561691], [44.54315, -93.84937], [44.58771, -123.42995], [37.554681, -122.047312], [33.812624, -118.28747], [39.48162, -76.25928], [37.202593, -76.571477], [38.690385, -121.38279], [33.439411, -117.245828], [40.304063, -76.847702], [41.395477, -85.55148100000002], [37.147227, -121.987782], [43.183464, -77.631454], [41.339889, -75.303522], [27.98435, -82.45384], [36.166616, -86.764781], [40.50037, -74.38257], [47.57693, -122.31978], [25.839958, -80.316328], [34.108245000000004, -117.199682], [41.83037, -71.41766], [36.209992, -86.776051], [44.86131, -93.16095], [34.509296, -92.696094], [28.256391, -81.629174], [36.145546, -119.07247], [28.421363, -81.402794], [30.31551, -81.76199], [26.390415, -80.099676], [34.272214, -119.208311], [25.824042, -80.236747], [35.849697, -78.581693], [32.739019, -117.211865], [25.93976, -80.204971], [25.702455, -80.332105], [25.670713, -80.41703100000002], [39.623141, -122.194623], [36.998693, -76.408054], [47.347739, -110.083322], [36.87, -121.77], [38.652774, -77.281418], [42.863072, -73.768985], [45.879569, -119.295437], [25.92594200000001, -80.25535500000002], [34.050452, -117.93402], [33.1799, -117.31176], [33.39192, -86.789392], [44.307857, -122.018867], [32.177896999999994, -110.996266], [37.132061, -77.518898], [30.435468, -84.290217], [44.65207, -117.57399], [37.100549, -93.232472], [33.46575, -117.136138], [44.600676, -92.792948], [32.799552, -96.805404], [39.662122, -75.648978], [40.243505, -75.659736], [32.475502, -93.777901], [35.02469, -85.158553], [29.520419, -98.481542], [41.244736, -77.017453], [34.242824, -118.473098], [29.99931, -90.19073], [34.854315, -82.227485], [25.736737, -80.335842], [34.409641, -117.39384], [48.305454, -100.629108], [35.844537, -78.580065], [33.872679999999995, -118.292471], [45.41018, -94.05414], [45.353, -93.91685], [38.553632, -121.474231], [25.714627, -80.413201], [43.021863, -87.97041999999998], [35.719665, -78.544359], [38.510581, -121.402203], [42.548364, -79.11144300000002], [38.574008, -121.383103], [41.75252, -87.94481999999998], [43.991285, -92.228969], [37.927047, -122.373628], [26.09683, -80.20129], [45.371738, -122.591282], [32.72773, -96.76337], [32.837355, -117.235717], [30.06542, -95.172768], [34.522937, -120.280218], [29.741106, -95.456859], [32.961883, -79.96715400000002], [39.952869, -111.903092], [25.925994, -80.15794100000002], [41.88408, -87.7013], [27.981479, -82.310046], [39.12822, -77.18542], [39.638102, -106.542313], [25.812538, -80.136713], [42.49931, -71.47296999999998], [38.800144, -76.005905], [43.020244, -83.693496], [42.25758, -76.50745], [38.992427, -94.77795], [25.73589, -80.319411], [33.624826, -84.48852099999998], [35.087825, -80.845054], [40.42272, -111.88173], [34.258465, -118.105215], [33.02085, -96.98539], [26.541487, -81.871298], [25.69898, -80.382134], [38.392399, -81.76979200000002], [37.378642, -122.068693], [40.84774, -74.42761], [37.476601, -122.196935], [34.18897, -83.589702], [40.70603, -74.24956], [37.466333, -122.26448], [28.612382, -81.278564], [38.020869, -121.954423], [35.13496, -89.86786], [34.09275, -117.925623], [37.630323, -122.434671], [34.030437, -117.605073], [35.40126400000001, -82.511476], [33.962013, -118.231992], [38.75241, -89.89684], [29.96481, -90.031885], [34.10473, -80.96137], [28.86321, -82.09192], [25.948105, -80.14874], [39.248011, -76.684559], [34.05782, -117.169739], [37.354989, -77.411854], [34.042773, -118.272701], [38.81563, -94.50692], [44.10931, -121.29516], [32.722561, -117.149488], [34.03991, -118.316818], [32.70272, -96.55576], [34.990502, -85.220277], [48.1003, -114.564377], [38.61001, -121.410874], [45.196799, -93.55677], [28.451938, -81.400468], [40.273058, -75.25814100000002], [45.091012, -93.402274], [34.656618, -118.153141], [40.1569, -104.97871], [34.067519, -117.555245], [27.999540000000003, -82.545626], [25.686807, -80.400828], [33.206716, -86.79389499999998], [41.95646, -87.73608], [39.16796, -84.45982], [33.829194, -118.253495], [39.09769, -84.51697], [34.282257, -82.118977], [25.808427, -80.28926899999998], [45.531045, -122.665175], [32.219748, -110.909512], [35.12155, -85.104638], [34.988440000000004, -85.47029599999998], [46.137744, -123.807653], [34.043551, -117.77083], [43.61646500000001, -116.284152], [40.590447, -74.62289200000002], [44.4297, -118.8466], [37.50341, -77.62813], [38.780419, -90.516969], [34.064166, -118.005998], [26.031019, -80.248862], [30.32401500000001, -97.697958], [35.591389, -82.56953399999998], [34.710003, -81.634653], [34.037932, -117.320439], [40.043288, -75.623013], [33.569663, -117.672066], [45.57852000000001, -122.127574], [42.35763, -87.85575], [39.95389, -83.04198000000002], [37.322689, -78.03522199999998], [33.913086, -79.147853], [44.776271, -93.533338], [25.769215, -80.36911500000002], [39.614283, -77.613722], [34.661396999999994, -79.00885], [32.461678000000006, -93.865728], [37.89908300000001, -120.561279], [36.736081, -119.777616], [37.32294, -121.999955], [40.428813, -79.955962], [39.827679, -75.67143100000001], [28.122121000000003, -82.739897], [40.44428, -80.00286], [38.989103, -77.077085], [39.26274, -94.44811], [26.513136, -81.863784], [41.075, -76.50789], [39.21556, -84.47384], [33.918258, -117.880944], [38.727439, -76.881541], [39.112876, -121.558078], [25.9423, -80.30935600000002], [27.996043, -82.398247], [33.38092, -111.96804], [33.917494, -117.437044], [33.29203, -111.77434], [42.32303, -88.16473], [35.157204, -89.892808], [40.506659, -74.455019], [33.602509999999995, -114.514135], [40.986097, -73.73846999999998], [34.141064, -117.24904], [39.861193, -75.11589000000002], [29.18234600000001, -82.18464499999997], [35.46003, -97.60482], [38.052445, -78.522537], [42.70807, -71.450559], [43.015346, -76.01556], [37.323753, -122.00148], [36.116977, -86.965276], [43.480242, -89.769795], [29.94704, -90.08124], [29.399381, -98.53216], [36.106329, -86.71864000000002], [38.86775, -94.80012], [33.874899, -118.06307], [34.054516, -118.210154], [28.552974, -81.383499], [45.50555, -122.67743], [32.803709999999995, -117.21332], [36.987756, -121.944489], [37.299261, -93.419104], [47.70629, -122.18056], [45.002089, -122.97735], [38.451461, -77.407269], [33.88843, -117.51361], [45.54282, -122.67409], [46.84567, -92.47716], [40.575717, -75.547174], [37.549574, -77.398663], [41.40368, -82.28758], [44.564312, -123.252471], [37.741734, -121.574218], [40.728399, -73.928471], [38.014119, -121.996863], [39.01898, -76.95983000000003], [36.269935, -86.736406], [27.937751, -82.28451899999997], [41.118107, -112.06543], [25.92487, -80.30417], [42.784111, -84.514084], [33.386555, -111.76041200000002], [37.353044, -120.650441], [26.546208, -81.871431], [32.25058, -111.0059], [26.36321, -80.11973], [37.33906, -121.85128], [41.540643, -73.019359], [40.231799, -76.936976], [40.219429, -79.602399], [27.777161, -82.71219599999998], [33.591331, -86.127287], [33.8769, -118.18724], [29.82507, -95.56364], [30.003740000000004, -90.031377], [43.05253, -88.04182], [29.80802000000001, -95.261921], [33.940940999999995, -118.096665], [33.39819, -117.59478], [40.78325, -73.94474], [37.36792, -77.41736], [33.96575900000001, -118.164984], [25.958861, -80.339185], [33.99354, -118.06932], [33.392072, -117.174211], [38.723633, -121.346498], [34.032019, -118.15896399999998], [28.397151, -81.309781], [40.101809, -75.125828], [25.704432, -80.285443], [35.886212, -78.679445], [30.24836, -97.73547], [42.86605, -85.68386], [40.75699, -74.0542], [39.941445, -75.001932], [45.064635, -93.213761], [42.48085, -88.20408], [39.872654, -75.388191], [27.460748, -82.575278], [32.83912, -117.12045], [33.244602, -84.307572], [33.638731, -117.730125], [45.880212, -90.477197], [42.23062, -75.91417], [33.8734, -118.26602], [26.091917, -80.22729100000002], [36.060945, -95.884789], [30.61217000000001, -91.176017], [33.559999, -117.67282], [26.0059, -80.166895], [41.97653, -72.32308], [27.157805, -80.302274], [41.014934, -83.6873], [26.583584, -81.869978], [28.09354, -82.7397], [39.09269000000001, -94.59094], [37.706623, -121.084009], [39.181462, -77.252136], [33.66792, -117.81774], [25.975139, -80.119569], [40.703785, -73.47847900000002], [45.66411, -118.81022], [34.068639000000005, -117.974155], [33.928942, -118.279283], [39.02305, -77.01671], [40.088616, -75.379464], [41.87181, -87.74495], [36.743051, -80.770593], [43.198357, -77.950338], [29.78466, -95.55073], [35.75151, -78.699774], [41.57401, -87.46809], [34.139667, -80.917701], [35.629867, -118.476606], [34.139052, -118.714956], [33.977981, -117.331118], [37.08351, -121.09997], [36.648684, -119.55643], [38.522281, -121.451244], [34.1365, -117.50294], [33.367389, -117.250326], [29.763451, -95.471078], [40.747435, -73.849005], [44.970358, -93.351315], [38.887041, -77.217267], [37.691243, -122.034455], [34.174294, -118.850024], [28.212602, -81.477487], [34.420152, -119.595962], [33.865616, -118.197581], [30.444559, -91.138582], [38.458639, -77.250763], [28.553498, -81.264399], [32.926813, -96.901153], [41.416199, -73.791782], [33.872875, -118.290904], [40.253895, -79.571191], [37.71166, -113.0683], [35.31019000000001, -80.74566], [33.662451000000004, -117.298616], [26.25423, -80.13651999999998], [37.705759, -122.12919], [32.778578, -117.116886], [38.77085, -77.182864], [33.461220000000004, -112.2883], [42.55145, -71.78387], [32.922919, -96.992598], [41.28254, -95.783143], [25.747513, -80.33807900000002], [38.684438, -77.228597], [29.456177, -98.413411], [29.766708, -95.334685], [44.932635, -93.071686], [34.990864, -117.52632], [43.31946, -111.15033], [26.622719, -80.067349], [33.963159999999995, -118.28106], [45.042003, -93.101352], [29.754481, -95.610299], [38.64213, -121.15644], [41.524361, -109.438022], [26.062864, -80.353585], [30.53452, -90.98781], [41.425484, -72.820397], [36.140116, -86.723295], [33.845597999999995, -78.763981], [25.671216, -80.406165], [37.496992, -122.235013], [32.163665, -110.968152], [34.34089, -118.522851], [33.205816, -97.16317], [40.273063, -76.655928], [40.996118, -74.308871], [25.823861, -80.242827], [40.88387, -73.2878], [43.684119, -95.493758], [34.211653000000005, -118.228028], [34.218962, -117.397715], [37.499368, -77.05743199999998], [40.117274, -75.415424], [40.72965, -74.16962], [40.86026, -74.38923], [43.591846, -116.277363], [42.42843, -87.87656], [45.61239000000001, -123.05551], [41.29151, -91.532879], [35.95334099999999, -83.11962], [43.63867800000001, -116.354165], [41.31811, -72.903267], [34.176331, -118.86397], [32.871083, -117.195957], [30.276137, -97.683971], [34.398232, -118.462303], [29.370637, -98.454262], [40.52101, -112.29879], [25.685123, -80.425634], [34.691121, -117.969727], [30.02598, -90.02443000000002], [39.106596, -76.78778299999998], [41.373664, -73.610876], [36.786285, -119.898351], [29.65218, -95.38712], [40.638797, -77.479632], [33.967096999999995, -118.08501499999998], [37.647184, -122.095685], [34.067440000000005, -117.579993], [34.0238, -118.24385], [44.81868, -92.94057], [42.26404, -88.17898000000002], [34.142466, -80.91272], [34.025137, -118.237802], [39.627825, -75.966392], [28.304244, -81.351884], [41.025882, -76.083347], [38.690519, -121.424235], [30.613821, -81.648105], [35.034092, -85.186989], [37.518371, -77.378135], [41.02867, -76.395488], [41.7087, -91.642258], [34.130216, -117.944381], [40.70759, -74.23261], [36.096706, -80.235055], [25.840028, -80.313236], [42.50931, -83.11514], [34.277998, -119.302221], [42.60922, -76.173855], [40.155791, -74.104596], [25.672423, -80.400222], [33.932486, -118.281029], [25.886276, -80.122663], [44.028546, -92.645429], [33.568428999999995, -81.8801], [28.346746000000003, -81.649149], [34.099105, -81.174577], [45.54519000000001, -122.391809], [43.661824, -123.420914], [29.79565, -95.45082], [40.41972, -80.051547], [44.64152, -123.06271], [33.873490000000004, -118.243248], [28.981968, -82.016908], [35.84414500000001, -78.680541], [29.381178, -98.639869], [29.82066, -81.376901], [30.691569, -88.023107], [47.25422, -122.2589], [47.578301, -122.132251], [33.63805, -83.98169], [43.59942, -116.51352], [39.05029, -83.77673], [25.672033, -80.381146], [34.458412, -118.495509], [32.87101, -96.89858], [30.661831, -87.08720699999998], [33.873134, -118.284802], [37.518196, -77.426199], [33.690290000000005, -84.49629], [39.209103000000006, -119.804909], [42.699211, -73.708444], [30.39765, -97.929], [44.50495, -92.91709], [34.076908, -117.629061], [33.875533000000004, -117.545748], [41.7371, -87.62419], [40.143908, -76.193464], [38.055218, -122.231245], [37.529706, -77.429643], [48.867727, -122.309719], [34.14536, -117.280718], [28.538492, -81.330996], [39.025022, -77.391694], [33.968278000000005, -118.071174], [37.201744, -121.709415], [39.94661, -83.01424], [38.93887, -94.53524], [37.57743, -77.39589000000002], [43.72774, -70.3035], [40.519861, -104.992042], [39.875725, -75.052596], [44.95552, -93.27018], [39.28431, -76.73535], [25.672033, -80.381146], [40.862651, -73.911899], [32.852332000000004, -80.490548], [25.949326, -80.148812], [33.385490000000004, -111.88461], [38.820085, -76.89288], [33.904821000000005, -118.104999], [35.119803999999995, -80.906378], [36.091812, -86.762424], [33.612298, -83.741568], [38.05635, -122.224735], [34.1362, -117.498635], [44.753858, -123.05066], [26.133021, -80.169512], [33.909719, -117.281714], [44.96602100000001, -93.260611], [39.95073, -105.15447], [38.569124, -123.3209], [35.547798, -118.615447], [36.938138, -120.03576499999998], [39.392526, -76.7072], [33.319781, -111.976096], [33.957733000000005, -80.885446], [33.926804, -118.046433], [41.84516, -87.6311], [37.135001, -113.242338], [34.383151, -81.858366], [37.786321, -122.491987], [37.6297, -120.99756399999998], [30.268052, -97.742797], [40.116519, -75.120773], [38.341476, -77.491221], [38.966051, -94.723569], [40.69209, -73.47000799999998], [39.561048, -107.290023], [42.375597, -83.146198], [37.986943, -120.368997], [36.933075, -121.388241], [26.505503000000004, -81.518245], [32.717932, -117.084943], [33.928115000000005, -84.48825699999998], [37.434641, -77.473035], [34.2146, -118.35164], [38.413855, -122.951388], [25.773549, -80.13885400000002], [38.8156, -76.96275], [41.11959, -81.64568], [25.579736, -80.368589], [37.71798, -121.70142], [34.48748, -118.15974], [40.805004, -72.868003], [30.353914000000003, -97.520895], [34.077616, -117.623545], [37.52631, -122.263739], [32.801066, -96.816297], [43.662956, -116.359426], [37.160012, -93.291105], [30.462028000000004, -87.26754], [29.740689, -95.588776], [42.72726, -85.67311], [25.92761, -80.21463], [29.950765000000004, -90.07158000000004], [34.025496000000004, -118.170365], [26.621861, -81.87221600000002], [40.45365, -111.9139], [25.881168, -80.242938], [40.70085, -74.15505999999998], [37.145833, -121.985278], [37.516733, -77.195745], [33.717609, -84.31424200000002], [33.950107, -118.091861], [41.41405, -112.05044], [41.10799, -73.40881999999998], [35.01449, -81.97605300000002], [45.545529, -122.532652], [46.23506, -123.87196000000002], [29.694763, -95.595178], [40.733731, -73.921562], [34.030179, -117.684538], [38.689759, -121.540256], [37.822154, -120.94696100000002], [25.917818, -80.280395], [25.938001, -80.364636], [25.88781, -80.129532], [34.808115, -92.360901], [33.98346, -117.366563], [38.571561, -81.259394], [40.013833, -75.617051], [39.708198, -77.322211], [44.970407, -93.298572], [38.925979, -76.928853], [38.076598, -122.231959], [32.561277000000004, -117.067018], [38.026567, -122.1147], [41.595652, -90.570476], [34.03031, -117.698141], [28.41983, -82.280028], [33.88245, -117.58762], [26.546574, -81.840925], [35.149501, -89.88097900000002], [32.73041, -97.06235], [25.808751, -80.321481], [25.943451, -80.30708800000002], [37.373224, -120.683194], [34.023693, -118.201747], [40.792483, -111.450587], [35.189658, -80.83017099999998], [44.180048, -92.571948], [37.948692, -122.325985], [29.770447, -95.410242], [37.83285, -122.29446000000002], [38.660775, -121.346852], [40.688042, -73.59213299999998], [40.712052, -73.82276], [32.714167, -96.85432], [41.76624, -87.62553], [39.008599, -93.972512], [32.878840000000004, -96.6883], [38.82108, -76.74589], [33.809155, -86.675943], [27.974878000000004, -81.960747], [25.702858, -80.414741], [28.00283, -82.320438], [40.117578, -75.35072199999998], [42.230833, -121.59806299999998], [27.487379, -82.585531], [35.051096, -85.212761], [30.611290000000004, -87.320673], [40.7889, -73.77971], [33.91312, -116.59726], [30.349585, -97.702039], [38.839241, -77.120863], [29.736302, -95.603411], [30.045973, -89.982021], [38.587864, -121.38298], [27.494155, -82.493022], [45.0785, -93.40183], [34.38557, -85.17814], [37.17083, -121.99014], [30.403643, -81.660786], [47.159013, -122.462585], [42.199371, -73.935468], [42.21302, -121.78755], [40.379856, -74.579166], [39.499422, -76.895209], [25.872704, -80.347313], [34.06827, -117.400621], [33.914, -118.1137], [36.721102, -119.533917], [32.749611, -96.922534], [30.589531, -84.501804], [43.067087, -83.59697299999998], [34.143695, -81.232761], [34.365183, -118.503648], [35.065014, -80.84387199999998], [36.841214, -121.50864], [34.941233000000004, -118.931196], [44.742601, -117.799662], [41.8509, -87.64492], [30.314232, -81.6624], [40.659422, -74.002238], [27.529348, -82.560423], [37.28795, -77.38936], [46.016086, -112.536048], [42.356232, -83.074611], [40.096623, -75.297155], [42.81049, -88.27726], [37.46242, -122.1444], [37.857376, -122.009411], [25.940304, -80.306753], [38.663908, -121.357202], [28.449833, -81.471783], [42.95876, -85.670174], [44.89830900000001, -93.216351], [29.7329, -95.45993], [34.082366, -117.54495], [42.383548, -83.21758299999998], [37.531381, -122.275572], [40.034272, -76.295999], [35.93454699999999, -119.914777], [34.065670000000004, -118.2427], [32.367991, -86.300072], [32.830655, -96.917132], [30.660535, -85.31552099999998], [26.099118, -80.253763], [29.700284000000003, -95.517777], [29.943553, -90.075925], [41.10883, -74.084376], [28.232643, -81.649187], [28.48275, -81.44471999999998], [35.839976, -78.6771], [29.937745, -95.393456], [34.067417, -117.530622], [34.1211, -118.47972], [35.22339, -80.62907], [34.079367, -118.291686], [43.16633, -77.607166], [43.000568, -78.940747], [39.312096, -119.824608], [34.579884, -117.835769], [33.71383, -117.96438], [33.168911, -87.51213], [39.256733, -120.045351], [33.828509999999994, -78.64059300000002], [36.083965, -86.70643100000002], [42.200475, -87.863003], [34.502171000000004, -118.118589], [29.71205, -95.15351], [38.018263, -122.266287], [43.212586, -77.72206899999998], [39.949454, -77.599858], [32.9069, -96.72828], [35.298394, -120.67388], [37.841363, -122.297042], [40.845247, -73.913472], [33.524297999999995, -117.55523], [34.007215, -117.348133], [44.95968, -93.20027], [41.16351, -73.23908], [33.606221999999995, -84.48590300000002], [39.992691, -111.497075], [38.405229, -122.811093], [28.569935, -81.23659], [32.279258, -89.99707099999998], [40.436213, -74.221423], [36.128499, -81.106923], [33.214003000000005, -117.389621], [34.023733, -80.312045], [25.951401, -80.18089599999998], [30.185033, -81.63714], [33.773185, -84.553409], [38.442435, -122.806725], [40.846059, -73.930479], [39.890938, -75.226961], [34.06927, -118.04526], [35.118895, -120.578027], [40.272978, -76.816425], [45.736262, -93.709292], [34.03996, -118.300326], [34.635375, -80.528637], [34.611211, -92.533963], [34.071642, -118.109526], [37.765088, -121.36096], [44.89789, -93.17806], [25.950811, -80.308291], [25.57336, -80.409103], [39.14634, -77.21506], [34.404368, -119.535234], [34.704169, -86.681882], [40.025082, -75.608589], [28.182955, -82.353487], [34.055240999999995, -118.450833], [43.359005, -121.742301], [34.477357, -118.169385], [28.567182, -81.210801], [46.979515, -122.35794], [28.558011, -81.309211], [33.898709999999994, -118.286834], [43.008498, -83.65425], [27.797053, -82.728573], [35.72635, -80.38329], [27.777253, -82.681149], [43.05413, -83.67137], [25.78497, -80.239417], [34.165445, -118.476398], [40.64983, -111.90207], [25.671592, -80.390097], [41.44802, -74.36905], [41.62276, -72.01554], [38.799472, -77.134168], [39.088713, -76.893814], [41.50454000000001, -81.61081999999998], [28.385901, -81.505319], [34.038058, -118.170179], [34.127579, -118.27371200000002], [39.060956, -76.83675799999997], [39.16119000000001, -76.61771], [25.737922, -80.31981400000002], [33.882061, -118.1914], [33.645022, -81.346314], [30.337226, -81.669089], [41.98549000000001, -87.6543], [38.617369, -121.347223], [32.40002, -110.95523], [26.529128000000004, -81.605204], [27.04493900000001, -82.243774], [35.143965, -118.469749], [33.654434, -93.660576], [42.98555, -83.73422], [40.09809, -74.21785], [34.43807, -119.846041], [25.769711, -80.335312], [37.459415, -121.924447], [37.377859, -77.408648], [37.52266, -77.82303], [33.261187, -81.28466], [40.901144, -74.140967], [37.404059, -121.141723], [45.58047, -122.54358], [35.584001, -84.936755], [39.779471, -111.491453], [39.587754, -84.554578], [40.483508, -76.538885], [47.779698, -120.830845], [33.308843, -79.308419], [37.892371, -122.307304], [32.111867, -110.991772], [39.04187, -77.42428100000002], [37.951954, -122.368843], [38.455313, -81.500626], [43.112004, -75.205363], [45.443712, -122.738624], [25.926033, -80.151522], [28.416339, -81.422927], [32.264724, -110.976335], [34.06179, -117.182461], [30.25899, -82.12306], [41.045099, -73.563489], [40.82369, -73.01578], [33.309484000000005, -96.59083], [34.544669, -82.860427], [34.063721, -117.79439], [29.78503, -95.56847], [29.75781, -95.35209], [35.521062, -90.418649], [26.547661, -81.839324], [42.8707, -85.86134], [32.853799, -117.12137], [28.03761, -82.03607], [38.728512, -76.88126199999998], [38.872222, -121.130049], [43.326251, -71.59772099999998], [29.99665, -90.13825], [25.767173, -80.36882800000002], [38.560434, -121.481527], [42.22005, -83.47794], [30.446149, -91.237901], [34.112555, -80.806957], [27.595541, -81.51448], [32.861728, -117.187425], [37.63066, -122.1133], [45.737989, -94.978434], [26.226651, -80.13651999999998], [38.043704, -122.535363], [38.610858, -121.42723], [45.543851, -122.675301], [33.93122, -118.363212], [34.275192, -118.536193], [27.792164, -82.333862], [28.45173, -81.09501], [43.118108, -76.228348], [37.262812, -119.695997], [39.20728, -84.46458], [39.122352, -122.839728], [37.825163, -122.310997], [39.270619, -76.65645], [39.105266, -94.716686], [45.826731, -108.395801], [30.457395, -81.635123], [38.79405, -77.15101], [34.050586, -117.94384], [39.28837, -84.37524], [43.16934000000001, -76.36295], [38.690416, -121.36373], [37.871162, -122.304961], [37.605497, -77.51610500000002], [27.856149, -82.326554], [41.530222, -72.80856700000002], [39.501954, -111.966208], [32.822070000000004, -117.116528], [39.056321, -77.154675], [38.57351, -121.58174], [43.010223, -88.231571], [45.667872, -121.513485], [41.570847, -78.688362], [38.650769, -84.58772900000002], [35.849659, -78.58235400000002], [36.141296, -86.73185699999998], [39.35212, -76.74591], [42.584391, -73.74001], [28.567119, -81.210937], [25.928167, -80.19994], [38.462874, -84.425035], [38.204276, -121.189348], [35.060834, -82.018811], [47.141992, -122.058688], [30.445113, -87.23524499999998], [29.025549, -82.142602], [34.485189, -117.330038], [33.93077, -117.879921], [36.119523, -80.233859], [36.127106, -86.711722], [41.301511, -72.908292], [38.923988, -76.966541], [47.56283, -122.287869], [32.775996, -96.805261], [42.254739, -73.753635], [25.686047, -80.397987], [39.06338, -77.1568], [35.856449, -92.602258], [34.347021000000005, -117.476956], [30.261540000000004, -82.15932], [41.71466, -88.01071999999998], [38.56582, -121.336945], [32.794259999999994, -97.21214], [36.712607, -81.937118], [39.84209600000001, -75.410156], [33.475095, -86.769257], [39.037709, -78.258318], [34.0246, -118.46924], [25.941223, -80.306794], [34.055001000000004, -117.299073], [38.593758, -121.5041], [41.161586, -112.065063], [32.79135, -96.81363], [28.357378000000004, -81.494599], [36.2306, -86.74740200000002], [34.031478, -118.43126200000002], [38.683994, -121.46767], [33.741107, -80.184326], [44.91652, -94.36765], [34.063164, -117.397937], [36.680339, -77.480245], [38.371874, -121.476298], [44.03194000000001, -123.848], [38.623407, -78.581602], [41.486797, -120.629215], [40.09901, -83.15217], [34.038881, -117.319395], [33.705443, -84.40350600000002], [42.178155, -119.966551], [34.0751, -118.23199], [33.852841999999995, -79.763281], [41.769536, -72.666975], [36.191878, -86.780591], [28.06587, -82.45461], [33.941888, -117.555761], [45.846172, -123.766297], [29.768258000000003, -95.409439], [34.191022, -118.474147], [36.926604, -120.02416399999998], [29.776604, -95.386659], [43.184338, -77.77376], [33.393488, -117.19903], [39.119417, -77.582961], [45.03674, -93.00515], [45.531045, -122.665175], [32.866669, -96.8993], [28.47902, -81.44962], [45.515488, -94.284492], [28.555826, -81.46455999999998], [34.820502000000005, -82.279787], [40.84609, -73.930366], [36.43898, -94.147104], [25.706561, -80.285439], [33.746065, -118.00663], [28.068859000000003, -82.73897099999998], [34.03072, -117.58585], [25.760876, -80.42370799999998], [38.157306, -80.90688], [33.888967, -118.285347], [33.85532, -84.24665], [34.197363, -79.766102], [33.386625, -111.958741], [29.785448, -95.774227], [37.75227, -121.46729], [28.143927, -81.468521], [38.942432, -121.090895], [37.290981, -121.809843], [40.577774, -111.899987], [36.844535, -76.239675], [35.340237, -119.037249], [37.315261, -79.880798], [37.80811, -122.36719], [28.173549, -81.277135], [42.26586, -121.81073], [35.16523, -113.735522], [29.799795, -95.44973], [37.478246, -122.413465], [36.109372, -78.720528], [40.635495, -111.905126], [34.98409, -81.9725], [28.486758, -81.42279599999998], [32.423682, -93.820625], [35.781692, -78.689521], [25.730242, -80.415808], [43.62627, -116.62], [41.41685800000001, -73.429452], [35.90177100000001, -78.656364], [28.366506, -81.39266500000002], [39.201589, -76.694988], [44.393211, -123.06112], [28.331041, -82.66873000000002], [38.24698400000001, -122.548332], [37.95646, -120.325653], [33.997639, -117.944295], [28.185802, -82.415374], [37.49526, -122.22909], [33.862817, -118.199257], [39.181848, -76.784144], [37.27306, -121.94672], [30.6847, -88.12695], [37.90544000000001, -122.069375], [41.06471, -73.8646], [29.151719, -82.15384399999998], [44.179418, -117.436518], [41.263088, -96.12479], [33.583867, -117.65975], [40.849641, -73.942161], [45.58785, -94.052105], [27.893773, -82.33285699999998], [34.184265, -118.907575], [37.898073, -122.09004], [34.381237, -79.475], [33.883508, -118.204358], [34.661722999999995, -118.153523], [34.466525, -118.329727], [35.33596, -80.84263], [33.999142, -118.408002], [32.505207, -93.750679], [42.962628, -85.67836], [43.096822, -83.689652], [45.530787, -122.687083], [34.02485, -118.42835], [38.127011, -79.034518], [44.959498, -93.269387], [41.127222, -75.962659], [27.623517, -82.477329], [36.137249, -120.240759], [34.036059, -118.032496], [44.842168, -93.39882], [36.211263, -119.645863], [38.508048, -90.44371], [34.774571, -118.502025], [25.696495, -80.299018], [47.15824, -122.36291], [33.92837, -118.23693], [40.82807, -74.12248000000002], [48.2658, -116.57095], [45.306468, -93.793686], [34.072, -118.108098], [35.84414500000001, -78.680541], [41.755474, -87.876452], [25.853737, -80.322777], [29.964043, -90.120467], [39.939817, -75.014186], [37.634487, -122.086611], [28.496312, -81.330917], [37.635584, -77.50408900000002], [40.71783, -111.95363], [37.409418, -77.65333199999998], [44.370767, -98.229404], [29.5449, -95.14591], [36.276028, -86.44239300000002], [38.532696, -121.451323], [30.413809000000004, -91.125572], [36.100848, -86.740093], [35.961571, -78.687226], [39.734009, -75.403897], [28.449890000000003, -81.48810999999998], [25.820541, -80.240583], [29.92151, -90.04264], [29.945217, -90.09015], [34.346528, -79.991766], [25.917908, -80.21065], [37.48875, -121.930871], [36.109178, -119.901103], [28.62775, -81.38665999999998], [42.93296, -78.78761999999998], [34.21934, -118.24165], [33.908302, -117.88281], [32.90681, -96.728259], [40.732937, -73.835388], [32.854971, -96.646859], [32.504337, -84.948951], [37.130797, -76.522499], [37.836375, -122.29542], [38.590749, -76.941653], [33.961859999999994, -117.85345], [38.87343, -77.22048000000002], [38.1289, -83.74735], [34.096561, -118.20478], [29.68377700000001, -95.275807], [35.01832, -85.17819], [37.739559, -97.31875], [28.335568, -81.330308], [40.717488, -111.953355], [45.623248, -122.863808], [35.2026, -80.72588], [33.937, -118.279674], [38.55417, -121.689551], [32.84662, -96.63736], [27.996145, -82.449683], [41.812621, -71.359773], [34.148672, -118.372868], [33.629034999999995, -117.704508], [32.359661, -90.235219], [30.353875, -91.136598], [25.881054, -80.166793], [35.18905200000001, -80.87569], [39.60945200000001, -77.729517], [42.2301, -83.37876999999997], [27.928512, -82.33151600000002], [37.554763, -77.489641], [35.661696, -120.414115], [40.57618, -75.764627], [33.919405, -118.044288], [33.803384, -117.902677], [28.49743, -82.59536800000002], [34.262401000000004, -118.508847], [37.841924, -122.259968], [33.957169, -118.221223], [34.8761, -82.36461], [25.767325, -80.36883900000002], [33.33459000000001, -87.03625500000004], [38.568247, -121.510798], [37.42063, -77.63723], [28.011148, -82.32791800000003], [25.954399, -80.272859], [47.06843, -122.71235], [25.796816, -80.33015999999998], [37.729924, -122.439969], [28.552775, -81.542149], [33.656594, -84.49775600000002], [43.95245, -92.0547], [45.622261, -121.110116], [28.259994, -81.43746999999998], [38.652005, -122.599782], [37.956609, -120.421543], [35.143793, -85.773707], [34.227889000000005, -117.41378799999998], [32.926097, -96.829712], [25.735975, -80.293984], [34.239264, -117.234763], [41.31258, -81.90731099999998], [47.48705, -92.445025], [42.012127, -71.23294], [45.14549, -122.88658999999998], [38.924282, -76.85391], [33.450418, -112.052045], [45.290677, -111.402877], [42.484441, -73.671087], [44.973295, -93.405686], [37.227366, -79.903102], [33.93583, -118.09295], [38.375838, -121.919086], [34.0708, -117.95713], [43.378458, -71.608642], [45.45333, -122.57263], [45.817741, -95.122858], [38.562923, -121.640828], [25.89176, -80.193692], [25.899771, -80.385645], [30.410048, -87.616394], [30.216044, -81.51378299999998], [41.650382, -93.592926], [40.142877, -74.956585], [43.619401, -116.355803], [30.344659000000004, -97.696729], [37.079726, -94.171532], [35.197668, -80.790503], [39.6798, -86.341698], [34.051558, -117.809947], [38.76042, -120.52901], [32.95122, -96.73415], [47.472649, -121.909369], [40.82483, -73.93104], [37.977944, -122.06131299999998], [42.803968, -74.018036], [40.645776, -75.003737], [35.49080700000001, -78.55232099999998], [30.380841, -97.684539], [44.97019, -93.40071], [33.432411, -112.59398600000002], [37.40444, -77.6643], [36.195998, -115.25168700000002], [30.114051, -90.576492], [32.809441, -96.845956], [39.097055, -94.574821], [38.49291, -121.44275], [30.400531, -97.726775], [27.987240000000003, -82.32656], [44.938897, -93.074941], [37.32939, -121.84177], [42.486157, -73.679896], [40.339389, -78.394678], [38.980073, -76.140439], [34.019284000000006, -84.558702], [41.65034, -93.59341], [38.663467, -121.314285], [29.404081, -98.550764], [37.053747, -120.967149], [42.53394, -85.65959000000002], [43.061298, -76.56444], [35.59058, -82.57329], [41.172219, -79.39944799999998], [25.699864, -80.401292], [33.536445, -117.674615], [33.016844, -80.195707], [44.860836, -93.128539], [36.569055, -121.785564], [32.673971, -117.082928], [30.26544, -97.733584], [36.141797, -86.733467], [45.648831, -121.210889], [41.56755, -78.690472], [38.529921, -122.503015], [34.112473, -117.302452], [40.745074, -111.649433], [32.851176, -96.819282], [44.78833, -93.109736], [41.433487, -72.080528], [40.874515, -74.061251], [33.90437, -118.184719], [47.35426, -122.29663899999998], [33.631190000000004, -84.41099], [30.439404, -91.195895], [38.57530300000001, -77.31434], [43.056031, -83.761078], [29.638669, -95.495394], [41.35844, -75.06259], [32.939825, -96.769857], [45.425587, -118.354526], [38.496008, -121.451268], [34.023855, -118.276334], [25.781429, -80.316536], [25.81605, -80.20566], [26.097445, -80.241714], [44.18057, -121.24452], [42.27231, -83.22180999999998], [38.917461, -76.971603], [29.950840000000003, -90.1006], [41.87583, -87.68088], [34.136392, -117.460603], [40.85867, -73.872662], [35.36542, -97.5797], [33.880225, -118.192127], [34.021685, -118.163383], [37.572158, -121.888664], [33.948788, -118.368223], [35.74592, -78.59324000000002], [45.733692, -111.164456], [30.45613, -84.3449], [34.02958, -118.01783], [42.8707, -78.84508000000002], [35.049183, -85.249172], [34.098979, -118.07952], [25.935124, -80.12176099999998], [44.78439, -93.41336], [41.037873, -111.909688], [27.961698, -82.746137], [36.298482, -119.709251], [44.893244, -93.253389], [42.201239, -87.933136], [37.788471, -122.251227], [37.493181, -120.501426], [41.018592, -77.886491], [37.040906, -76.391694], [32.644553, -96.780234], [33.684891, -117.330225], [38.63175, -90.23596], [35.55363900000001, -82.693759], [26.514947, -81.94807800000002], [39.863559, -104.987465], [32.14133, -110.94349], [33.438723, -112.675781], [45.539408, -93.913819], [41.708709000000006, -87.592986], [39.002541, -78.383614], [41.159117, -111.93974], [43.152297, -77.679085], [38.519442, -121.521715], [38.505684, -90.344398], [28.424607, -81.404785], [36.450737, -119.489632], [30.49296, -91.066354], [32.826809999999995, -117.1176], [41.94214, -71.48066], [38.935879, -94.443508], [26.34537000000001, -80.11799], [38.665298, -77.273658], [28.373507, -81.505363], [35.24588, -80.85054000000002], [38.692718, -77.22640899999998], [34.422794, -118.428636], [33.826206, -118.205369], [34.042851, -118.272885], [39.80309000000001, -75.3455], [36.78633, -119.877086], [26.508879, -81.95595], [25.673589, -80.36782099999998], [29.930099, -90.109555], [30.476156, -91.095753], [28.169261, -82.353521], [30.654008, -85.031931], [37.800543, -122.187423], [33.576582, -117.840272], [41.704064, -77.347928], [34.990637, -85.286837], [25.76861, -80.367676], [32.82938, -117.23301], [40.73377, -74.12228], [37.739335, -121.59082], [38.555563, -121.441143], [25.828457, -80.206293], [37.64106, -121.009283], [39.08914, -76.62509], [35.51922000000001, -97.45936], [34.053178, -118.229234], [43.940097, -85.851658], [41.99728, -87.76719], [32.455184, -80.740688], [30.42262, -91.13505], [38.830559, -77.111211], [29.592216, -82.364622], [35.20395999999999, -80.75038], [44.972463, -93.287572], [37.411055, -77.649831], [37.783493, -121.228859], [38.503405, -121.372173], [34.07833, -81.15296], [34.101844, -118.197548], [34.136520000000004, -117.52068], [45.033637, -92.978031], [34.070744, -81.120236], [47.371619, -92.509045], [34.164784000000004, -80.973393], [38.971863, -76.542917], [33.068842, -117.293228], [45.19988, -122.83247], [40.6908, -73.58076], [33.863819, -118.284851], [39.79645, -86.03541], [42.42893, -87.937288], [33.493969, -112.262133], [37.798539, -122.274743], [42.535212, -73.783833], [42.985026, -85.681803], [45.1819, -123.92029], [33.93092, -118.300335], [36.829982, -76.306715], [34.215584, -82.199865], [27.447751, -82.573305], [35.400424, -82.57019], [42.41797, -83.21895], [36.174381, -121.693016], [45.789821, -118.221263], [33.577940000000005, -84.2766], [43.02599, -123.299657], [44.972089, -93.251328], [38.818912, -76.913317], [41.78419, -72.66055], [45.141017, -93.391971], [45.549769, -122.678796], [32.77833, -97.31978], [35.926689, -78.470268], [26.561991, -80.069939], [37.48008, -77.51061999999997], [32.917064, -117.115797], [36.599589, -76.379731], [38.050731, -122.142545], [32.739694, -117.178778], [29.679369, -95.559084], [30.599788, -85.595673], [40.006651, -75.073737], [30.43909600000001, -91.130257], [44.908105, -93.274632], [29.830179, -95.550072], [39.78143, -104.99143], [34.12373, -118.073077], [39.918778, -86.103646], [42.426851, -122.849789], [36.96685, -119.79265], [36.561008, -119.61271399999998], [35.177328, -106.619166], [32.793111, -96.726914], [41.9117, -88.18469], [40.436536, -79.975086], [30.002676, -90.039355], [33.694228, -81.774058], [44.09861, -121.303605], [36.808461, -119.785426], [36.81841, -121.648211], [34.129519, -117.934259], [39.8646, -75.34782], [35.153388, -118.998018], [27.94057, -82.55112], [28.49398, -81.45909], [33.747102000000005, -117.873399], [42.436569, -83.09506], [27.386917, -82.505708], [32.767522, -96.880832], [44.96066, -93.400814], [40.64037, -111.93882], [44.8896, -93.35018], [40.85399, -73.964857], [32.659681, -96.822903], [38.62445, -90.20641], [47.6932, -122.3766], [38.814111, -84.70863299999998], [44.272981, -121.234399], [38.657706, -121.363441], [42.31552, -88.11128000000002], [25.917983, -80.211853], [25.703367, -80.33425], [35.069035, -89.849849], [32.851135, -96.768602], [33.645789, -117.73989], [34.768992, -120.427483], [34.136592, -117.459286], [33.902268, -118.06223500000002], [30.389265, -97.651955], [40.609431, -74.0354], [35.98087899999999, -78.886781], [25.684604, -80.400559], [40.848858, -73.939127], [25.731925, -80.317114], [28.553138, -81.376642], [30.187585, -81.73947700000002], [34.48466, -86.83], [25.644781, -80.363815], [30.416647, -91.143201], [38.638487, -90.444894], [26.359327, -81.788829], [34.06524, -117.201482], [25.811613, -80.313412], [44.56615, -118.50619], [29.709592, -95.278039], [33.3932, -112.0301], [41.279207, -75.52131700000002], [34.053701000000004, -118.236569], [40.04098, -75.25139], [39.4213, -77.482669], [41.324375, -72.882839], [35.247699, -80.84618499999998], [37.37568, -121.82129], [40.666947, -73.80143100000002], [38.432382, -122.71598600000002], [29.237573, -82.11976899999998], [26.162513, -80.16214000000002], [37.702403, -121.763602], [34.889857, -118.911828], [33.87146, -117.73923], [32.221140000000005, -110.9697], [41.807497, -71.40500899999998], [30.431696, -81.656181], [45.601155, -94.472132], [33.902286, -118.061505], [40.090292, -75.129196], [34.780788, -82.39234499999998], [44.819004, -68.77947900000001], [34.06698, -117.33586], [35.352222, -119.018889], [33.998773, -117.353554], [25.933324, -80.121862], [42.524065, -84.83587], [37.70092800000001, -121.922118], [25.847729, -80.241866], [36.150171, -86.748512], [35.76676, -81.01435], [30.563883, -91.013645], [41.103276, -73.56562199999998], [35.405641, -75.48885200000002], [44.26965, -117.19777], [34.067265, -117.801837], [34.982625, -90.907713], [34.030433, -117.611946], [29.120598, -82.05730600000003], [25.686109, -80.365882], [34.0873, -117.68409], [30.501003000000004, -84.259438], [40.30735, -75.9002], [38.89114, -76.853695], [44.912109, -93.064197], [33.16016, -111.87439], [37.53893, -122.06911], [32.800269, -117.112435], [33.876092, -118.125184], [28.482248, -81.396664], [34.136051, -117.321421], [34.018207000000004, -118.105791], [28.37171, -81.40177], [26.051276, -80.352705], [36.209318, -86.776127], [34.293231, -81.546081], [28.565733, -81.182323], [36.753797, -119.844293], [37.49929, -121.956979], [32.71378, -117.11789], [37.730151, -121.547359], [43.77666, -95.351632], [38.536517, -77.353537], [40.765038, -74.023979], [28.50548400000001, -81.422415], [37.610031, -77.533687], [45.66013, -94.68661], [35.04059, -85.169336], [45.686033, -110.50361], [34.786198, -82.280968], [34.134998, -117.626222], [40.625821, -111.902693], [41.539574, -73.76942700000002], [41.089837, -74.04057900000002], [34.087469, -117.646949], [45.557811, -122.67849], [37.160989, -121.661492], [38.117674, -122.288276], [32.763193, -97.317656], [26.331932, -80.117417], [47.653285, -122.187258], [43.053635, -85.951061], [41.12898, -78.762569], [39.49346, -76.83076], [39.95401, -74.16207], [26.05699, -80.16263000000002], [34.220434000000004, -79.825987], [33.718633000000004, -117.970115], [44.970072, -93.31645], [25.687316, -80.384433], [25.920771, -80.210312], [29.973825, -95.421012], [35.01082, -86.879657], [37.58991, -77.46942], [26.441949, -81.811087], [41.68287, -81.33943000000002], [36.150735, -86.77060999999998], [33.678684999999994, -78.99868199999997], [44.861243, -93.16742], [33.83125, -118.25534], [27.714987, -82.335275], [33.854005, -117.95924], [33.77255, -117.87108], [28.494091, -81.42615500000002], [28.73281, -81.30794], [25.944221, -80.20534], [34.09718, -80.856199], [32.78792, -97.26042], [40.076011, -78.351563], [35.240803, -118.587], [34.8522, -82.45165], [43.91382700000001, -123.01304], [33.35723, -80.58935], [35.255871, -80.743605], [42.66634000000001, -88.98334], [40.550847, -78.919558], [34.282397, -118.761681], [32.909484, -96.724929], [37.326369, -120.504704], [37.467273, -77.59415], [42.460283, -92.268417], [39.446521, -76.330792], [25.92668, -80.23285], [34.4504, -119.276064], [36.10989, -115.1805], [38.294595, -85.757163], [36.866022, -76.269297], [33.718636, -78.958148], [35.798606, -78.564729], [38.643489, -121.38314], [39.54453, -76.66646], [33.935228, -118.09248], [35.14532, -80.89929000000002], [33.457907, -112.335129], [40.532725, -121.620483], [42.183939, -122.665499], [32.87062, -96.89757], [41.672036, -74.791761], [35.103946, -106.709893], [40.489468, -122.327926], [24.765018, -80.94744399999998], [27.857878000000003, -82.326735], [40.830182, -73.849962], [35.19546500000001, -80.826769], [33.944186, -118.095226], [42.854766, -71.31819899999998], [33.873238, -118.206629], [39.65303, -104.94065], [36.263927, -86.69029300000004], [35.499433, -119.076637], [38.081719, -78.473853], [34.020549, -117.814742], [28.525087, -81.444142], [36.968753, -76.416285], [40.5438, -74.29384], [34.084534999999995, -80.93789100000002], [38.172941, -78.28283], [33.856144, -117.998708], [38.274489, -122.672942], [32.934253000000005, -96.75304], [34.06806, -118.03069], [33.7878, -117.8184], [38.818969, -122.69682], [38.010931, -122.112707], [45.562666, -122.571283], [29.940351, -95.381999], [38.55521, -121.40331], [34.197844, -117.4183], [33.871331, -118.352417], [33.763971000000005, -117.864974], [32.30729, -84.70653], [35.852229, -78.5809], [42.439638, -83.219622], [29.723147, -95.694264], [34.166940000000004, -118.2999], [38.240036, -78.963903], [36.204051, -121.137354], [39.00612, -77.03899], [42.740175, -73.688671], [28.461397, -80.83133199999997], [34.068279, -117.975327], [32.838142, -97.060902], [37.472271, -120.844636], [43.21344600000001, -117.048087], [33.417157, -101.826322], [41.28806, -72.53188], [45.094681, -93.290115], [34.167963, -118.588107], [30.50317, -83.76139], [34.134937, -117.642981], [34.433736, -118.385746], [25.889187, -80.21077199999998], [38.774989, -121.26128500000002], [40.68933, -73.63589], [39.443874, -77.989438], [33.001315000000005, -80.097404], [36.580492, -121.903427], [37.57598, -121.88112], [33.91832, -118.37047], [33.875237, -117.26532], [37.71072, -113.069], [25.760882, -80.39381800000002], [32.648027, -117.060937], [34.303383000000004, -118.479548], [36.142198, -86.710213], [43.129849, -77.525257], [38.299611, -77.110512], [39.13421, -94.4991], [33.76605, -117.92581], [29.64867000000001, -95.57139], [39.150557, -120.898399], [32.38028, -90.14703], [33.616170000000004, -84.44304], [38.913977, -122.68733], [34.17077800000001, -118.605709], [32.952207, -117.103028], [35.701182, -78.58138100000002], [40.089136, -75.382603], [39.038275, -94.556804], [33.865742, -117.313889], [39.575631, -106.112545], [34.154720000000005, -118.64925], [37.919515, -81.270257], [42.36904000000001, -83.21644], [35.028240999999994, -81.950051], [43.167593, -77.593941], [43.66786, -123.44823], [28.055796, -81.77946999999998], [38.757, -112.08487], [39.752773, -86.032208], [34.186609999999995, -118.40127], [25.913265, -80.210317], [28.518452000000003, -81.296446], [34.080009999999994, -117.737414], [36.898617, -76.139274], [40.868335, -124.134982], [41.56727, -87.31765], [25.866897, -80.18543299999997], [40.046753, -75.76416800000001], [41.610658, -90.753575], [34.032878000000004, -118.263146], [44.094281, -121.304003], [38.986479, -94.502449], [29.724466, -95.389416], [34.04965, -118.44876], [25.911608, -80.250191], [34.822429, -82.256451], [34.062096000000004, -117.193003], [33.894649, -118.326516], [40.005934, -75.259877], [34.29334, -118.846031], [34.071812, -117.883921], [45.578999, -122.122129], [34.029709999999994, -118.224728], [37.94612, -122.05799], [39.098351, -121.625756], [41.83972, -87.99069], [34.970716, -85.193749], [32.77963, -117.097316], [28.481623, -81.330857], [44.32907, -94.19067], [39.256521, -76.676512], [25.928132, -80.293405], [42.438831, -87.854799], [30.610264, -81.646867], [40.187744, -111.631065], [39.840525, -75.097247], [33.973593, -118.078985], [33.74857, -84.38396999999998], [34.12015, -117.78339], [43.15774, -77.6732], [37.369834, -121.92643], [38.574236, -121.40739], [39.69979, -86.10714], [41.491939, -73.803678], [45.66947, -123.17128], [25.839902, -80.315701], [35.43433, -118.932033], [40.665346, -73.568218], [34.012370000000004, -117.073047], [28.506784000000003, -81.818495], [33.927865999999995, -118.217079], [40.75211, -73.74691], [36.21863, -115.298423], [35.697015, -84.427431], [38.512193, -121.464565], [27.267909000000003, -82.497547], [43.620562, -116.210994], [32.634957, -117.0983], [37.73952, -121.153129], [47.749016, -122.187206], [42.28299000000001, -87.95335], [35.21773, -80.81459], [43.158335, -77.59920600000002], [30.400657, -91.025612], [41.81013, -88.05958000000004], [41.87556, -87.66337], [31.77804, -106.45442], [36.749241, -119.799416], [37.472515, -113.223449], [39.105716, -94.704927], [42.31732, -83.44283], [38.663875, -121.357251], [34.050075, -118.175726], [45.288846, -92.985679], [40.641937, -74.142225], [44.96581, -93.25344], [40.594283, -74.290756], [42.681331, -73.838324], [25.848493, -80.20930200000002], [32.77383, -117.06829], [39.45215, -74.72755], [36.721195, -120.38716200000002], [38.996068, -112.32008799999998], [42.38665, -83.43139000000002], [33.9561, -118.10945], [39.996135, -75.745205], [35.84414500000001, -78.680541], [34.134749, -117.62437], [33.891333, -118.36176], [28.428143, -81.405668], [30.42863, -91.060703], [25.73318900000001, -80.36776400000002], [25.671695, -80.416505], [40.328874, -111.636787], [28.398361, -81.404687], [41.25957, -76.969981], [38.976455, -76.993117], [43.84911, -93.83663], [33.749559999999995, -118.2617], [37.700775, -121.80925], [42.896518, -85.678034], [41.670576, -78.738618], [34.17365, -118.553377], [39.85073, -94.17823], [33.877125, -118.188718], [32.228931, -110.876143], [33.844327, -80.648875], [32.79770300000001, -96.818213], [37.84705200000001, -77.985516], [37.389508, -120.686283], [33.878153000000005, -117.88046], [40.72639, -73.76406999999998], [45.69556, -121.34789], [32.22148, -110.9266], [34.795674, -118.858202], [31.291674, -81.491922], [43.95232, -92.06064], [40.85153, -73.95233], [40.77964, -73.66210799999998], [38.46681, -122.7277], [42.96127, -88.03998], [42.42893, -87.93791], [33.863222, -117.539192], [33.773671, -84.39004], [40.121021, -75.35815600000002], [43.148374, -123.374618], [45.127564, -123.116888], [30.43420200000001, -91.179235], [33.971129, -117.847014], [32.604367, -117.090065], [36.665878, -82.059562], [42.872289, -78.789879], [33.556927, -117.679022], [30.34748, -97.676956], [33.896198, -118.190132], [30.35671, -90.990382], [37.238336, -77.39549699999998], [42.736505, -83.38025400000002], [29.928578, -95.399455], [45.55412000000001, -118.46416], [45.390476, -92.83952], [34.133203, -117.986352], [35.49999099999999, -119.332369], [28.570261, -81.365342], [39.206522, -76.600803], [34.23135, -118.26743], [33.810186, -118.290254], [47.836109, -122.211775], [25.833295, -80.205736], [25.909131, -80.210222], [35.219419, -80.800585], [47.087932, -122.645511], [38.784154, -121.279548], [39.453237, -77.334644], [35.033501, -80.970836], [24.859981, -80.721701], [33.424204, -86.815348], [36.834336, -76.210392], [26.084068, -80.197013], [34.09078, -118.305967], [41.096755, -121.299581], [43.017935, -83.4979], [35.22913, -80.83142], [38.252909, -90.402466], [35.77984199999999, -78.645983], [40.862671, -73.974777], [34.05311, -118.96299], [34.061619, -118.164106], [43.75978, -124.12285], [38.05912, -100.48169], [33.392136, -112.133669], [39.63482, -107.099028], [38.943229, -122.80481100000002], [26.70412, -81.749151], [27.377282, -81.795876], [42.86901, -85.55346], [29.899091, -82.54717], [30.023897, -89.988926], [30.427287, -86.631881], [33.910225, -117.269234], [43.53402, -123.295729], [34.118786, -117.25874], [34.982625, -90.907713], [36.709688, -119.784332], [33.981659, -118.088411], [34.733995, -82.296062], [42.778542, -74.06825699999997], [33.97375, -118.38159], [33.049095, -117.287307], [33.929672, -118.225625], [36.17133, -86.68888000000004], [25.689146, -80.38287199999998], [36.786069, -119.701958], [39.267164, -94.442263], [32.719001, -97.320471], [46.5644, -94.30664], [48.414119, -122.331551], [39.90018, -74.84403], [33.62894, -84.40039], [37.71305, -122.17053], [39.37512, -76.510069], [41.88615, -87.64631], [34.043048, -118.217241], [33.95384, -118.17076000000002], [47.99212, -122.18131], [35.29810900000001, -80.73803199999998], [33.8229, -84.49195], [46.86385, -95.99806], [39.00262, -93.80601], [37.765236, -122.404898], [42.927627, -85.67071700000002], [29.826017, -95.476447], [42.29045900000001, -71.542262], [35.456034, -78.137786], [37.550121, -77.43570600000002], [29.612823, -82.818334], [25.890404, -80.183516], [35.113377, -85.047781], [30.311182, -81.52399399999999], [30.269173, -97.6966], [33.751298, -84.45037099999998], [30.394545, -97.746595], [38.90646, -77.04168], [38.6839, -121.540233], [26.613009, -81.79341600000002], [45.41164000000001, -122.74385], [37.98138, -122.521878], [37.35405, -77.49429], [28.331208, -82.67232], [33.928931, -118.281073], [41.751952, -87.97259100000002], [27.771513, -82.335103], [37.47052, -122.1582], [45.533653, -122.592764], [35.72152, -91.099437], [33.63152, -117.17105], [36.168927, -86.775552], [45.27743, -122.771854], [33.52255, -112.35814], [34.092068, -118.206331], [35.121666999999995, -118.987778], [33.5461, -86.82781700000002], [25.761071, -80.410208], [35.089594, -89.87092700000002], [40.640519, -73.877531], [38.874767, -77.28289699999998], [34.535592, -117.988156], [33.943225, -118.291574], [29.39609, -98.50151], [39.101704, -122.115172], [34.008594, -80.42983199999998], [35.72731, -81.563784], [34.08302, -117.69505], [38.208477, -122.256329], [43.65588, -84.240835], [40.553425, -74.31745699999998], [26.351491, -80.118173], [33.63903, -117.73038], [46.858244, -105.11498799999998], [32.719179, -117.102644], [37.790323, -120.762441], [34.011126000000004, -117.822592], [33.722107, -117.838054], [30.433791, -87.27565799999998], [40.581747, -74.618829], [33.866761, -117.711461], [28.332796, -81.494427], [45.03181, -93.046677], [25.518147, -80.40643299999998], [36.048307, -86.654786], [36.133571, -86.72709300000002], [29.246966, -82.20405500000003], [35.24172, -80.84956], [33.305608, -79.95425300000002], [37.82715200000001, -121.108066], [27.748463, -82.644535], [38.22398, -85.73016], [47.45328, -122.26422], [28.65759000000001, -81.388789], [25.731434, -80.335678], [40.529047, -74.34957800000002], [33.856655, -117.973663], [35.844823, -78.569304], [35.392949, -79.245971], [38.537942, -112.609732], [41.325407, -74.11234499999998], [34.73543, -92.17021], [25.672423, -80.400222], [29.77728, -95.42233], [38.502295, -121.423336], [41.65319, -93.57577], [34.615798, -82.98100600000002], [41.150107, -122.31333], [25.72664, -80.367489], [33.770044, -117.980959], [35.292372, -118.752596], [45.542439, -122.484029], [32.879436, -96.770033], [28.507165000000004, -81.228358], [33.310546, -84.115861], [43.149936, -71.503873], [34.026438, -118.250424], [30.224976, -97.7034], [29.668743, -95.357585], [35.200418, -80.764094], [34.06651, -117.21341], [36.217528, -86.837299], [34.087151, -117.680551], [38.63832, -77.66657], [34.928657, -82.343855], [47.24009, -122.40262], [34.977209, -82.120986], [41.74979, -88.06395], [36.213487, -86.731208], [34.1546, -118.820822], [37.613866, -120.982213], [39.453216, -76.317451], [40.015571, -83.032958], [45.101777, -123.699683], [36.170267, -86.80341800000002], [37.371565, -77.41829], [26.575244, -81.698706], [39.70372, -119.098845], [34.07382, -118.219275], [38.806445, -76.990437], [25.941563, -80.189584], [39.724652, -86.04757], [42.240271, -87.924751], [32.749568, -96.920474], [29.938801, -90.048179], [36.862639, -121.582656], [30.378556, -97.609619], [41.831349, -96.463081], [33.902075, -118.105066], [36.890912, -119.792572], [41.65894, -93.52864], [38.601169, -121.505447], [45.224136, -93.605736], [27.950195, -82.524091], [35.268806, -120.673023], [36.081061, -79.477117], [35.73959, -78.80514000000002], [39.491804, -77.562628], [38.97564000000001, -76.896647], [34.00416, -117.35017], [33.907861, -118.232908], [34.067399, -117.571285], [37.725078, -120.922025], [45.68333, -123.19722], [25.695959, -80.29985500000002], [39.337152, -78.05224399999999], [35.223122, -114.236022], [37.249993, -93.224347], [37.863905, -122.303047], [26.32607, -81.74906], [27.666716, -82.432068], [33.765983, -117.961098], [42.203356, -71.10874100000002], [39.034386, -77.409749], [44.55565, -123.04903], [34.097667, -117.301679], [40.84507, -73.91626], [37.736456, -122.140128], [35.066821999999995, -81.94847800000002], [30.398904, -97.845039], [39.90293, -75.11588], [45.72925, -122.55234], [42.250036, -87.9015], [41.658889, -122.568333], [46.13141, -108.458301], [34.397156, -82.463188], [40.466244, -75.867088], [41.584546, -72.648229], [35.25351, -81.5657], [32.30999, -111.02924], [32.332943, -83.766875], [34.017152, -118.482431], [29.586, -98.63154], [32.445693, -93.756795], [40.315886, -74.656883], [32.663499, -96.823477], [39.375, -76.751094], [29.226669, -81.105333], [25.763459, -80.26325], [25.867536, -80.255659], [39.048279, -77.11342900000002], [32.471112, -90.13646], [25.813648, -80.134167], [41.409399, -120.128843], [45.282865, -94.546612], [42.45073, -82.91723], [42.63076, -73.77942], [39.092989, -94.487561], [44.65702, -93.67529], [28.539165, -81.475864], [40.49227, -111.89114], [40.7321, -73.91906], [48.42515, -122.61589], [34.172007, -118.47219], [39.45713, -76.65094], [37.903786, -122.070389], [41.4109, -81.64424], [38.061663, -78.648677], [33.955961, -81.236804]],\n",
              "                {&quot;blur&quot;: 15, &quot;maxZoom&quot;: 18, &quot;minOpacity&quot;: 0.5, &quot;radius&quot;: 25}\n",
              "            ).addTo(map_bb9579e7e6e5fbbcdd067713be67cda5);\n",
              "        \n",
              "&lt;/script&gt;\n",
              "&lt;/html&gt;\" style=\"position:absolute;width:100%;height:100%;left:0;top:0;border:none !important;\" allowfullscreen webkitallowfullscreen mozallowfullscreen></iframe></div></div>"
            ]
          },
          "metadata": {},
          "execution_count": 101
        }
      ]
    },
    {
      "cell_type": "code",
      "source": [],
      "metadata": {
        "id": "fxL_7csDiRLv"
      },
      "execution_count": null,
      "outputs": []
    },
    {
      "cell_type": "code",
      "source": [],
      "metadata": {
        "id": "KSxdtcaNgq05"
      },
      "execution_count": null,
      "outputs": []
    }
  ]
}